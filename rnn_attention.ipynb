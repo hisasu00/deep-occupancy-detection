{
 "cells": [
  {
   "cell_type": "markdown",
   "id": "c7eb3670-671e-4709-bc95-bc6301474bda",
   "metadata": {},
   "source": [
    "# Import Object"
   ]
  },
  {
   "cell_type": "code",
   "execution_count": 177,
   "id": "d0bf2fa1-eeaf-425c-b843-0b25bd96dc9e",
   "metadata": {},
   "outputs": [],
   "source": [
    "import pandas as pd\n",
    "import torch\n",
    "from torch import nn\n",
    "from torch import optim\n",
    "from torch.utils.data import TensorDataset, DataLoader\n",
    "from sklearn.model_selection import train_test_split\n",
    "import torch.nn.functional as F\n",
    "from sklearn import preprocessing\n",
    "\n",
    "from models import AttentionRNN\n",
    "from train_model import train_timeseries_net"
   ]
  },
  {
   "cell_type": "code",
   "execution_count": 184,
   "id": "aed8ff76-b4d4-4de1-ad8f-cec603e225c8",
   "metadata": {},
   "outputs": [],
   "source": [
    "# load\n",
    "%load_ext pycodestyle_magic"
   ]
  },
  {
   "cell_type": "code",
   "execution_count": 178,
   "id": "f48de273-0d80-493a-b33f-fa9c3e3a46fc",
   "metadata": {},
   "outputs": [],
   "source": [
    "device = torch.device(\"cuda\" if torch.cuda.is_available() else \"cpu\")"
   ]
  },
  {
   "cell_type": "markdown",
   "id": "75cec094-bde7-4ba4-a6e1-e6be278aea5c",
   "metadata": {},
   "source": [
    "# Prepare Data"
   ]
  },
  {
   "cell_type": "code",
   "execution_count": 198,
   "id": "1ececdbd-d3ae-4162-be3b-cc31419c354e",
   "metadata": {},
   "outputs": [],
   "source": [
    "train_x = pd.read_csv(\"./data/win2_X_train.csv\").values\n",
    "train_y = pd.read_csv(\"./data/win2_Y_train.csv\").values.reshape(-1)\n",
    "\n",
    "ss = preprocessing.StandardScaler()\n",
    "train_x = ss.fit_transform(train_x)\n",
    "\n",
    "num_days = int(train_x.shape[0] / 16)\n",
    "train_x = train_x.reshape(num_days, 16, 8)\n",
    "train_y = train_y.reshape(num_days, 16, 1)\n",
    "train_x, test_x, train_y, test_y = train_test_split(train_x,\n",
    "                                                    train_y,\n",
    "                                                    test_size=0.2,\n",
    "                                                    shuffle=False)\n",
    "\n",
    "train_x = torch.tensor(train_x, dtype=torch.float32)\n",
    "train_y = torch.tensor(train_y, dtype=torch.int64)\n",
    "test_x = torch.tensor(test_x, dtype=torch.float32)\n",
    "test_y = torch.tensor(test_y, dtype=torch.int64)\n",
    "\n",
    "train_x = train_x.to(device)\n",
    "train_y = train_y.to(device)\n",
    "test_x = test_x.to(device)\n",
    "test_y = test_y.to(device)\n",
    "\n",
    "train_ds = TensorDataset(train_x, train_y)\n",
    "train_loader = DataLoader(train_ds, batch_size=6, shuffle=True)"
   ]
  },
  {
   "cell_type": "markdown",
   "id": "0c0b59df-be09-45e1-8483-6416194613e4",
   "metadata": {},
   "source": [
    "# Set Free Parameters"
   ]
  },
  {
   "cell_type": "code",
   "execution_count": 180,
   "id": "602070e9-c806-4244-af92-2f7e055af31e",
   "metadata": {},
   "outputs": [],
   "source": [
    "input_size = 8\n",
    "num_layers = 1\n",
    "hidden_size = 16\n",
    "num_classes = 2\n",
    "learning_rate = 0.005\n",
    "num_epochs = 55"
   ]
  },
  {
   "cell_type": "markdown",
   "id": "6ed01196-81be-42a8-9bc7-3c64f3199762",
   "metadata": {},
   "source": [
    "# Instantiate Model, Criterion, Optimizer"
   ]
  },
  {
   "cell_type": "code",
   "execution_count": 181,
   "id": "ba9f539d-32e5-43f4-bcad-c04782facca7",
   "metadata": {},
   "outputs": [],
   "source": [
    "model = AttentionRNN(input_size, hidden_size,\n",
    "                     num_layers, num_classes, 0.5).to(device)\n",
    "criterion = nn.CrossEntropyLoss()\n",
    "optimizer = optim.Adam(model.parameters(), lr=learning_rate)"
   ]
  },
  {
   "cell_type": "markdown",
   "id": "cb0fab1a-1768-49e2-be45-6e5abfa62296",
   "metadata": {},
   "source": [
    "# Training"
   ]
  },
  {
   "cell_type": "code",
   "execution_count": 182,
   "id": "e03573db-9770-481a-ac8a-c0023b711224",
   "metadata": {},
   "outputs": [
    {
     "data": {
      "image/png": "[encoded data removed]",
      "text/plain": [
       "<Figure size 432x288 with 1 Axes>"
      ]
     },
     "metadata": {
      "needs_background": "light"
     },
     "output_type": "display_data"
    }
   ],
   "source": [
    "model = train_timeseries_net(model, criterion, optimizer,\n",
    "                             num_epochs, train_loader, test_x,\n",
    "                             test_y, device)"
   ]
  },
  {
   "cell_type": "markdown",
   "id": "4248eab2-5ada-477d-926c-3dadae20ac52",
   "metadata": {},
   "source": [
    "# Accuracy"
   ]
  },
  {
   "cell_type": "code",
   "execution_count": 183,
   "id": "3351a28d-3cc5-4712-bc61-2725d41881ef",
   "metadata": {},
   "outputs": [
    {
     "name": "stdout",
     "output_type": "stream",
     "text": [
      "tensor(0.8750, device='cuda:0')\n"
     ]
    }
   ],
   "source": [
    "score_y = model(test_x, device).reshape(-1, 2)\n",
    "_, pred_y = score_y.max(1)\n",
    "test_y = test_y.reshape(-1)\n",
    "print(sum(pred_y == test_y) / int(test_y.shape[0]))"
   ]
  }
 ],
 "metadata": {
  "kernelspec": {
   "display_name": "Python 3 (ipykernel)",
   "language": "python",
   "name": "python3"
  },
  "language_info": {
   "codemirror_mode": {
    "name": "ipython",
    "version": 3
   },
   "file_extension": ".py",
   "mimetype": "text/x-python",
   "name": "python",
   "nbconvert_exporter": "python",
   "pygments_lexer": "ipython3",
   "version": "3.8.8"
  }
 },
 "nbformat": 4,
 "nbformat_minor": 5
}
