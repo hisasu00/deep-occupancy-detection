{
 "cells": [
  {
   "cell_type": "code",
   "execution_count": 11,
   "id": "cec66778-7979-48e8-a61e-3d490c624967",
   "metadata": {},
   "outputs": [
    {
     "name": "stdout",
     "output_type": "stream",
     "text": [
      "out.shape: torch.Size([100, 15, 1])\n"
     ]
    }
   ],
   "source": [
    "import torch\n",
    "import models\n",
    "device = torch.device(\"cuda\")\n",
    "\n",
    "N = 100\n",
    "T = 15\n",
    "enc_input_size = 10\n",
    "dec_input_size = 1\n",
    "\n",
    "x = torch.randn((N, T, enc_input_size)).to(device)\n",
    "y = torch.ones((N, T, dec_input_size)).to(device)\n",
    "\n",
    "model = models.Transformer(enc_input_size, dec_input_size, hidden_size=100, extend_dimension=20,\n",
    "                           num_heads=10, dropout_ratio=0.5, device=device, max_sequence=15, output_size=1).to(device)\n",
    "print(f\"out.shape: {model(x, y).shape}\")"
   ]
  }
 ],
 "metadata": {
  "kernelspec": {
   "display_name": "Python 3 (ipykernel)",
   "language": "python",
   "name": "python3"
  },
  "language_info": {
   "codemirror_mode": {
    "name": "ipython",
    "version": 3
   },
   "file_extension": ".py",
   "mimetype": "text/x-python",
   "name": "python",
   "nbconvert_exporter": "python",
   "pygments_lexer": "ipython3",
   "version": "3.8.8"
  }
 },
 "nbformat": 4,
 "nbformat_minor": 5
}
