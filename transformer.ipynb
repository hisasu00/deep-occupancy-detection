{
 "cells": [
  {
   "cell_type": "code",
   "execution_count": 8,
   "id": "cec66778-7979-48e8-a61e-3d490c624967",
   "metadata": {},
   "outputs": [
    {
     "name": "stdout",
     "output_type": "stream",
     "text": [
      "Transformer outputs shape of : torch.Size([100, 15, 1])\n",
      "Loss :0.6811519265174866\n"
     ]
    }
   ],
   "source": [
    "# Import Module\n",
    "import torch\n",
    "from torch import nn, optim\n",
    "import models\n",
    "device = torch.device(\"cpu\")\n",
    "\n",
    "# Set Free Params\n",
    "N = 100\n",
    "T = 15\n",
    "enc_input_size = 10\n",
    "dec_input_size = 1\n",
    "\n",
    "# Load Data\n",
    "x = torch.randn((N, T, enc_input_size)).to(device)\n",
    "y = torch.ones((N, T, dec_input_size)).to(device)\n",
    "\n",
    "# Instantiate Model, Criterion, Optimizer\n",
    "model = models.Transformer(enc_input_size, dec_input_size, hidden_size=100, extend_dimension=20,\n",
    "                           num_heads=10, dropout_ratio=0.5, device=device, max_sequence=15, output_size=1).to(device)\n",
    "criterion = nn.BCELoss()\n",
    "optimizer = optim.Adam(model.parameters())\n",
    "\n",
    "# Forward\n",
    "out = model(x, y)\n",
    "print(f\"Transformer outputs shape of : {out.shape}\")\n",
    "out = torch.sigmoid(out).reshape(-1)\n",
    "y = y.reshape(-1)\n",
    "\n",
    "# Backward\n",
    "loss = criterion(out, y)\n",
    "loss.backward()\n",
    "print(f\"Loss :{loss.item()}\")\n",
    "\n",
    "# Updata Params\n",
    "optimizer.step()"
   ]
  }
 ],
 "metadata": {
  "kernelspec": {
   "display_name": "Python 3 (ipykernel)",
   "language": "python",
   "name": "python3"
  },
  "language_info": {
   "codemirror_mode": {
    "name": "ipython",
    "version": 3
   },
   "file_extension": ".py",
   "mimetype": "text/x-python",
   "name": "python",
   "nbconvert_exporter": "python",
   "pygments_lexer": "ipython3",
   "version": "3.8.8"
  }
 },
 "nbformat": 4,
 "nbformat_minor": 5
}
