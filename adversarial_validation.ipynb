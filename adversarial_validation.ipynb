{
 "cells": [
  {
   "cell_type": "markdown",
   "id": "527eaa70-f5c1-459b-afeb-1111d12c25ed",
   "metadata": {},
   "source": [
    "# Import Modules"
   ]
  },
  {
   "cell_type": "code",
   "execution_count": 1,
   "id": "f76e8c45-6f57-4217-93ec-ae9ed32d30e9",
   "metadata": {},
   "outputs": [],
   "source": [
    "import pandas as pd\n",
    "from sklearn import preprocessing\n",
    "from sklearn.linear_model import LogisticRegression"
   ]
  },
  {
   "cell_type": "markdown",
   "id": "71f14e8a-f0ea-45ef-a9ba-b8c2fafe7aaa",
   "metadata": {},
   "source": [
    "# Prepare Data"
   ]
  },
  {
   "cell_type": "code",
   "execution_count": 2,
   "id": "2919d1ce-b013-438a-8a14-367bb53aee57",
   "metadata": {},
   "outputs": [],
   "source": [
    "source_x = pd.read_csv(\"./data/2_X_train.csv\")\n",
    "source_y = pd.read_csv(\"./data/2_Y_train.csv\")\n",
    "source_x_y = pd.concat([source_x, source_y], axis=1)\n",
    "source_x_y[\"Domain\"] = 1\n",
    "\n",
    "target_x = pd.read_csv(\"./data/5_X_train.csv\")\n",
    "target_y = pd.read_csv(\"./data/5_Y_train.csv\")\n",
    "target_x_y = pd.concat([target_x, target_y], axis=1)\n",
    "target_x_y[\"Domain\"] = 0\n",
    "\n",
    "num_for_domain = 900\n",
    "data_for_domain = pd.concat([source_x_y, target_x_y[:num_for_domain]], axis=0)\n",
    "data_for_task = target_x_y[num_for_domain:]\n",
    "data_for_task = data_for_task.drop(columns=\"Domain\")"
   ]
  },
  {
   "cell_type": "code",
   "execution_count": 3,
   "id": "31438c96-6b37-4978-8a1a-f8f8d11055d7",
   "metadata": {},
   "outputs": [
    {
     "data": {
      "text/html": [
       "<div>\n",
       "<style scoped>\n",
       "    .dataframe tbody tr th:only-of-type {\n",
       "        vertical-align: middle;\n",
       "    }\n",
       "\n",
       "    .dataframe tbody tr th {\n",
       "        vertical-align: top;\n",
       "    }\n",
       "\n",
       "    .dataframe thead th {\n",
       "        text-align: right;\n",
       "    }\n",
       "</style>\n",
       "<table border=\"1\" class=\"dataframe\">\n",
       "  <thead>\n",
       "    <tr style=\"text-align: right;\">\n",
       "      <th></th>\n",
       "      <th>Ratio</th>\n",
       "      <th>Mean</th>\n",
       "      <th>Max</th>\n",
       "      <th>Min</th>\n",
       "      <th>Std</th>\n",
       "      <th>Range</th>\n",
       "      <th>Lag-1_Ratio</th>\n",
       "      <th>Lag+1_Ratio</th>\n",
       "      <th>Season</th>\n",
       "      <th>Sunday</th>\n",
       "      <th>Am</th>\n",
       "      <th>Lunch</th>\n",
       "      <th>Pm</th>\n",
       "      <th>Occupancy</th>\n",
       "      <th>Domain</th>\n",
       "    </tr>\n",
       "  </thead>\n",
       "  <tbody>\n",
       "    <tr>\n",
       "      <th>0</th>\n",
       "      <td>0.094933</td>\n",
       "      <td>2.878349e+05</td>\n",
       "      <td>380827.893</td>\n",
       "      <td>194841.812</td>\n",
       "      <td>92993.0405</td>\n",
       "      <td>185986.081</td>\n",
       "      <td>0.222852</td>\n",
       "      <td>0.045902</td>\n",
       "      <td>1</td>\n",
       "      <td>0</td>\n",
       "      <td>1</td>\n",
       "      <td>0</td>\n",
       "      <td>0</td>\n",
       "      <td>1</td>\n",
       "      <td>1</td>\n",
       "    </tr>\n",
       "    <tr>\n",
       "      <th>1</th>\n",
       "      <td>0.045902</td>\n",
       "      <td>1.391734e+05</td>\n",
       "      <td>155853.417</td>\n",
       "      <td>122493.428</td>\n",
       "      <td>16679.9945</td>\n",
       "      <td>33359.989</td>\n",
       "      <td>0.094933</td>\n",
       "      <td>0.049253</td>\n",
       "      <td>1</td>\n",
       "      <td>0</td>\n",
       "      <td>1</td>\n",
       "      <td>0</td>\n",
       "      <td>0</td>\n",
       "      <td>0</td>\n",
       "      <td>1</td>\n",
       "    </tr>\n",
       "    <tr>\n",
       "      <th>2</th>\n",
       "      <td>0.049253</td>\n",
       "      <td>1.493353e+05</td>\n",
       "      <td>158295.543</td>\n",
       "      <td>140374.991</td>\n",
       "      <td>8960.2760</td>\n",
       "      <td>17920.552</td>\n",
       "      <td>0.045902</td>\n",
       "      <td>0.069265</td>\n",
       "      <td>1</td>\n",
       "      <td>0</td>\n",
       "      <td>1</td>\n",
       "      <td>0</td>\n",
       "      <td>0</td>\n",
       "      <td>0</td>\n",
       "      <td>1</td>\n",
       "    </tr>\n",
       "    <tr>\n",
       "      <th>3</th>\n",
       "      <td>0.069265</td>\n",
       "      <td>1.500626e+05</td>\n",
       "      <td>168052.597</td>\n",
       "      <td>132072.549</td>\n",
       "      <td>17990.0240</td>\n",
       "      <td>35980.048</td>\n",
       "      <td>0.049253</td>\n",
       "      <td>0.082001</td>\n",
       "      <td>1</td>\n",
       "      <td>0</td>\n",
       "      <td>1</td>\n",
       "      <td>0</td>\n",
       "      <td>0</td>\n",
       "      <td>0</td>\n",
       "      <td>1</td>\n",
       "    </tr>\n",
       "    <tr>\n",
       "      <th>4</th>\n",
       "      <td>0.082001</td>\n",
       "      <td>1.582039e+05</td>\n",
       "      <td>170529.816</td>\n",
       "      <td>145877.968</td>\n",
       "      <td>12325.9240</td>\n",
       "      <td>24651.848</td>\n",
       "      <td>0.069265</td>\n",
       "      <td>0.066992</td>\n",
       "      <td>1</td>\n",
       "      <td>0</td>\n",
       "      <td>1</td>\n",
       "      <td>0</td>\n",
       "      <td>0</td>\n",
       "      <td>0</td>\n",
       "      <td>1</td>\n",
       "    </tr>\n",
       "    <tr>\n",
       "      <th>...</th>\n",
       "      <td>...</td>\n",
       "      <td>...</td>\n",
       "      <td>...</td>\n",
       "      <td>...</td>\n",
       "      <td>...</td>\n",
       "      <td>...</td>\n",
       "      <td>...</td>\n",
       "      <td>...</td>\n",
       "      <td>...</td>\n",
       "      <td>...</td>\n",
       "      <td>...</td>\n",
       "      <td>...</td>\n",
       "      <td>...</td>\n",
       "      <td>...</td>\n",
       "      <td>...</td>\n",
       "    </tr>\n",
       "    <tr>\n",
       "      <th>1563</th>\n",
       "      <td>0.047140</td>\n",
       "      <td>1.304723e+05</td>\n",
       "      <td>132273.838</td>\n",
       "      <td>128670.815</td>\n",
       "      <td>1801.5115</td>\n",
       "      <td>3603.023</td>\n",
       "      <td>0.048721</td>\n",
       "      <td>0.119312</td>\n",
       "      <td>0</td>\n",
       "      <td>0</td>\n",
       "      <td>0</td>\n",
       "      <td>0</td>\n",
       "      <td>1</td>\n",
       "      <td>0</td>\n",
       "      <td>1</td>\n",
       "    </tr>\n",
       "    <tr>\n",
       "      <th>1564</th>\n",
       "      <td>0.119312</td>\n",
       "      <td>3.672752e+05</td>\n",
       "      <td>574214.753</td>\n",
       "      <td>160335.592</td>\n",
       "      <td>206939.5805</td>\n",
       "      <td>413879.161</td>\n",
       "      <td>0.047140</td>\n",
       "      <td>0.321851</td>\n",
       "      <td>0</td>\n",
       "      <td>0</td>\n",
       "      <td>0</td>\n",
       "      <td>0</td>\n",
       "      <td>1</td>\n",
       "      <td>0</td>\n",
       "      <td>1</td>\n",
       "    </tr>\n",
       "    <tr>\n",
       "      <th>1565</th>\n",
       "      <td>0.321851</td>\n",
       "      <td>9.907495e+05</td>\n",
       "      <td>996765.945</td>\n",
       "      <td>984733.152</td>\n",
       "      <td>6016.3965</td>\n",
       "      <td>12032.793</td>\n",
       "      <td>0.119312</td>\n",
       "      <td>0.356091</td>\n",
       "      <td>0</td>\n",
       "      <td>0</td>\n",
       "      <td>0</td>\n",
       "      <td>0</td>\n",
       "      <td>1</td>\n",
       "      <td>1</td>\n",
       "      <td>1</td>\n",
       "    </tr>\n",
       "    <tr>\n",
       "      <th>1566</th>\n",
       "      <td>0.356091</td>\n",
       "      <td>1.096151e+06</td>\n",
       "      <td>1305499.967</td>\n",
       "      <td>886801.848</td>\n",
       "      <td>209349.0595</td>\n",
       "      <td>418698.119</td>\n",
       "      <td>0.321851</td>\n",
       "      <td>0.263492</td>\n",
       "      <td>0</td>\n",
       "      <td>0</td>\n",
       "      <td>0</td>\n",
       "      <td>0</td>\n",
       "      <td>1</td>\n",
       "      <td>1</td>\n",
       "      <td>1</td>\n",
       "    </tr>\n",
       "    <tr>\n",
       "      <th>1567</th>\n",
       "      <td>0.263492</td>\n",
       "      <td>8.258493e+05</td>\n",
       "      <td>991335.091</td>\n",
       "      <td>660363.485</td>\n",
       "      <td>165485.8030</td>\n",
       "      <td>330971.606</td>\n",
       "      <td>0.356091</td>\n",
       "      <td>0.209811</td>\n",
       "      <td>0</td>\n",
       "      <td>0</td>\n",
       "      <td>0</td>\n",
       "      <td>0</td>\n",
       "      <td>1</td>\n",
       "      <td>1</td>\n",
       "      <td>1</td>\n",
       "    </tr>\n",
       "  </tbody>\n",
       "</table>\n",
       "<p>1568 rows × 15 columns</p>\n",
       "</div>"
      ],
      "text/plain": [
       "         Ratio          Mean          Max         Min          Std  \\\n",
       "0     0.094933  2.878349e+05   380827.893  194841.812   92993.0405   \n",
       "1     0.045902  1.391734e+05   155853.417  122493.428   16679.9945   \n",
       "2     0.049253  1.493353e+05   158295.543  140374.991    8960.2760   \n",
       "3     0.069265  1.500626e+05   168052.597  132072.549   17990.0240   \n",
       "4     0.082001  1.582039e+05   170529.816  145877.968   12325.9240   \n",
       "...        ...           ...          ...         ...          ...   \n",
       "1563  0.047140  1.304723e+05   132273.838  128670.815    1801.5115   \n",
       "1564  0.119312  3.672752e+05   574214.753  160335.592  206939.5805   \n",
       "1565  0.321851  9.907495e+05   996765.945  984733.152    6016.3965   \n",
       "1566  0.356091  1.096151e+06  1305499.967  886801.848  209349.0595   \n",
       "1567  0.263492  8.258493e+05   991335.091  660363.485  165485.8030   \n",
       "\n",
       "           Range  Lag-1_Ratio  Lag+1_Ratio  Season  Sunday  Am  Lunch  Pm  \\\n",
       "0     185986.081     0.222852     0.045902       1       0   1      0   0   \n",
       "1      33359.989     0.094933     0.049253       1       0   1      0   0   \n",
       "2      17920.552     0.045902     0.069265       1       0   1      0   0   \n",
       "3      35980.048     0.049253     0.082001       1       0   1      0   0   \n",
       "4      24651.848     0.069265     0.066992       1       0   1      0   0   \n",
       "...          ...          ...          ...     ...     ...  ..    ...  ..   \n",
       "1563    3603.023     0.048721     0.119312       0       0   0      0   1   \n",
       "1564  413879.161     0.047140     0.321851       0       0   0      0   1   \n",
       "1565   12032.793     0.119312     0.356091       0       0   0      0   1   \n",
       "1566  418698.119     0.321851     0.263492       0       0   0      0   1   \n",
       "1567  330971.606     0.356091     0.209811       0       0   0      0   1   \n",
       "\n",
       "      Occupancy  Domain  \n",
       "0             1       1  \n",
       "1             0       1  \n",
       "2             0       1  \n",
       "3             0       1  \n",
       "4             0       1  \n",
       "...         ...     ...  \n",
       "1563          0       1  \n",
       "1564          0       1  \n",
       "1565          1       1  \n",
       "1566          1       1  \n",
       "1567          1       1  \n",
       "\n",
       "[1568 rows x 15 columns]"
      ]
     },
     "execution_count": 3,
     "metadata": {},
     "output_type": "execute_result"
    }
   ],
   "source": [
    "source_x_y"
   ]
  },
  {
   "cell_type": "code",
   "execution_count": 4,
   "id": "45da4433-8012-4659-9265-bf8e1bc98dac",
   "metadata": {},
   "outputs": [],
   "source": [
    "domain_discriminator = LogisticRegression()\n",
    "task_classifier = LogisticRegression()"
   ]
  },
  {
   "cell_type": "markdown",
   "id": "f42ff789-8e77-4fa8-9801-009911daf659",
   "metadata": {},
   "source": [
    "# Domain Discrimination"
   ]
  },
  {
   "cell_type": "code",
   "execution_count": 5,
   "id": "96aecbbd-c6fd-4fe1-88e6-86f760c4d6ba",
   "metadata": {},
   "outputs": [],
   "source": [
    "x_for_domain = data_for_domain.drop(columns=[\"Domain\", \"Occupancy\"])\n",
    "scaler = preprocessing.StandardScaler()\n",
    "x_for_domain = scaler.fit_transform(x_for_domain)\n",
    "\n",
    "y_for_domain = data_for_domain[\"Domain\"]"
   ]
  },
  {
   "cell_type": "code",
   "execution_count": 6,
   "id": "4f8cec42-c6d7-498f-b9c5-c4d6cf603641",
   "metadata": {},
   "outputs": [
    {
     "data": {
      "text/plain": [
       "LogisticRegression()"
      ]
     },
     "execution_count": 6,
     "metadata": {},
     "output_type": "execute_result"
    }
   ],
   "source": [
    "domain_discriminator.fit(x_for_domain, y_for_domain.values)"
   ]
  },
  {
   "cell_type": "code",
   "execution_count": 7,
   "id": "b3fbacc0-b723-4af1-9b6d-e41b5743023b",
   "metadata": {},
   "outputs": [
    {
     "name": "stdout",
     "output_type": "stream",
     "text": [
      "73 samples transferred from Source to Target\n"
     ]
    }
   ],
   "source": [
    "transferred_mask = domain_discriminator.predict(x_for_domain[:-num_for_domain]) == 0\n",
    "num_transffered = sum(transferred_mask)\n",
    "print(f\"{num_transffered} samples transferred from Source to Target\")"
   ]
  },
  {
   "cell_type": "markdown",
   "id": "a1751e8d-3eba-4bae-b6b8-99f6753399e0",
   "metadata": {},
   "source": [
    "# Task Classification"
   ]
  },
  {
   "cell_type": "code",
   "execution_count": 8,
   "id": "a4c8a3bc-0c21-49ce-8e5e-74b7776b78c5",
   "metadata": {},
   "outputs": [],
   "source": [
    "transferred_data = pd.concat([data_for_domain[:-num_for_domain][transferred_mask], data_for_domain[-num_for_domain:]], axis=0) \n",
    "transferred_data = transferred_data.drop(columns=[\"Domain\"])\n",
    "\n",
    "transferred_x = transferred_data.drop(columns=\"Occupancy\").values\n",
    "transferred_x = scaler.fit_transform(transferred_x)\n",
    "transferred_y = transferred_data[\"Occupancy\"].values\n",
    "\n",
    "task_x = data_for_task.drop(columns=\"Occupancy\").values\n",
    "task_y = data_for_task[\"Occupancy\"].values"
   ]
  },
  {
   "cell_type": "code",
   "execution_count": 9,
   "id": "d3693054-3188-4c03-84a4-f9e75639563b",
   "metadata": {},
   "outputs": [
    {
     "name": "stdout",
     "output_type": "stream",
     "text": [
      "+Adversarial Validation Accuracy:0.8309859154929577\n"
     ]
    }
   ],
   "source": [
    "task_classifier.fit(transferred_x, transferred_y)\n",
    "pred_y = task_classifier.predict(task_x)\n",
    "acc = sum(pred_y == task_y)/task_y.shape[0]\n",
    "\n",
    "print(f\"+Adversarial Validation Accuracy:{acc}\")"
   ]
  },
  {
   "cell_type": "code",
   "execution_count": 10,
   "id": "8fa39487-1874-4062-9ac3-dae155fd9db8",
   "metadata": {},
   "outputs": [
    {
     "name": "stdout",
     "output_type": "stream",
     "text": [
      "-Adversarial Validation Accuracy:0.8309859154929577\n"
     ]
    }
   ],
   "source": [
    "task_classifier.fit(transferred_x[num_transffered:], transferred_y[num_transffered:])\n",
    "pred_y = task_classifier.predict(task_x)\n",
    "acc = sum(pred_y == task_y)/task_y.shape[0]\n",
    "\n",
    "print(f\"-Adversarial Validation Accuracy:{acc}\")"
   ]
  }
 ],
 "metadata": {
  "kernelspec": {
   "display_name": "Python 3 (ipykernel)",
   "language": "python",
   "name": "python3"
  },
  "language_info": {
   "codemirror_mode": {
    "name": "ipython",
    "version": 3
   },
   "file_extension": ".py",
   "mimetype": "text/x-python",
   "name": "python",
   "nbconvert_exporter": "python",
   "pygments_lexer": "ipython3",
   "version": "3.8.8"
  }
 },
 "nbformat": 4,
 "nbformat_minor": 5
}
