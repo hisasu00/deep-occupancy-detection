{
 "cells": [
  {
   "cell_type": "markdown",
   "id": "c7eb3670-671e-4709-bc95-bc6301474bda",
   "metadata": {},
   "source": [
    "# Import Object"
   ]
  },
  {
   "cell_type": "code",
   "execution_count": 89,
   "id": "d0bf2fa1-eeaf-425c-b843-0b25bd96dc9e",
   "metadata": {},
   "outputs": [],
   "source": [
    "import matplotlib.pyplot as plt\n",
    "import pandas as pd\n",
    "from sklearn.model_selection import train_test_split\n",
    "from sklearn.metrics import classification_report\n",
    "from sklearn import preprocessing\n",
    "import torch\n",
    "from torch import nn\n",
    "from torch import optim\n",
    "import torch.nn.functional as F\n",
    "from torch.utils.data import TensorDataset, DataLoader\n",
    "\n",
    "from models import AttentionRNN\n",
    "from train_model import train_timeseries_net"
   ]
  },
  {
   "cell_type": "code",
   "execution_count": 90,
   "id": "f48de273-0d80-493a-b33f-fa9c3e3a46fc",
   "metadata": {},
   "outputs": [],
   "source": [
    "device = torch.device(\"cuda\" if torch.cuda.is_available() else \"cpu\")"
   ]
  },
  {
   "cell_type": "markdown",
   "id": "0170a0b9-4d80-4791-9246-62cbe6800e28",
   "metadata": {},
   "source": [
    "# Subject of Comparison"
   ]
  },
  {
   "cell_type": "code",
   "execution_count": 91,
   "id": "cf19dffe-7c1c-4ca2-8fe3-a88c4c6a311b",
   "metadata": {},
   "outputs": [],
   "source": [
    "class NonAttentionRNN(nn.Module):\n",
    "    # pylint: disable=too-many-instance-attributes\n",
    "    # Eleven seems reasonable in this case.\n",
    "    def __init__(self, *, input_size, hidden_size, num_layers,\n",
    "                 num_classes, dropout_ratio=0.5, is_bidirectional=True):\n",
    "        super().__init__()\n",
    "\n",
    "        self.hidden_size = hidden_size\n",
    "        self.num_layers = num_layers\n",
    "        self.num_directional = 2 if is_bidirectional else 1\n",
    "        self.rnn = nn.LSTM(input_size, hidden_size, num_layers,\n",
    "                           batch_first=True, bidirectional=is_bidirectional)\n",
    "\n",
    "        self.dropout1 = nn.Dropout(dropout_ratio)\n",
    "        self.fc1 = nn.Linear(self.num_directional * hidden_size, 50)\n",
    "        self.bn1 = nn.BatchNorm1d(50)\n",
    "\n",
    "        self.dropout2 = nn.Dropout(dropout_ratio)\n",
    "        self.fc2 = nn.Linear(50, 25)\n",
    "\n",
    "        self.fc3 = nn.Linear(25, 10)\n",
    "        self.fc4 = nn.Linear(10, num_classes)\n",
    "\n",
    "    def forward(self, x, device):\n",
    "        h0 = torch.zeros(self.num_directional * self.num_layers,\n",
    "                         x.shape[0], self.hidden_size).to(device)\n",
    "        c0 = torch.zeros(self.num_directional * self.num_layers,\n",
    "                         x.shape[0], self.hidden_size).to(device)\n",
    "        hs, _ = self.rnn(x, (h0,c0))\n",
    "        out = self.dropout1(F.relu(self.fc1(hs)))\n",
    "        out = out.reshape(x.shape[0], out.shape[2], x.shape[1])\n",
    "        out = self.bn1(out)\n",
    "\n",
    "        out = out.reshape(x.shape[0], x.shape[1], out.shape[1])\n",
    "        out = self.dropout2(F.relu(self.fc2(out)))\n",
    "\n",
    "        out = F.relu(self.fc3(out))\n",
    "        out = self.fc4(out)\n",
    "        return out"
   ]
  },
  {
   "cell_type": "markdown",
   "id": "75cec094-bde7-4ba4-a6e1-e6be278aea5c",
   "metadata": {},
   "source": [
    "# Prepare Data"
   ]
  },
  {
   "cell_type": "code",
   "execution_count": 92,
   "id": "1ececdbd-d3ae-4162-be3b-cc31419c354e",
   "metadata": {},
   "outputs": [],
   "source": [
    "train_x = pd.read_csv(\"./data/2_X_train.csv\").values\n",
    "train_y = pd.read_csv(\"./data/2_Y_train.csv\").values.reshape(-1)\n",
    "\n",
    "sequence_length = 16\n",
    "num_days = int(train_x.shape[0] / sequence_length)\n",
    "feature_size = train_x.shape[1]\n",
    "continuous_feature_size = 8\n",
    "test_size = 0.1\n",
    "\n",
    "train_x = train_x.reshape(num_days, sequence_length, feature_size)\n",
    "train_y = train_y.reshape(num_days, sequence_length, 1)\n",
    "train_x, test_x, train_y, test_y = train_test_split(train_x,\n",
    "                                                    train_y,\n",
    "                                                    test_size=test_size,\n",
    "                                                    shuffle=True)\n",
    "\n",
    "train_num_days = int(num_days * (1-test_size))\n",
    "test_num_days = int(num_days - train_num_days)\n",
    "\n",
    "train_x = train_x.reshape(train_num_days * sequence_length, feature_size)\n",
    "test_x = test_x.reshape(test_num_days * sequence_length, feature_size)\n",
    "\n",
    "ss = preprocessing.StandardScaler()\n",
    "ss.fit(train_x[:, :continuous_feature_size])\n",
    "train_x[:, :continuous_feature_size] = \\\n",
    "    ss.transform(train_x[:, :continuous_feature_size])\n",
    "\n",
    "test_x[:, :continuous_feature_size] = \\\n",
    "    ss.transform(test_x[:, :continuous_feature_size])\n",
    "\n",
    "train_x = train_x.reshape(train_num_days, sequence_length, feature_size)\n",
    "test_x = test_x.reshape(test_num_days, sequence_length, feature_size)\n",
    "\n",
    "train_x = torch.tensor(train_x, dtype=torch.float32)\n",
    "train_y = torch.tensor(train_y, dtype=torch.float32)\n",
    "test_x = torch.tensor(test_x, dtype=torch.float32)\n",
    "test_y = torch.tensor(test_y, dtype=torch.float32)\n",
    "\n",
    "train_x = train_x.to(device)\n",
    "train_y = train_y.to(device)\n",
    "test_x = test_x.to(device)\n",
    "test_y = test_y.to(device)\n",
    "\n",
    "train_ds = TensorDataset(train_x, train_y)\n",
    "train_loader = DataLoader(train_ds, batch_size=6, shuffle=True)"
   ]
  },
  {
   "cell_type": "markdown",
   "id": "0c0b59df-be09-45e1-8483-6416194613e4",
   "metadata": {},
   "source": [
    "# Set Free Parameters"
   ]
  },
  {
   "cell_type": "code",
   "execution_count": 93,
   "id": "602070e9-c806-4244-af92-2f7e055af31e",
   "metadata": {},
   "outputs": [],
   "source": [
    "input_size = 13\n",
    "num_layers = 1\n",
    "hidden_size = 100\n",
    "num_classes = 1\n",
    "\n",
    "learning_rate = 0.0005\n",
    "weight_decay = 1e-3\n",
    "eps = 1e-11\n",
    "patience = 10"
   ]
  },
  {
   "cell_type": "markdown",
   "id": "6ed01196-81be-42a8-9bc7-3c64f3199762",
   "metadata": {},
   "source": [
    "# Instantiate Model, Criterion, Optimizer"
   ]
  },
  {
   "cell_type": "code",
   "execution_count": 94,
   "id": "ba9f539d-32e5-43f4-bcad-c04782facca7",
   "metadata": {},
   "outputs": [],
   "source": [
    "attention = AttentionRNN(input_size=input_size, hidden_size=hidden_size,\n",
    "                         num_layers=num_layers, num_classes=num_classes).to(device)\n",
    "criterion = nn.BCELoss()\n",
    "optimizer = optim.Adam(attention.parameters(), lr=learning_rate,\n",
    "                       weight_decay=weight_decay, eps=eps)"
   ]
  },
  {
   "cell_type": "code",
   "execution_count": 95,
   "id": "7d845be2-f024-40a5-9043-fd3373512468",
   "metadata": {},
   "outputs": [],
   "source": [
    "non_attention = NonAttentionRNN(input_size=input_size, hidden_size=hidden_size,\n",
    "                                num_layers=num_layers, num_classes=num_classes).to(device)\n",
    "non_attention_optimizer = optim.Adam(non_attention.parameters(), lr=learning_rate,\n",
    "                                     weight_decay=weight_decay, eps=eps)"
   ]
  },
  {
   "cell_type": "markdown",
   "id": "cb0fab1a-1768-49e2-be45-6e5abfa62296",
   "metadata": {},
   "source": [
    "# Training"
   ]
  },
  {
   "cell_type": "code",
   "execution_count": 96,
   "id": "e03573db-9770-481a-ac8a-c0023b711224",
   "metadata": {},
   "outputs": [
    {
     "data": {
      "image/png": "[encoded data removed]",
      "text/plain": [
       "<Figure size 432x288 with 1 Axes>"
      ]
     },
     "metadata": {
      "needs_background": "light"
     },
     "output_type": "display_data"
    }
   ],
   "source": [
    "attention = train_timeseries_net(model=attention, criterion=criterion,\n",
    "                                 optimizer=optimizer, train_loader=train_loader,\n",
    "                                 test_x=test_x, test_y=test_y,\n",
    "                                 device=device, patience=patience)"
   ]
  },
  {
   "cell_type": "code",
   "execution_count": 97,
   "id": "76fee451-3d71-4e8a-aee3-0143be792aa6",
   "metadata": {},
   "outputs": [
    {
     "data": {
      "image/png": "[encoded data removed]",
      "text/plain": [
       "<Figure size 432x288 with 1 Axes>"
      ]
     },
     "metadata": {
      "needs_background": "light"
     },
     "output_type": "display_data"
    }
   ],
   "source": [
    "non_attention = train_timeseries_net(model=non_attention, criterion=criterion,\n",
    "                                     optimizer=non_attention_optimizer, train_loader=train_loader,\n",
    "                                     test_x=test_x, test_y=test_y,\n",
    "                                     device=device, patience=patience)"
   ]
  },
  {
   "cell_type": "markdown",
   "id": "4248eab2-5ada-477d-926c-3dadae20ac52",
   "metadata": {},
   "source": [
    "# Accuracy"
   ]
  },
  {
   "cell_type": "code",
   "execution_count": 98,
   "id": "3351a28d-3cc5-4712-bc61-2725d41881ef",
   "metadata": {},
   "outputs": [
    {
     "name": "stdout",
     "output_type": "stream",
     "text": [
      "tensor(0.8625, device='cuda:0')\n"
     ]
    }
   ],
   "source": [
    "attention.eval()\n",
    "score_y = attention(test_x, device).reshape(-1)\n",
    "score_y = torch.sigmoid(score_y)\n",
    "pred_y = torch.tensor([1 if i > 0.5 else 0 for i in score_y]).to(device)\n",
    "test_y = test_y.reshape(-1)\n",
    "\n",
    "print(sum(pred_y == test_y) / int(test_y.shape[0]))"
   ]
  },
  {
   "cell_type": "code",
   "execution_count": 99,
   "id": "00c5c609-640a-4565-82fc-221d18dec778",
   "metadata": {},
   "outputs": [
    {
     "name": "stdout",
     "output_type": "stream",
     "text": [
      "              precision    recall  f1-score   support\n",
      "\n",
      "         0.0       0.77      0.77      0.77        48\n",
      "         1.0       0.90      0.90      0.90       112\n",
      "\n",
      "    accuracy                           0.86       160\n",
      "   macro avg       0.84      0.84      0.84       160\n",
      "weighted avg       0.86      0.86      0.86       160\n",
      "\n"
     ]
    }
   ],
   "source": [
    "test_y = test_y.to('cpu').detach().numpy().copy()\n",
    "pred_y = pred_y.to('cpu').detach().numpy().copy()\n",
    "\n",
    "print(classification_report(test_y, pred_y))"
   ]
  },
  {
   "cell_type": "markdown",
   "id": "b4aefaa3-7e80-427a-b51e-139f7027d168",
   "metadata": {},
   "source": [
    "# Simulation"
   ]
  },
  {
   "cell_type": "code",
   "execution_count": 100,
   "id": "168de677-9de3-48b3-bf94-7fca331a4f0a",
   "metadata": {},
   "outputs": [],
   "source": [
    "simulate_x = pd.read_csv(\"./data/X_simulate.csv\").values\n",
    "simulate_y = pd.read_csv(\"./data/Y_simulate.csv\").values.reshape(-1)\n",
    "\n",
    "simulate_num_days = int(simulate_x.shape[0] / sequence_length)\n",
    "simulate_x = simulate_x.reshape(simulate_num_days, sequence_length, feature_size)\n",
    "simulate_y = simulate_y.reshape(simulate_num_days, sequence_length, 1)\n",
    "\n",
    "simulate_x = simulate_x.reshape(simulate_num_days * sequence_length, feature_size)\n",
    "simulate_x[:, :continuous_feature_size] = \\\n",
    "    ss.transform(simulate_x[:, :continuous_feature_size])\n",
    "simulate_x = simulate_x.reshape(simulate_num_days, sequence_length, feature_size)\n",
    "\n",
    "simulate_x = torch.tensor(simulate_x, dtype=torch.float32)\n",
    "simulate_y = torch.tensor(simulate_y, dtype=torch.float32)\n",
    "simulate_x = simulate_x.to(device)\n",
    "simulate_y = simulate_y.to(device)"
   ]
  },
  {
   "cell_type": "code",
   "execution_count": 101,
   "id": "a4a42934-328a-49b4-8997-bce5d2c05065",
   "metadata": {},
   "outputs": [
    {
     "name": "stdout",
     "output_type": "stream",
     "text": [
      "tensor(0.8250, device='cuda:0')\n"
     ]
    }
   ],
   "source": [
    "attention.eval()\n",
    "score_y = attention(simulate_x, device).reshape(-1)\n",
    "score_y = torch.sigmoid(score_y)\n",
    "pred_y = torch.tensor([1 if i > 0.5 else 0 for i in score_y]).to(device)\n",
    "simulate_y = simulate_y.reshape(-1)\n",
    "\n",
    "print(sum(pred_y == simulate_y) / int(simulate_y.shape[0]))"
   ]
  },
  {
   "cell_type": "code",
   "execution_count": 102,
   "id": "e8db3d91-5580-4822-892a-1c7a3de47e20",
   "metadata": {},
   "outputs": [
    {
     "name": "stdout",
     "output_type": "stream",
     "text": [
      "tensor(0.7625, device='cuda:0')\n"
     ]
    }
   ],
   "source": [
    "non_attention.eval()\n",
    "score_y = non_attention(simulate_x, device).reshape(-1)\n",
    "score_y = torch.sigmoid(score_y)\n",
    "non_pred_y = torch.tensor([1 if i > 0.5 else 0 for i in score_y]).to(device)\n",
    "simulate_y = simulate_y.reshape(-1)\n",
    "\n",
    "print(sum(non_pred_y == simulate_y) / int(simulate_y.shape[0]))"
   ]
  }
 ],
 "metadata": {
  "kernelspec": {
   "display_name": "Python 3 (ipykernel)",
   "language": "python",
   "name": "python3"
  },
  "language_info": {
   "codemirror_mode": {
    "name": "ipython",
    "version": 3
   },
   "file_extension": ".py",
   "mimetype": "text/x-python",
   "name": "python",
   "nbconvert_exporter": "python",
   "pygments_lexer": "ipython3",
   "version": "3.8.8"
  }
 },
 "nbformat": 4,
 "nbformat_minor": 5
}
