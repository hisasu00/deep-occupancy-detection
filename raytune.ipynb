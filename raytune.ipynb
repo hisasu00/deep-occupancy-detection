{
 "cells": [
  {
   "cell_type": "markdown",
   "id": "60cfe6a9-0149-46ef-a71f-b0a73e8d80d5",
   "metadata": {},
   "source": [
    "# Import Module"
   ]
  },
  {
   "cell_type": "code",
   "execution_count": 1,
   "id": "8e9272de-a40a-461e-abf6-7bc96b04f09a",
   "metadata": {},
   "outputs": [],
   "source": [
    "from functools import partial\n",
    "from hyperopt import hp\n",
    "import numpy as np\n",
    "import os\n",
    "import pandas as pd\n",
    "from ray import tune\n",
    "from ray.tune.suggest.hyperopt import HyperOptSearch\n",
    "from sklearn.model_selection import train_test_split\n",
    "from sklearn.metrics import classification_report\n",
    "from sklearn import preprocessing\n",
    "import torch\n",
    "from torch import nn\n",
    "from torch import optim\n",
    "from torch.utils.data import TensorDataset, DataLoader\n",
    "\n",
    "from models import AttentionRNN\n",
    "from train_model import raytune_pipeline"
   ]
  },
  {
   "cell_type": "code",
   "execution_count": 2,
   "id": "cd11e9b5-bb87-4a98-a186-5f4cf6715403",
   "metadata": {},
   "outputs": [],
   "source": [
    "device = torch.device(\"cuda\" if torch.cuda.is_available() else \"cpu\")"
   ]
  },
  {
   "cell_type": "markdown",
   "id": "8078cb40-3a5a-46e3-84f6-2eba3466f33e",
   "metadata": {},
   "source": [
    "# Load Data"
   ]
  },
  {
   "cell_type": "code",
   "execution_count": 3,
   "id": "f4bcfedb-bebe-4631-854a-ecad7c11c914",
   "metadata": {},
   "outputs": [],
   "source": [
    "train_x = pd.read_csv(\"./data/2_X_train.csv\").drop(columns=\"Temp\").values\n",
    "train_y = pd.read_csv(\"./data/2_Y_train.csv\").values.reshape(-1)\n",
    "\n",
    "sequence_length = 16\n",
    "num_days = int(train_x.shape[0] / sequence_length)\n",
    "feature_size = train_x.shape[1]\n",
    "continuous_feature_size = 8\n",
    "test_size = 0.1\n",
    "val_size = 0.1\n",
    "\n",
    "train_x = train_x.reshape(num_days, sequence_length, feature_size)\n",
    "train_y = train_y.reshape(num_days, sequence_length, 1)\n",
    "\n",
    "x, test_x, y, test_y = train_test_split(train_x, train_y, test_size=test_size, train_size=(1-test_size))\n",
    "train_x, val_x, train_y, val_y = train_test_split(x, y, test_size=val_size, train_size=(1-val_size))\n",
    "\n",
    "train_num_days = train_x.shape[0]\n",
    "val_num_days = val_x.shape[0]\n",
    "test_num_days = test_x.shape[0]\n",
    "\n",
    "train_x = train_x.reshape(train_num_days * sequence_length, feature_size)\n",
    "val_x = val_x.reshape(val_num_days * sequence_length, feature_size)\n",
    "test_x = test_x.reshape(test_num_days * sequence_length, feature_size)\n",
    "\n",
    "ss = preprocessing.StandardScaler()\n",
    "ss.fit(train_x[:, :continuous_feature_size])\n",
    "\n",
    "train_x[:, :continuous_feature_size] = \\\n",
    "    ss.transform(train_x[:, :continuous_feature_size])\n",
    "\n",
    "val_x[:, :continuous_feature_size] = \\\n",
    "    ss.transform(val_x[:, :continuous_feature_size])\n",
    "\n",
    "test_x[:, :continuous_feature_size] = \\\n",
    "    ss.transform(test_x[:, :continuous_feature_size])\n",
    "\n",
    "train_x = train_x.reshape(train_num_days, sequence_length, feature_size)\n",
    "val_x = val_x.reshape(val_num_days, sequence_length, feature_size)\n",
    "test_x = test_x.reshape(test_num_days, sequence_length, feature_size)\n",
    "\n",
    "train_x = torch.tensor(train_x, dtype=torch.float32)\n",
    "train_y = torch.tensor(train_y, dtype=torch.float32)\n",
    "test_x = torch.tensor(test_x, dtype=torch.float32)\n",
    "test_y = torch.tensor(test_y, dtype=torch.float32)\n",
    "val_x = torch.tensor(val_x, dtype=torch.float32)\n",
    "val_y = torch.tensor(val_y, dtype=torch.float32)\n",
    "\n",
    "train_x = train_x.to(device)\n",
    "train_y = train_y.to(device)\n",
    "test_x = test_x.to(device)\n",
    "test_y = test_y.to(device)\n",
    "val_x = val_x.to(device)\n",
    "val_y = val_y.to(device)\n",
    "\n",
    "train_ds = TensorDataset(train_x, train_y)\n",
    "train_loader = DataLoader(train_ds, batch_size=6, shuffle=True)"
   ]
  },
  {
   "cell_type": "markdown",
   "id": "d5ab2881-2e06-4a41-9045-32835534bb29",
   "metadata": {},
   "source": [
    "# Set Options and Config for Raytune"
   ]
  },
  {
   "cell_type": "code",
   "execution_count": 4,
   "id": "6dd45733-5ba3-43a3-b7e0-69f7d6bdf161",
   "metadata": {},
   "outputs": [],
   "source": [
    "options = {\n",
    "    'dataset': {'train_loader': train_loader, 'val_x': val_x, 'val_y': val_y},\n",
    "    \"num_epochs\": 50,\n",
    "    \"params\": {\"input_size\": 13, \"num_layers\": 1, \"num_classes\": 1},\n",
    "    \"device\": device\n",
    "}"
   ]
  },
  {
   "cell_type": "code",
   "execution_count": 5,
   "id": "8acaca8d-820f-4b5e-823f-6ae478a37291",
   "metadata": {},
   "outputs": [],
   "source": [
    "config = {\n",
    "    \"lr\": tune.uniform(0, 0.1),\n",
    "    \"hidden_size\": tune.choice([25, 50, 100, 150]),\n",
    "    \"weight_decay\": tune.choice([0, 1e-3, 1e-1]),\n",
    "    \"eps\": tune.choice([1e-11, 1e-8, 1e-5]),\n",
    "    \"fc_size_0\": tune.choice([50, 75, 100]),\n",
    "    \"fc_size_1\": tune.choice([15, 25, 35]),\n",
    "    \"fc_size_2\": tune.choice([5, 10, 20]),\n",
    "}"
   ]
  },
  {
   "cell_type": "markdown",
   "id": "81868135-6f0e-4846-a23c-1ede86742dbc",
   "metadata": {},
   "source": [
    "# Parameter Optimization"
   ]
  },
  {
   "cell_type": "code",
   "execution_count": 6,
   "id": "9e5ceefe-41dd-42a7-aa92-dcb7f73de35d",
   "metadata": {},
   "outputs": [],
   "source": [
    "hyperopt = HyperOptSearch(metric=\"mean_loss\", mode=\"min\")"
   ]
  },
  {
   "cell_type": "code",
   "execution_count": null,
   "id": "6c761632-c3ce-4e91-8823-5049ffaabea4",
   "metadata": {},
   "outputs": [],
   "source": [
    "analysis = tune.run(\n",
    "    partial(raytune_pipeline, options=options),\n",
    "    config=config,\n",
    "    num_samples=50,\n",
    "    search_alg=hyperopt,\n",
    "    resources_per_trial={'gpu':1}\n",
    ")"
   ]
  },
  {
   "cell_type": "code",
   "execution_count": 8,
   "id": "e94feb69-7d8c-422d-8f88-a19a39618b95",
   "metadata": {},
   "outputs": [
    {
     "data": {
      "text/plain": [
       "Text(0, 0.5, 'Loss')"
      ]
     },
     "execution_count": 8,
     "metadata": {},
     "output_type": "execute_result"
    },
    {
     "data": {
      "image/png": "[encoded data removed]",
      "text/plain": [
       "<Figure size 432x288 with 1 Axes>"
      ]
     },
     "metadata": {
      "needs_background": "light"
     },
     "output_type": "display_data"
    }
   ],
   "source": [
    "dfs = analysis.trial_dataframes\n",
    "ax = None\n",
    "for d in dfs.values():\n",
    "    ax = d.mean_loss.plot(ax=ax, legend=False)\n",
    "ax.set_xlabel(\"epochs\")\n",
    "ax.set_ylabel(\"Loss\")"
   ]
  },
  {
   "cell_type": "markdown",
   "id": "ca4db9c1-7e96-4940-b0e1-9dd7e3e0a9e7",
   "metadata": {},
   "source": [
    "# Test"
   ]
  },
  {
   "cell_type": "code",
   "execution_count": null,
   "id": "c83c4fc0-763a-42c7-b6c0-0c368ef32e42",
   "metadata": {},
   "outputs": [],
   "source": [
    "best = analysis.get_best_config(metric=\"mean_loss\", mode=\"min\")\n",
    "df = analysis.results_df\n",
    "\n",
    "logdir = analysis.get_best_logdir(\"mean_loss\", mode=\"min\")\n",
    "state_dict = torch.load(os.path.join(logdir, \"rnn.pth\"))\n",
    "\n",
    "model = AttentionRNN(input_size=options[\"params\"][\"input_size\"], hidden_size=best[\"hidden_size\"],\n",
    "                     num_layers=options[\"params\"][\"num_layers\"], num_classes=options[\"params\"][\"num_classes\"],\n",
    "                     fc_sizes=[best[\"fc_size_0\"], best[\"fc_size_1\"], best[\"fc_size_2\"]]).to(device)\n",
    "\n",
    "model.load_state_dict(state_dict)"
   ]
  },
  {
   "cell_type": "code",
   "execution_count": 10,
   "id": "89f4dfc4-e6d1-4c1c-9187-422da3f439e7",
   "metadata": {},
   "outputs": [
    {
     "name": "stdout",
     "output_type": "stream",
     "text": [
      "tensor(0.9000, device='cuda:0')\n"
     ]
    }
   ],
   "source": [
    "model.eval()\n",
    "score_y = model(test_x, device).reshape(-1)\n",
    "score_y = torch.sigmoid(score_y)\n",
    "pred_y = torch.tensor([1 if i > 0.5 else 0 for i in score_y]).to(device)\n",
    "test_y = test_y.reshape(-1)\n",
    "\n",
    "print(sum(pred_y == test_y) / int(test_y.shape[0]))"
   ]
  },
  {
   "cell_type": "code",
   "execution_count": 11,
   "id": "eca5f535-64ed-4730-9db8-764ff99e65aa",
   "metadata": {},
   "outputs": [
    {
     "name": "stdout",
     "output_type": "stream",
     "text": [
      "              precision    recall  f1-score   support\n",
      "\n",
      "         0.0       0.88      0.77      0.82        47\n",
      "         1.0       0.91      0.96      0.93       113\n",
      "\n",
      "    accuracy                           0.90       160\n",
      "   macro avg       0.89      0.86      0.87       160\n",
      "weighted avg       0.90      0.90      0.90       160\n",
      "\n"
     ]
    }
   ],
   "source": [
    "test_y = test_y.to('cpu').detach().numpy().copy()\n",
    "pred_y = pred_y.to('cpu').detach().numpy().copy()\n",
    "\n",
    "print(classification_report(test_y, pred_y))"
   ]
  }
 ],
 "metadata": {
  "kernelspec": {
   "display_name": "Python 3 (ipykernel)",
   "language": "python",
   "name": "python3"
  },
  "language_info": {
   "codemirror_mode": {
    "name": "ipython",
    "version": 3
   },
   "file_extension": ".py",
   "mimetype": "text/x-python",
   "name": "python",
   "nbconvert_exporter": "python",
   "pygments_lexer": "ipython3",
   "version": "3.8.8"
  }
 },
 "nbformat": 4,
 "nbformat_minor": 5
}
