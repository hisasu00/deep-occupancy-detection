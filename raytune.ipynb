{
 "cells": [
  {
   "cell_type": "markdown",
   "id": "60cfe6a9-0149-46ef-a71f-b0a73e8d80d5",
   "metadata": {},
   "source": [
    "# Import Module"
   ]
  },
  {
   "cell_type": "code",
   "execution_count": 35,
   "id": "8e9272de-a40a-461e-abf6-7bc96b04f09a",
   "metadata": {},
   "outputs": [],
   "source": [
    "from functools import partial\n",
    "import os\n",
    "import pickle\n",
    "\n",
    "from hyperopt import hp\n",
    "import numpy as np\n",
    "import pandas as pd\n",
    "from ray import tune\n",
    "from ray.tune.suggest.hyperopt import HyperOptSearch\n",
    "from sklearn.ensemble import RandomForestClassifier\n",
    "from sklearn.model_selection import train_test_split, KFold\n",
    "from sklearn.metrics import classification_report\n",
    "from sklearn import preprocessing\n",
    "from sklearn.pipeline import make_pipeline\n",
    "from sklearn.svm import SVC\n",
    "import torch\n",
    "from torch import nn\n",
    "from torch import optim\n",
    "from torch.utils.data import TensorDataset, DataLoader\n",
    "\n",
    "from models import AttentionRNN\n",
    "from train_model import train_timeseries_net"
   ]
  },
  {
   "cell_type": "code",
   "execution_count": 36,
   "id": "cd11e9b5-bb87-4a98-a186-5f4cf6715403",
   "metadata": {},
   "outputs": [],
   "source": [
    "device = torch.device(\"cuda\" if torch.cuda.is_available() else \"cpu\")"
   ]
  },
  {
   "cell_type": "markdown",
   "id": "8078cb40-3a5a-46e3-84f6-2eba3466f33e",
   "metadata": {},
   "source": [
    "# Load Data"
   ]
  },
  {
   "cell_type": "code",
   "execution_count": 37,
   "id": "3d836f40-0c33-4b9f-960d-049b91621c0f",
   "metadata": {},
   "outputs": [],
   "source": [
    "x = pd.read_csv(\"./data/2_X_train.csv\").drop(columns=\"Temp\").values\n",
    "y = pd.read_csv(\"./data/2_Y_train.csv\").values.reshape(-1)\n",
    "\n",
    "sequence_length = 16\n",
    "num_days = int(x.shape[0] / sequence_length)\n",
    "feature_size = x.shape[1]\n",
    "continuous_feature_size = 8\n",
    "\n",
    "x = x.reshape(num_days, sequence_length, feature_size)\n",
    "y = y.reshape(num_days, sequence_length, 1)"
   ]
  },
  {
   "cell_type": "markdown",
   "id": "35c44d35-18d8-475d-90f9-4696d70f800d",
   "metadata": {},
   "source": [
    "# Utils"
   ]
  },
  {
   "cell_type": "code",
   "execution_count": 38,
   "id": "125bd823-4e39-4bf7-a4e1-62604ef158c1",
   "metadata": {},
   "outputs": [],
   "source": [
    "def pipeline_rnn(train_x, train_y, val_x, val_y, test_x, test_y, options, config, trainer=train_timeseries_net):\n",
    "    # preprocessing\n",
    "    train_loader, val_x, val_y, test_x, test_y = preprocess_for_rnn(train_x, train_y, val_x, val_y, test_x, test_y)\n",
    "\n",
    "    # training and params optimization\n",
    "    options[\"dataset\"][\"train_loader\"] = train_loader\n",
    "    options[\"dataset\"][\"val_x\"] = val_x\n",
    "    options[\"dataset\"][\"val_y\"] = val_y\n",
    "\n",
    "    hyperopt = HyperOptSearch(metric=\"loss\", mode=\"min\")\n",
    "\n",
    "    analysis = tune.run(\n",
    "        partial(trainer, options=options),\n",
    "        config=config,\n",
    "        num_samples=2,\n",
    "        search_alg=hyperopt,\n",
    "        resources_per_trial={'gpu':1}\n",
    "    )\n",
    "\n",
    "    # test\n",
    "    model = standby_rnn_for_test(analysis, options)\n",
    "    acc = test(model, test_x, test_y)\n",
    "    return acc"
   ]
  },
  {
   "cell_type": "code",
   "execution_count": 39,
   "id": "00ab7746-c03e-45d5-b357-bb20198842ef",
   "metadata": {},
   "outputs": [],
   "source": [
    "def preprocess_for_rnn(train_x, train_y, val_x, val_y, test_x, test_y):\n",
    "\n",
    "    train_num_days = train_x.shape[0]\n",
    "    val_num_days = val_x.shape[0]\n",
    "    test_num_days = test_x.shape[0]\n",
    "\n",
    "    train_x = train_x.reshape(train_num_days * sequence_length, feature_size)\n",
    "    val_x = val_x.reshape(val_num_days * sequence_length, feature_size)\n",
    "    test_x = test_x.reshape(test_num_days * sequence_length, feature_size)\n",
    "\n",
    "    ss = preprocessing.StandardScaler()\n",
    "    ss.fit(train_x[:, :continuous_feature_size])\n",
    "\n",
    "    train_x[:, :continuous_feature_size] = \\\n",
    "        ss.transform(train_x[:, :continuous_feature_size])\n",
    "\n",
    "    val_x[:, :continuous_feature_size] = \\\n",
    "        ss.transform(val_x[:, :continuous_feature_size])\n",
    "\n",
    "    test_x[:, :continuous_feature_size] = \\\n",
    "        ss.transform(test_x[:, :continuous_feature_size])\n",
    "\n",
    "    train_x = train_x.reshape(train_num_days, sequence_length, feature_size)\n",
    "    val_x = val_x.reshape(val_num_days, sequence_length, feature_size)\n",
    "    test_x = test_x.reshape(test_num_days, sequence_length, feature_size)\n",
    "\n",
    "    train_x = torch.tensor(train_x, dtype=torch.float32)\n",
    "    train_y = torch.tensor(train_y, dtype=torch.float32)\n",
    "    test_x = torch.tensor(test_x, dtype=torch.float32)\n",
    "    test_y = torch.tensor(test_y, dtype=torch.float32)\n",
    "    val_x = torch.tensor(val_x, dtype=torch.float32)\n",
    "    val_y = torch.tensor(val_y, dtype=torch.float32)\n",
    "\n",
    "    train_x = train_x.to(device)\n",
    "    train_y = train_y.to(device)\n",
    "    test_x = test_x.to(device)\n",
    "    test_y = test_y.to(device)\n",
    "    val_x = val_x.to(device)\n",
    "    val_y = val_y.to(device)\n",
    "\n",
    "    train_ds = TensorDataset(train_x, train_y)\n",
    "    train_loader = DataLoader(train_ds, batch_size=6, shuffle=True)\n",
    "    \n",
    "    return train_loader, val_x, val_y, test_x, test_y"
   ]
  },
  {
   "cell_type": "code",
   "execution_count": 40,
   "id": "24264c53-8597-4d34-860e-d1e01725c29c",
   "metadata": {},
   "outputs": [],
   "source": [
    "def standby_rnn_for_test(analysis, options):\n",
    "    best = analysis.get_best_config(metric=\"loss\", mode=\"min\")\n",
    "    logdir = analysis.get_best_logdir(\"loss\", mode=\"min\")\n",
    "    state_dict = torch.load(os.path.join(logdir, \"rnn.pth\"))\n",
    "\n",
    "    model = AttentionRNN(input_size=options[\"params\"][\"input_size\"], hidden_size=best[\"hidden_size\"],\n",
    "                         num_layers=options[\"params\"][\"num_layers\"], num_classes=options[\"params\"][\"num_classes\"],\n",
    "                         fc_sizes=[best[\"fc_size_0\"], best[\"fc_size_1\"], best[\"fc_size_2\"]]).to(device)\n",
    "    model.load_state_dict(state_dict)\n",
    "    return model"
   ]
  },
  {
   "cell_type": "code",
   "execution_count": 41,
   "id": "99a36649-e1a8-4018-b841-d4d3e44dd531",
   "metadata": {},
   "outputs": [],
   "source": [
    "def test(model, test_x, test_y):\n",
    "    model.eval()\n",
    "    score_y = model(test_x, device).reshape(-1)\n",
    "    score_y = torch.sigmoid(score_y)\n",
    "    pred_y = torch.tensor([1 if i > 0.5 else 0 for i in score_y]).to(device)\n",
    "    test_y = test_y.reshape(-1)\n",
    "    test_y = test_y.to('cpu').detach().numpy().copy()\n",
    "    pred_y = pred_y.to('cpu').detach().numpy().copy()\n",
    "    acc = sum(pred_y == test_y) / int(test_y.shape[0])\n",
    "    return acc"
   ]
  },
  {
   "cell_type": "code",
   "execution_count": 42,
   "id": "428bae33-ab9a-4b64-baf2-5a4e004e4925",
   "metadata": {},
   "outputs": [],
   "source": [
    "def pipeline_benchmarks(train_x,train_y,test_x,test_y,val_x,val_y, config, options, trainer, name):\n",
    "    # preprocessing\n",
    "    train_x = train_x.reshape(-1, train_x.shape[2])\n",
    "    train_y = train_y.reshape(-1)\n",
    "    test_x = test_x.reshape(-1, test_x.shape[2])\n",
    "    test_y = test_y.reshape(-1)\n",
    "    val_x = val_x.reshape(-1, val_x.shape[2])\n",
    "    val_y = val_y.reshape(-1)\n",
    "    options[\"dataset\"][\"train_x\"] = train_x\n",
    "    options[\"dataset\"][\"train_y\"] = train_y\n",
    "    options[\"dataset\"][\"val_x\"] = val_x\n",
    "    options[\"dataset\"][\"val_y\"] = val_y\n",
    "    \n",
    "    # training and params optimization\n",
    "    hyperopt = HyperOptSearch(metric=\"accuracy\", mode=\"max\")\n",
    "    analysis = tune.run(\n",
    "        partial(trainer, options=options),\n",
    "        config=config,\n",
    "        num_samples=2,\n",
    "        search_alg=hyperopt,\n",
    "        resources_per_trial={'gpu':1}\n",
    "    )   \n",
    "    \n",
    "    # test\n",
    "    model = standby_benchmarks_for_test(analysis, name)\n",
    "    pred_y = model.predict(test_x)\n",
    "    acc = sum(pred_y == test_y) / int(test_y.shape[0])\n",
    "    return acc"
   ]
  },
  {
   "cell_type": "code",
   "execution_count": 43,
   "id": "d5140e97-ecfd-4fce-9fa7-1fa7f65fdd2a",
   "metadata": {},
   "outputs": [],
   "source": [
    "def train_rf(config, options):\n",
    "    train_x, train_y, val_x, val_y = options[\"dataset\"].values()\n",
    "    rf = RandomForestClassifier(max_depth=config[\"max_depth\"],min_samples_leaf=config[\"min_samples_leaf\"],\n",
    "                                min_samples_split=config[\"min_samples_split\"], n_estimators=config[\"n_estimators\"])\n",
    "    rf.fit(train_x, train_y)\n",
    "    \n",
    "    pred_y = rf.predict(val_x)\n",
    "    acc = sum(val_y == pred_y) / pred_y.shape[0]\n",
    "    tune.report(accuracy=acc)\n",
    "    \n",
    "    with open(f\"./rf.pkl\", \"wb\") as out_file:\n",
    "        pickle.dump(rf, out_file)"
   ]
  },
  {
   "cell_type": "code",
   "execution_count": 44,
   "id": "e11aba77-226e-42dd-b9af-9135d1a2435e",
   "metadata": {},
   "outputs": [],
   "source": [
    "def train_linear(config, options):\n",
    "    train_x, train_y, val_x, val_y = options[\"dataset\"].values()\n",
    "    linear = make_pipeline(preprocessing.StandardScaler(), SVC(kernel=\"linear\", C = config[\"C\"]))\n",
    "    linear.fit(train_x, train_y)\n",
    "    \n",
    "    pred_y = linear.predict(val_x)\n",
    "    acc = sum(val_y == pred_y) / pred_y.shape[0]\n",
    "    tune.report(accuracy=acc)\n",
    "    \n",
    "    with open(f\"./linear.pkl\", \"wb\") as out_file:\n",
    "        pickle.dump(linear, out_file)"
   ]
  },
  {
   "cell_type": "code",
   "execution_count": 45,
   "id": "2a96731a-b958-44f2-9478-ece35b964a3c",
   "metadata": {},
   "outputs": [],
   "source": [
    "def train_rbf(config, options):\n",
    "    train_x, train_y, val_x, val_y = options[\"dataset\"].values()\n",
    "    linear = make_pipeline(preprocessing.StandardScaler(), SVC(kernel=\"rbf\", C = config[\"C\"], gamma=config[\"gamma\"]))\n",
    "    linear.fit(train_x, train_y)\n",
    "    \n",
    "    pred_y = linear.predict(val_x)\n",
    "    acc = sum(val_y == pred_y) / pred_y.shape[0]\n",
    "    tune.report(accuracy=acc)\n",
    "    \n",
    "    with open(f\"./rbf.pkl\", \"wb\") as out_file:\n",
    "        pickle.dump(linear, out_file)"
   ]
  },
  {
   "cell_type": "code",
   "execution_count": 46,
   "id": "dd1fb0f8-1cc5-4b3a-a277-30ecc53f3b3c",
   "metadata": {},
   "outputs": [],
   "source": [
    "def standby_benchmarks_for_test(analysis, name):\n",
    "    best = analysis.get_best_config(metric=\"accuracy\", mode=\"min\")\n",
    "    logdir = analysis.get_best_logdir(\"accuracy\", mode=\"min\")\n",
    "    with open(os.path.join(logdir, name), 'rb') as f:\n",
    "        model = pickle.load(f)\n",
    "    return model"
   ]
  },
  {
   "cell_type": "markdown",
   "id": "d4503d09-5f91-48de-8a5a-ca5ee79cd293",
   "metadata": {},
   "source": [
    "# Set Config and Options for Raytune"
   ]
  },
  {
   "cell_type": "code",
   "execution_count": 47,
   "id": "d3603eb6-4436-4168-b366-4b4bba1d9d5f",
   "metadata": {},
   "outputs": [],
   "source": [
    "rnn_config = {\n",
    "    \"lr\": tune.uniform(0, 0.1),\n",
    "    \"hidden_size\": tune.choice([25, 50, 100, 150]),\n",
    "    \"weight_decay\": tune.choice([0, 1e-3, 1e-1]),\n",
    "    \"eps\": tune.choice([1e-11, 1e-8, 1e-5]),\n",
    "    \"fc_size_0\": tune.choice([50, 75, 100]),\n",
    "    \"fc_size_1\": tune.choice([15, 25, 35]),\n",
    "    \"fc_size_2\": tune.choice([5, 10, 20]),\n",
    "}"
   ]
  },
  {
   "cell_type": "code",
   "execution_count": 48,
   "id": "c2ef0196-01e4-4a1f-829d-58396d899bb4",
   "metadata": {},
   "outputs": [],
   "source": [
    "rf_config = {\n",
    "    'max_depth': tune.choice([5, 10, 15, 20, 50, None]),\n",
    "    'min_samples_leaf': tune.choice([3, 4, 5]),\n",
    "    'min_samples_split': tune.choice([2, 8, 10, 12]),\n",
    "    'n_estimators': tune.choice([50, 100, 200])\n",
    "}\n",
    "\n",
    "linear_config = {\n",
    "    'C': tune.choice([0.1, 0.5, 1, 5, 10, 50, 100]),\n",
    "}\n",
    "\n",
    "rbf_config = {\n",
    "    'C': tune.choice([0.1, 0.5, 1, 5, 10, 50, 100]),\n",
    "    \"gamma\": tune.loguniform(0.0001, 1)\n",
    "}"
   ]
  },
  {
   "cell_type": "code",
   "execution_count": 49,
   "id": "d3a119a2-7c70-417a-8b81-eb957ca50873",
   "metadata": {},
   "outputs": [],
   "source": [
    "rnn_options = {\n",
    "    'dataset': {'train_loader': None, 'val_x': None, 'val_y': None},\n",
    "    \"num_epochs\": 50,\n",
    "    \"params\": {\"input_size\": 13, \"num_layers\": 1, \"num_classes\": 1},\n",
    "    \"device\": device\n",
    "}\n",
    "\n",
    "benchmarks_options = {\n",
    "    'dataset': {'train_x': None, 'train_y': None,\n",
    "                'val_x': None, 'val_y': None},\n",
    "}"
   ]
  },
  {
   "cell_type": "markdown",
   "id": "d61743ac-5bc7-47a6-a46f-2e3905bff27b",
   "metadata": {},
   "source": [
    "# Raytune"
   ]
  },
  {
   "cell_type": "code",
   "execution_count": 50,
   "id": "b8b84870-ffd5-4726-b151-9d870cebd1a6",
   "metadata": {},
   "outputs": [
    {
     "name": "stderr",
     "output_type": "stream",
     "text": [
      "2022-05-14 13:42:49,187\tINFO trial_runner.py:803 -- starting train_timeseries_net_4e8babfa\n"
     ]
    },
    {
     "data": {
      "text/html": [
       "== Status ==<br>Current time: 2022-05-14 13:42:52 (running for 00:00:03.33)<br>Memory usage on this node: 15.0/31.3 GiB<br>Using FIFO scheduling algorithm.<br>Resources requested: 1.0/12 CPUs, 1.0/1 GPUs, 0.0/11.87 GiB heap, 0.0/5.93 GiB objects (0.0/1.0 accelerator_type:G)<br>Result logdir: /home/higuchi-lab/ray_results/train_timeseries_net_2022-05-14_13-42-49<br>Number of trials: 1/2 (1 RUNNING)<br><table>\n",
       "<thead>\n",
       "<tr><th>Trial name                   </th><th>status  </th><th>loc                 </th><th style=\"text-align: right;\">  eps</th><th style=\"text-align: right;\">  fc_size_0</th><th style=\"text-align: right;\">  fc_size_1</th><th style=\"text-align: right;\">  fc_size_2</th><th style=\"text-align: right;\">  hidden_size</th><th style=\"text-align: right;\">      lr</th><th style=\"text-align: right;\">  weight_decay</th></tr>\n",
       "</thead>\n",
       "<tbody>\n",
       "<tr><td>train_timeseries_net_4e8babfa</td><td>RUNNING </td><td>192.168.177.120:2749</td><td style=\"text-align: right;\">1e-11</td><td style=\"text-align: right;\">         75</td><td style=\"text-align: right;\">         25</td><td style=\"text-align: right;\">         10</td><td style=\"text-align: right;\">          150</td><td style=\"text-align: right;\">0.065986</td><td style=\"text-align: right;\">           0.1</td></tr>\n",
       "</tbody>\n",
       "</table><br><br>"
      ],
      "text/plain": [
       "<IPython.core.display.HTML object>"
      ]
     },
     "metadata": {},
     "output_type": "display_data"
    },
    {
     "name": "stdout",
     "output_type": "stream",
     "text": [
      "Result for train_timeseries_net_4e8babfa:\n",
      "  date: 2022-05-14_13-42-52\n",
      "  done: false\n",
      "  experiment_id: 526333250ca34529af643f3380780f51\n",
      "  hostname: higuchilab-P7xxTM1\n",
      "  iterations_since_restore: 1\n",
      "  loss: 0.6843794584274292\n",
      "  node_ip: 192.168.177.120\n",
      "  pid: 2749\n",
      "  time_since_restore: 0.37114930152893066\n",
      "  time_this_iter_s: 0.37114930152893066\n",
      "  time_total_s: 0.37114930152893066\n",
      "  timestamp: 1652503372\n",
      "  timesteps_since_restore: 0\n",
      "  training_iteration: 1\n",
      "  trial_id: 4e8babfa\n",
      "  warmup_time: 0.0017306804656982422\n",
      "  \n"
     ]
    },
    {
     "data": {
      "text/html": [
       "== Status ==<br>Current time: 2022-05-14 13:42:54 (running for 00:00:05.21)<br>Memory usage on this node: 15.2/31.3 GiB<br>Using FIFO scheduling algorithm.<br>Resources requested: 1.0/12 CPUs, 1.0/1 GPUs, 0.0/11.87 GiB heap, 0.0/5.93 GiB objects (0.0/1.0 accelerator_type:G)<br>Result logdir: /home/higuchi-lab/ray_results/train_timeseries_net_2022-05-14_13-42-49<br>Number of trials: 2/2 (1 PENDING, 1 RUNNING)<br><table>\n",
       "<thead>\n",
       "<tr><th>Trial name                   </th><th>status  </th><th>loc                 </th><th style=\"text-align: right;\">  eps</th><th style=\"text-align: right;\">  fc_size_0</th><th style=\"text-align: right;\">  fc_size_1</th><th style=\"text-align: right;\">  fc_size_2</th><th style=\"text-align: right;\">  hidden_size</th><th style=\"text-align: right;\">      lr</th><th style=\"text-align: right;\">  weight_decay</th><th style=\"text-align: right;\">  iter</th><th style=\"text-align: right;\">  total time (s)</th><th style=\"text-align: right;\">    loss</th></tr>\n",
       "</thead>\n",
       "<tbody>\n",
       "<tr><td>train_timeseries_net_4e8babfa</td><td>RUNNING </td><td>192.168.177.120:2749</td><td style=\"text-align: right;\">1e-11</td><td style=\"text-align: right;\">         75</td><td style=\"text-align: right;\">         25</td><td style=\"text-align: right;\">         10</td><td style=\"text-align: right;\">          150</td><td style=\"text-align: right;\">0.065986</td><td style=\"text-align: right;\">         0.1  </td><td style=\"text-align: right;\">     5</td><td style=\"text-align: right;\">         1.87325</td><td style=\"text-align: right;\">0.678357</td></tr>\n",
       "<tr><td>train_timeseries_net_508888a6</td><td>PENDING </td><td>                    </td><td style=\"text-align: right;\">1e-08</td><td style=\"text-align: right;\">         50</td><td style=\"text-align: right;\">         35</td><td style=\"text-align: right;\">          5</td><td style=\"text-align: right;\">           50</td><td style=\"text-align: right;\">0.03276 </td><td style=\"text-align: right;\">         0.001</td><td style=\"text-align: right;\">      </td><td style=\"text-align: right;\">                </td><td style=\"text-align: right;\">        </td></tr>\n",
       "</tbody>\n",
       "</table><br><br>"
      ],
      "text/plain": [
       "<IPython.core.display.HTML object>"
      ]
     },
     "metadata": {},
     "output_type": "display_data"
    },
    {
     "name": "stdout",
     "output_type": "stream",
     "text": [
      "Result for train_timeseries_net_4e8babfa:\n",
      "  date: 2022-05-14_13-42-58\n",
      "  done: false\n",
      "  experiment_id: 526333250ca34529af643f3380780f51\n",
      "  hostname: higuchilab-P7xxTM1\n",
      "  iterations_since_restore: 15\n",
      "  loss: 0.6747162938117981\n",
      "  node_ip: 192.168.177.120\n",
      "  pid: 2749\n",
      "  time_since_restore: 5.596039772033691\n",
      "  time_this_iter_s: 0.3825995922088623\n",
      "  time_total_s: 5.596039772033691\n",
      "  timestamp: 1652503378\n",
      "  timesteps_since_restore: 0\n",
      "  training_iteration: 15\n",
      "  trial_id: 4e8babfa\n",
      "  warmup_time: 0.0017306804656982422\n",
      "  \n"
     ]
    },
    {
     "data": {
      "text/html": [
       "== Status ==<br>Current time: 2022-05-14 13:42:59 (running for 00:00:10.42)<br>Memory usage on this node: 15.5/31.3 GiB<br>Using FIFO scheduling algorithm.<br>Resources requested: 1.0/12 CPUs, 1.0/1 GPUs, 0.0/11.87 GiB heap, 0.0/5.93 GiB objects (0.0/1.0 accelerator_type:G)<br>Result logdir: /home/higuchi-lab/ray_results/train_timeseries_net_2022-05-14_13-42-49<br>Number of trials: 2/2 (1 PENDING, 1 RUNNING)<br><table>\n",
       "<thead>\n",
       "<tr><th>Trial name                   </th><th>status  </th><th>loc                 </th><th style=\"text-align: right;\">  eps</th><th style=\"text-align: right;\">  fc_size_0</th><th style=\"text-align: right;\">  fc_size_1</th><th style=\"text-align: right;\">  fc_size_2</th><th style=\"text-align: right;\">  hidden_size</th><th style=\"text-align: right;\">      lr</th><th style=\"text-align: right;\">  weight_decay</th><th style=\"text-align: right;\">  iter</th><th style=\"text-align: right;\">  total time (s)</th><th style=\"text-align: right;\">    loss</th></tr>\n",
       "</thead>\n",
       "<tbody>\n",
       "<tr><td>train_timeseries_net_4e8babfa</td><td>RUNNING </td><td>192.168.177.120:2749</td><td style=\"text-align: right;\">1e-11</td><td style=\"text-align: right;\">         75</td><td style=\"text-align: right;\">         25</td><td style=\"text-align: right;\">         10</td><td style=\"text-align: right;\">          150</td><td style=\"text-align: right;\">0.065986</td><td style=\"text-align: right;\">         0.1  </td><td style=\"text-align: right;\">    19</td><td style=\"text-align: right;\">         7.08248</td><td style=\"text-align: right;\">0.684065</td></tr>\n",
       "<tr><td>train_timeseries_net_508888a6</td><td>PENDING </td><td>                    </td><td style=\"text-align: right;\">1e-08</td><td style=\"text-align: right;\">         50</td><td style=\"text-align: right;\">         35</td><td style=\"text-align: right;\">          5</td><td style=\"text-align: right;\">           50</td><td style=\"text-align: right;\">0.03276 </td><td style=\"text-align: right;\">         0.001</td><td style=\"text-align: right;\">      </td><td style=\"text-align: right;\">                </td><td style=\"text-align: right;\">        </td></tr>\n",
       "</tbody>\n",
       "</table><br><br>"
      ],
      "text/plain": [
       "<IPython.core.display.HTML object>"
      ]
     },
     "metadata": {},
     "output_type": "display_data"
    },
    {
     "name": "stdout",
     "output_type": "stream",
     "text": [
      "Result for train_timeseries_net_4e8babfa:\n",
      "  date: 2022-05-14_13-43-01\n",
      "  done: true\n",
      "  experiment_id: 526333250ca34529af643f3380780f51\n",
      "  experiment_tag: 1_eps=1e-11,fc_size_0=75,fc_size_1=25,fc_size_2=10,hidden_size=150,lr=0.065986,weight_decay=0.1\n",
      "  hostname: higuchilab-P7xxTM1\n",
      "  iterations_since_restore: 24\n",
      "  loss: 0.678743839263916\n",
      "  node_ip: 192.168.177.120\n",
      "  pid: 2749\n",
      "  time_since_restore: 8.951284170150757\n",
      "  time_this_iter_s: 0.36975669860839844\n",
      "  time_total_s: 8.951284170150757\n",
      "  timestamp: 1652503381\n",
      "  timesteps_since_restore: 0\n",
      "  training_iteration: 24\n",
      "  trial_id: 4e8babfa\n",
      "  warmup_time: 0.0017306804656982422\n",
      "  \n"
     ]
    },
    {
     "name": "stderr",
     "output_type": "stream",
     "text": [
      "2022-05-14 13:43:01,815\tINFO trial_runner.py:803 -- starting train_timeseries_net_508888a6\n"
     ]
    },
    {
     "name": "stdout",
     "output_type": "stream",
     "text": [
      "Result for train_timeseries_net_508888a6:\n",
      "  date: 2022-05-14_13-43-05\n",
      "  done: false\n",
      "  experiment_id: 49c9b8fe7adf46f4898ef79de99bdd97\n",
      "  hostname: higuchilab-P7xxTM1\n",
      "  iterations_since_restore: 1\n",
      "  loss: 0.5243964791297913\n",
      "  node_ip: 192.168.177.120\n",
      "  pid: 3034\n",
      "  time_since_restore: 0.20018362998962402\n",
      "  time_this_iter_s: 0.20018362998962402\n",
      "  time_total_s: 0.20018362998962402\n",
      "  timestamp: 1652503385\n",
      "  timesteps_since_restore: 0\n",
      "  training_iteration: 1\n",
      "  trial_id: 508888a6\n",
      "  warmup_time: 0.0016293525695800781\n",
      "  \n"
     ]
    },
    {
     "data": {
      "text/html": [
       "== Status ==<br>Current time: 2022-05-14 13:43:05 (running for 00:00:16.05)<br>Memory usage on this node: 15.5/31.3 GiB<br>Using FIFO scheduling algorithm.<br>Resources requested: 1.0/12 CPUs, 1.0/1 GPUs, 0.0/11.87 GiB heap, 0.0/5.93 GiB objects (0.0/1.0 accelerator_type:G)<br>Result logdir: /home/higuchi-lab/ray_results/train_timeseries_net_2022-05-14_13-42-49<br>Number of trials: 2/2 (1 RUNNING, 1 TERMINATED)<br><table>\n",
       "<thead>\n",
       "<tr><th>Trial name                   </th><th>status    </th><th>loc                 </th><th style=\"text-align: right;\">  eps</th><th style=\"text-align: right;\">  fc_size_0</th><th style=\"text-align: right;\">  fc_size_1</th><th style=\"text-align: right;\">  fc_size_2</th><th style=\"text-align: right;\">  hidden_size</th><th style=\"text-align: right;\">      lr</th><th style=\"text-align: right;\">  weight_decay</th><th style=\"text-align: right;\">  iter</th><th style=\"text-align: right;\">  total time (s)</th><th style=\"text-align: right;\">    loss</th></tr>\n",
       "</thead>\n",
       "<tbody>\n",
       "<tr><td>train_timeseries_net_508888a6</td><td>RUNNING   </td><td>192.168.177.120:3034</td><td style=\"text-align: right;\">1e-08</td><td style=\"text-align: right;\">         50</td><td style=\"text-align: right;\">         35</td><td style=\"text-align: right;\">          5</td><td style=\"text-align: right;\">           50</td><td style=\"text-align: right;\">0.03276 </td><td style=\"text-align: right;\">         0.001</td><td style=\"text-align: right;\">     1</td><td style=\"text-align: right;\">        0.200184</td><td style=\"text-align: right;\">0.524396</td></tr>\n",
       "<tr><td>train_timeseries_net_4e8babfa</td><td>TERMINATED</td><td>192.168.177.120:2749</td><td style=\"text-align: right;\">1e-11</td><td style=\"text-align: right;\">         75</td><td style=\"text-align: right;\">         25</td><td style=\"text-align: right;\">         10</td><td style=\"text-align: right;\">          150</td><td style=\"text-align: right;\">0.065986</td><td style=\"text-align: right;\">         0.1  </td><td style=\"text-align: right;\">    24</td><td style=\"text-align: right;\">        8.95128 </td><td style=\"text-align: right;\">0.678744</td></tr>\n",
       "</tbody>\n",
       "</table><br><br>"
      ],
      "text/plain": [
       "<IPython.core.display.HTML object>"
      ]
     },
     "metadata": {},
     "output_type": "display_data"
    },
    {
     "name": "stdout",
     "output_type": "stream",
     "text": [
      "Result for train_timeseries_net_508888a6:\n",
      "  date: 2022-05-14_13-43-08\n",
      "  done: true\n",
      "  experiment_id: 49c9b8fe7adf46f4898ef79de99bdd97\n",
      "  experiment_tag: 2_eps=1e-08,fc_size_0=50,fc_size_1=35,fc_size_2=5,hidden_size=50,lr=0.03276,weight_decay=0.001\n",
      "  hostname: higuchilab-P7xxTM1\n",
      "  iterations_since_restore: 18\n",
      "  loss: 0.24459558725357056\n",
      "  node_ip: 192.168.177.120\n",
      "  pid: 3034\n",
      "  time_since_restore: 3.5505664348602295\n",
      "  time_this_iter_s: 0.19346904754638672\n",
      "  time_total_s: 3.5505664348602295\n",
      "  timestamp: 1652503388\n",
      "  timesteps_since_restore: 0\n",
      "  training_iteration: 18\n",
      "  trial_id: 508888a6\n",
      "  warmup_time: 0.0016293525695800781\n",
      "  \n"
     ]
    },
    {
     "data": {
      "text/html": [
       "== Status ==<br>Current time: 2022-05-14 13:43:08 (running for 00:00:19.41)<br>Memory usage on this node: 15.4/31.3 GiB<br>Using FIFO scheduling algorithm.<br>Resources requested: 0/12 CPUs, 0/1 GPUs, 0.0/11.87 GiB heap, 0.0/5.93 GiB objects (0.0/1.0 accelerator_type:G)<br>Result logdir: /home/higuchi-lab/ray_results/train_timeseries_net_2022-05-14_13-42-49<br>Number of trials: 2/2 (2 TERMINATED)<br><table>\n",
       "<thead>\n",
       "<tr><th>Trial name                   </th><th>status    </th><th>loc                 </th><th style=\"text-align: right;\">  eps</th><th style=\"text-align: right;\">  fc_size_0</th><th style=\"text-align: right;\">  fc_size_1</th><th style=\"text-align: right;\">  fc_size_2</th><th style=\"text-align: right;\">  hidden_size</th><th style=\"text-align: right;\">      lr</th><th style=\"text-align: right;\">  weight_decay</th><th style=\"text-align: right;\">  iter</th><th style=\"text-align: right;\">  total time (s)</th><th style=\"text-align: right;\">    loss</th></tr>\n",
       "</thead>\n",
       "<tbody>\n",
       "<tr><td>train_timeseries_net_4e8babfa</td><td>TERMINATED</td><td>192.168.177.120:2749</td><td style=\"text-align: right;\">1e-11</td><td style=\"text-align: right;\">         75</td><td style=\"text-align: right;\">         25</td><td style=\"text-align: right;\">         10</td><td style=\"text-align: right;\">          150</td><td style=\"text-align: right;\">0.065986</td><td style=\"text-align: right;\">         0.1  </td><td style=\"text-align: right;\">    24</td><td style=\"text-align: right;\">         8.95128</td><td style=\"text-align: right;\">0.678744</td></tr>\n",
       "<tr><td>train_timeseries_net_508888a6</td><td>TERMINATED</td><td>192.168.177.120:3034</td><td style=\"text-align: right;\">1e-08</td><td style=\"text-align: right;\">         50</td><td style=\"text-align: right;\">         35</td><td style=\"text-align: right;\">          5</td><td style=\"text-align: right;\">           50</td><td style=\"text-align: right;\">0.03276 </td><td style=\"text-align: right;\">         0.001</td><td style=\"text-align: right;\">    18</td><td style=\"text-align: right;\">         3.55057</td><td style=\"text-align: right;\">0.244596</td></tr>\n",
       "</tbody>\n",
       "</table><br><br>"
      ],
      "text/plain": [
       "<IPython.core.display.HTML object>"
      ]
     },
     "metadata": {},
     "output_type": "display_data"
    },
    {
     "name": "stderr",
     "output_type": "stream",
     "text": [
      "2022-05-14 13:43:08,589\tINFO tune.py:701 -- Total run time: 19.52 seconds (19.40 seconds for the tuning loop).\n",
      "2022-05-14 13:43:08,720\tINFO trial_runner.py:803 -- starting train_rf_5a305726\n"
     ]
    },
    {
     "data": {
      "text/html": [
       "== Status ==<br>Current time: 2022-05-14 13:43:09 (running for 00:00:01.32)<br>Memory usage on this node: 13.3/31.3 GiB<br>Using FIFO scheduling algorithm.<br>Resources requested: 1.0/12 CPUs, 1.0/1 GPUs, 0.0/11.87 GiB heap, 0.0/5.93 GiB objects (0.0/1.0 accelerator_type:G)<br>Result logdir: /home/higuchi-lab/ray_results/train_rf_2022-05-14_13-43-08<br>Number of trials: 1/2 (1 RUNNING)<br><table>\n",
       "<thead>\n",
       "<tr><th>Trial name       </th><th>status  </th><th>loc                 </th><th style=\"text-align: right;\">  max_depth</th><th style=\"text-align: right;\">  min_samples_leaf</th><th style=\"text-align: right;\">  min_samples_split</th><th style=\"text-align: right;\">  n_estimators</th></tr>\n",
       "</thead>\n",
       "<tbody>\n",
       "<tr><td>train_rf_5a305726</td><td>RUNNING </td><td>192.168.177.120:3188</td><td style=\"text-align: right;\">         10</td><td style=\"text-align: right;\">                 3</td><td style=\"text-align: right;\">                  8</td><td style=\"text-align: right;\">            50</td></tr>\n",
       "</tbody>\n",
       "</table><br><br>"
      ],
      "text/plain": [
       "<IPython.core.display.HTML object>"
      ]
     },
     "metadata": {},
     "output_type": "display_data"
    },
    {
     "name": "stdout",
     "output_type": "stream",
     "text": [
      "Result for train_rf_5a305726:\n",
      "  accuracy: 0.9125\n",
      "  date: 2022-05-14_13-43-10\n",
      "  done: false\n",
      "  experiment_id: ef8d4e82f21f4dacb661096a2d5d0aa3\n",
      "  hostname: higuchilab-P7xxTM1\n",
      "  iterations_since_restore: 1\n",
      "  node_ip: 192.168.177.120\n",
      "  pid: 3188\n",
      "  time_since_restore: 0.06510567665100098\n",
      "  time_this_iter_s: 0.06510567665100098\n",
      "  time_total_s: 0.06510567665100098\n",
      "  timestamp: 1652503390\n",
      "  timesteps_since_restore: 0\n",
      "  training_iteration: 1\n",
      "  trial_id: 5a305726\n",
      "  warmup_time: 0.0017898082733154297\n",
      "  \n",
      "Result for train_rf_5a305726:\n",
      "  accuracy: 0.9125\n",
      "  date: 2022-05-14_13-43-10\n",
      "  done: true\n",
      "  experiment_id: ef8d4e82f21f4dacb661096a2d5d0aa3\n",
      "  experiment_tag: 1_max_depth=10,min_samples_leaf=3,min_samples_split=8,n_estimators=50\n",
      "  hostname: higuchilab-P7xxTM1\n",
      "  iterations_since_restore: 1\n",
      "  node_ip: 192.168.177.120\n",
      "  pid: 3188\n",
      "  time_since_restore: 0.06510567665100098\n",
      "  time_this_iter_s: 0.06510567665100098\n",
      "  time_total_s: 0.06510567665100098\n",
      "  timestamp: 1652503390\n",
      "  timesteps_since_restore: 0\n",
      "  training_iteration: 1\n",
      "  trial_id: 5a305726\n",
      "  warmup_time: 0.0017898082733154297\n",
      "  \n"
     ]
    },
    {
     "name": "stderr",
     "output_type": "stream",
     "text": [
      "2022-05-14 13:43:10,813\tINFO trial_runner.py:803 -- starting train_rf_5afaa58a\n"
     ]
    },
    {
     "name": "stdout",
     "output_type": "stream",
     "text": [
      "Result for train_rf_5afaa58a:\n",
      "  accuracy: 0.9\n",
      "  date: 2022-05-14_13-43-12\n",
      "  done: false\n",
      "  experiment_id: 4b45079382f84c2facd4f489d43e6c61\n",
      "  hostname: higuchilab-P7xxTM1\n",
      "  iterations_since_restore: 1\n",
      "  node_ip: 192.168.177.120\n",
      "  pid: 3262\n",
      "  time_since_restore: 0.06486344337463379\n",
      "  time_this_iter_s: 0.06486344337463379\n",
      "  time_total_s: 0.06486344337463379\n",
      "  timestamp: 1652503392\n",
      "  timesteps_since_restore: 0\n",
      "  training_iteration: 1\n",
      "  trial_id: 5afaa58a\n",
      "  warmup_time: 0.001936197280883789\n",
      "  \n",
      "Result for train_rf_5afaa58a:\n",
      "  accuracy: 0.9\n",
      "  date: 2022-05-14_13-43-12\n",
      "  done: true\n",
      "  experiment_id: 4b45079382f84c2facd4f489d43e6c61\n",
      "  experiment_tag: 2_max_depth=15,min_samples_leaf=3,min_samples_split=8,n_estimators=50\n",
      "  hostname: higuchilab-P7xxTM1\n",
      "  iterations_since_restore: 1\n",
      "  node_ip: 192.168.177.120\n",
      "  pid: 3262\n",
      "  time_since_restore: 0.06486344337463379\n",
      "  time_this_iter_s: 0.06486344337463379\n",
      "  time_total_s: 0.06486344337463379\n",
      "  timestamp: 1652503392\n",
      "  timesteps_since_restore: 0\n",
      "  training_iteration: 1\n",
      "  trial_id: 5afaa58a\n",
      "  warmup_time: 0.001936197280883789\n",
      "  \n"
     ]
    },
    {
     "data": {
      "text/html": [
       "== Status ==<br>Current time: 2022-05-14 13:43:12 (running for 00:00:03.47)<br>Memory usage on this node: 13.4/31.3 GiB<br>Using FIFO scheduling algorithm.<br>Resources requested: 0/12 CPUs, 0/1 GPUs, 0.0/11.87 GiB heap, 0.0/5.93 GiB objects (0.0/1.0 accelerator_type:G)<br>Result logdir: /home/higuchi-lab/ray_results/train_rf_2022-05-14_13-43-08<br>Number of trials: 2/2 (2 TERMINATED)<br><table>\n",
       "<thead>\n",
       "<tr><th>Trial name       </th><th>status    </th><th>loc                 </th><th style=\"text-align: right;\">  max_depth</th><th style=\"text-align: right;\">  min_samples_leaf</th><th style=\"text-align: right;\">  min_samples_split</th><th style=\"text-align: right;\">  n_estimators</th><th style=\"text-align: right;\">  iter</th><th style=\"text-align: right;\">  total time (s)</th><th style=\"text-align: right;\">  accuracy</th></tr>\n",
       "</thead>\n",
       "<tbody>\n",
       "<tr><td>train_rf_5a305726</td><td>TERMINATED</td><td>192.168.177.120:3188</td><td style=\"text-align: right;\">         10</td><td style=\"text-align: right;\">                 3</td><td style=\"text-align: right;\">                  8</td><td style=\"text-align: right;\">            50</td><td style=\"text-align: right;\">     1</td><td style=\"text-align: right;\">       0.0651057</td><td style=\"text-align: right;\">    0.9125</td></tr>\n",
       "<tr><td>train_rf_5afaa58a</td><td>TERMINATED</td><td>192.168.177.120:3262</td><td style=\"text-align: right;\">         15</td><td style=\"text-align: right;\">                 3</td><td style=\"text-align: right;\">                  8</td><td style=\"text-align: right;\">            50</td><td style=\"text-align: right;\">     1</td><td style=\"text-align: right;\">       0.0648634</td><td style=\"text-align: right;\">    0.9   </td></tr>\n",
       "</tbody>\n",
       "</table><br><br>"
      ],
      "text/plain": [
       "<IPython.core.display.HTML object>"
      ]
     },
     "metadata": {},
     "output_type": "display_data"
    },
    {
     "name": "stderr",
     "output_type": "stream",
     "text": [
      "2022-05-14 13:43:12,186\tINFO tune.py:701 -- Total run time: 3.58 seconds (3.47 seconds for the tuning loop).\n",
      "2022-05-14 13:43:12,344\tINFO trial_runner.py:803 -- starting train_linear_5c595b88\n"
     ]
    },
    {
     "data": {
      "text/html": [
       "== Status ==<br>Current time: 2022-05-14 13:43:13 (running for 00:00:01.32)<br>Memory usage on this node: 13.4/31.3 GiB<br>Using FIFO scheduling algorithm.<br>Resources requested: 1.0/12 CPUs, 1.0/1 GPUs, 0.0/11.87 GiB heap, 0.0/5.93 GiB objects (0.0/1.0 accelerator_type:G)<br>Result logdir: /home/higuchi-lab/ray_results/train_linear_2022-05-14_13-43-12<br>Number of trials: 1/2 (1 RUNNING)<br><table>\n",
       "<thead>\n",
       "<tr><th>Trial name           </th><th>status  </th><th>loc                 </th><th style=\"text-align: right;\">  C</th></tr>\n",
       "</thead>\n",
       "<tbody>\n",
       "<tr><td>train_linear_5c595b88</td><td>RUNNING </td><td>192.168.177.120:3338</td><td style=\"text-align: right;\">  1</td></tr>\n",
       "</tbody>\n",
       "</table><br><br>"
      ],
      "text/plain": [
       "<IPython.core.display.HTML object>"
      ]
     },
     "metadata": {},
     "output_type": "display_data"
    },
    {
     "name": "stdout",
     "output_type": "stream",
     "text": [
      "Result for train_linear_5c595b88:\n",
      "  accuracy: 0.875\n",
      "  date: 2022-05-14_13-43-13\n",
      "  done: false\n",
      "  experiment_id: f03d794858c84ea2ba3c7c7361166f69\n",
      "  hostname: higuchilab-P7xxTM1\n",
      "  iterations_since_restore: 1\n",
      "  node_ip: 192.168.177.120\n",
      "  pid: 3338\n",
      "  time_since_restore: 0.022441387176513672\n",
      "  time_this_iter_s: 0.022441387176513672\n",
      "  time_total_s: 0.022441387176513672\n",
      "  timestamp: 1652503393\n",
      "  timesteps_since_restore: 0\n",
      "  training_iteration: 1\n",
      "  trial_id: 5c595b88\n",
      "  warmup_time: 0.0017299652099609375\n",
      "  \n",
      "Result for train_linear_5c595b88:\n",
      "  accuracy: 0.875\n",
      "  date: 2022-05-14_13-43-13\n",
      "  done: true\n",
      "  experiment_id: f03d794858c84ea2ba3c7c7361166f69\n",
      "  experiment_tag: 1_C=1\n",
      "  hostname: higuchilab-P7xxTM1\n",
      "  iterations_since_restore: 1\n",
      "  node_ip: 192.168.177.120\n",
      "  pid: 3338\n",
      "  time_since_restore: 0.022441387176513672\n",
      "  time_this_iter_s: 0.022441387176513672\n",
      "  time_total_s: 0.022441387176513672\n",
      "  timestamp: 1652503393\n",
      "  timesteps_since_restore: 0\n",
      "  training_iteration: 1\n",
      "  trial_id: 5c595b88\n",
      "  warmup_time: 0.0017299652099609375\n",
      "  \n"
     ]
    },
    {
     "name": "stderr",
     "output_type": "stream",
     "text": [
      "2022-05-14 13:43:13,815\tINFO trial_runner.py:803 -- starting train_linear_5d231c5c\n"
     ]
    },
    {
     "name": "stdout",
     "output_type": "stream",
     "text": [
      "Result for train_linear_5d231c5c:\n",
      "  accuracy: 0.8625\n",
      "  date: 2022-05-14_13-43-15\n",
      "  done: false\n",
      "  experiment_id: b619880c41794c13b6ea5ae87d38d17a\n",
      "  hostname: higuchilab-P7xxTM1\n",
      "  iterations_since_restore: 1\n",
      "  node_ip: 192.168.177.120\n",
      "  pid: 3398\n",
      "  time_since_restore: 0.13172292709350586\n",
      "  time_this_iter_s: 0.13172292709350586\n",
      "  time_total_s: 0.13172292709350586\n",
      "  timestamp: 1652503395\n",
      "  timesteps_since_restore: 0\n",
      "  training_iteration: 1\n",
      "  trial_id: 5d231c5c\n",
      "  warmup_time: 0.0023217201232910156\n",
      "  \n",
      "Result for train_linear_5d231c5c:\n",
      "  accuracy: 0.8625\n",
      "  date: 2022-05-14_13-43-15\n",
      "  done: true\n",
      "  experiment_id: b619880c41794c13b6ea5ae87d38d17a\n",
      "  experiment_tag: 2_C=100\n",
      "  hostname: higuchilab-P7xxTM1\n",
      "  iterations_since_restore: 1\n",
      "  node_ip: 192.168.177.120\n",
      "  pid: 3398\n",
      "  time_since_restore: 0.13172292709350586\n",
      "  time_this_iter_s: 0.13172292709350586\n",
      "  time_total_s: 0.13172292709350586\n",
      "  timestamp: 1652503395\n",
      "  timesteps_since_restore: 0\n",
      "  training_iteration: 1\n",
      "  trial_id: 5d231c5c\n",
      "  warmup_time: 0.0023217201232910156\n",
      "  \n"
     ]
    },
    {
     "data": {
      "text/html": [
       "== Status ==<br>Current time: 2022-05-14 13:43:15 (running for 00:00:02.97)<br>Memory usage on this node: 13.6/31.3 GiB<br>Using FIFO scheduling algorithm.<br>Resources requested: 0/12 CPUs, 0/1 GPUs, 0.0/11.87 GiB heap, 0.0/5.93 GiB objects (0.0/1.0 accelerator_type:G)<br>Result logdir: /home/higuchi-lab/ray_results/train_linear_2022-05-14_13-43-12<br>Number of trials: 2/2 (2 TERMINATED)<br><table>\n",
       "<thead>\n",
       "<tr><th>Trial name           </th><th>status    </th><th>loc                 </th><th style=\"text-align: right;\">  C</th><th style=\"text-align: right;\">  iter</th><th style=\"text-align: right;\">  total time (s)</th><th style=\"text-align: right;\">  accuracy</th></tr>\n",
       "</thead>\n",
       "<tbody>\n",
       "<tr><td>train_linear_5c595b88</td><td>TERMINATED</td><td>192.168.177.120:3338</td><td style=\"text-align: right;\">  1</td><td style=\"text-align: right;\">     1</td><td style=\"text-align: right;\">       0.0224414</td><td style=\"text-align: right;\">    0.875 </td></tr>\n",
       "<tr><td>train_linear_5d231c5c</td><td>TERMINATED</td><td>192.168.177.120:3398</td><td style=\"text-align: right;\">100</td><td style=\"text-align: right;\">     1</td><td style=\"text-align: right;\">       0.131723 </td><td style=\"text-align: right;\">    0.8625</td></tr>\n",
       "</tbody>\n",
       "</table><br><br>"
      ],
      "text/plain": [
       "<IPython.core.display.HTML object>"
      ]
     },
     "metadata": {},
     "output_type": "display_data"
    },
    {
     "name": "stderr",
     "output_type": "stream",
     "text": [
      "2022-05-14 13:43:15,309\tINFO tune.py:701 -- Total run time: 3.08 seconds (2.96 seconds for the tuning loop).\n",
      "2022-05-14 13:43:15,433\tINFO trial_runner.py:803 -- starting train_rbf_5e30bfdc\n"
     ]
    },
    {
     "data": {
      "text/html": [
       "== Status ==<br>Current time: 2022-05-14 13:43:16 (running for 00:00:01.37)<br>Memory usage on this node: 13.4/31.3 GiB<br>Using FIFO scheduling algorithm.<br>Resources requested: 1.0/12 CPUs, 1.0/1 GPUs, 0.0/11.87 GiB heap, 0.0/5.93 GiB objects (0.0/1.0 accelerator_type:G)<br>Result logdir: /home/higuchi-lab/ray_results/train_rbf_2022-05-14_13-43-15<br>Number of trials: 1/2 (1 RUNNING)<br><table>\n",
       "<thead>\n",
       "<tr><th>Trial name        </th><th>status  </th><th>loc                 </th><th style=\"text-align: right;\">  C</th><th style=\"text-align: right;\">    gamma</th></tr>\n",
       "</thead>\n",
       "<tbody>\n",
       "<tr><td>train_rbf_5e30bfdc</td><td>RUNNING </td><td>192.168.177.120:3483</td><td style=\"text-align: right;\">0.5</td><td style=\"text-align: right;\">0.0154438</td></tr>\n",
       "</tbody>\n",
       "</table><br><br>"
      ],
      "text/plain": [
       "<IPython.core.display.HTML object>"
      ]
     },
     "metadata": {},
     "output_type": "display_data"
    },
    {
     "name": "stderr",
     "output_type": "stream",
     "text": [
      "2022-05-14 13:43:16,813\tINFO trial_runner.py:803 -- starting train_rbf_5f0209e8\n"
     ]
    },
    {
     "name": "stdout",
     "output_type": "stream",
     "text": [
      "Result for train_rbf_5e30bfdc:\n",
      "  accuracy: 0.85\n",
      "  date: 2022-05-14_13-43-16\n",
      "  done: false\n",
      "  experiment_id: 245d9937b38d4d4ca1bab2adef7e06a8\n",
      "  hostname: higuchilab-P7xxTM1\n",
      "  iterations_since_restore: 1\n",
      "  node_ip: 192.168.177.120\n",
      "  pid: 3483\n",
      "  time_since_restore: 0.024870872497558594\n",
      "  time_this_iter_s: 0.024870872497558594\n",
      "  time_total_s: 0.024870872497558594\n",
      "  timestamp: 1652503396\n",
      "  timesteps_since_restore: 0\n",
      "  training_iteration: 1\n",
      "  trial_id: 5e30bfdc\n",
      "  warmup_time: 0.0021162033081054688\n",
      "  \n",
      "Result for train_rbf_5e30bfdc:\n",
      "  accuracy: 0.85\n",
      "  date: 2022-05-14_13-43-16\n",
      "  done: true\n",
      "  experiment_id: 245d9937b38d4d4ca1bab2adef7e06a8\n",
      "  experiment_tag: 1_C=0.5,gamma=0.015444\n",
      "  hostname: higuchilab-P7xxTM1\n",
      "  iterations_since_restore: 1\n",
      "  node_ip: 192.168.177.120\n",
      "  pid: 3483\n",
      "  time_since_restore: 0.024870872497558594\n",
      "  time_this_iter_s: 0.024870872497558594\n",
      "  time_total_s: 0.024870872497558594\n",
      "  timestamp: 1652503396\n",
      "  timesteps_since_restore: 0\n",
      "  training_iteration: 1\n",
      "  trial_id: 5e30bfdc\n",
      "  warmup_time: 0.0021162033081054688\n",
      "  \n",
      "Result for train_rbf_5f0209e8:\n",
      "  accuracy: 0.875\n",
      "  date: 2022-05-14_13-43-18\n",
      "  done: false\n",
      "  experiment_id: e8eb5baf6ebc48668c41734d1147f60f\n",
      "  hostname: higuchilab-P7xxTM1\n",
      "  iterations_since_restore: 1\n",
      "  node_ip: 192.168.177.120\n",
      "  pid: 3524\n",
      "  time_since_restore: 0.025103092193603516\n",
      "  time_this_iter_s: 0.025103092193603516\n",
      "  time_total_s: 0.025103092193603516\n",
      "  timestamp: 1652503398\n",
      "  timesteps_since_restore: 0\n",
      "  training_iteration: 1\n",
      "  trial_id: 5f0209e8\n",
      "  warmup_time: 0.001912832260131836\n",
      "  \n",
      "Result for train_rbf_5f0209e8:\n",
      "  accuracy: 0.875\n",
      "  date: 2022-05-14_13-43-18\n",
      "  done: true\n",
      "  experiment_id: e8eb5baf6ebc48668c41734d1147f60f\n",
      "  experiment_tag: 2_C=1,gamma=0.11057\n",
      "  hostname: higuchilab-P7xxTM1\n",
      "  iterations_since_restore: 1\n",
      "  node_ip: 192.168.177.120\n",
      "  pid: 3524\n",
      "  time_since_restore: 0.025103092193603516\n",
      "  time_this_iter_s: 0.025103092193603516\n",
      "  time_total_s: 0.025103092193603516\n",
      "  timestamp: 1652503398\n",
      "  timesteps_since_restore: 0\n",
      "  training_iteration: 1\n",
      "  trial_id: 5f0209e8\n",
      "  warmup_time: 0.001912832260131836\n",
      "  \n"
     ]
    },
    {
     "data": {
      "text/html": [
       "== Status ==<br>Current time: 2022-05-14 13:43:18 (running for 00:00:02.71)<br>Memory usage on this node: 13.4/31.3 GiB<br>Using FIFO scheduling algorithm.<br>Resources requested: 0/12 CPUs, 0/1 GPUs, 0.0/11.87 GiB heap, 0.0/5.93 GiB objects (0.0/1.0 accelerator_type:G)<br>Result logdir: /home/higuchi-lab/ray_results/train_rbf_2022-05-14_13-43-15<br>Number of trials: 2/2 (2 TERMINATED)<br><table>\n",
       "<thead>\n",
       "<tr><th>Trial name        </th><th>status    </th><th>loc                 </th><th style=\"text-align: right;\">  C</th><th style=\"text-align: right;\">    gamma</th><th style=\"text-align: right;\">  iter</th><th style=\"text-align: right;\">  total time (s)</th><th style=\"text-align: right;\">  accuracy</th></tr>\n",
       "</thead>\n",
       "<tbody>\n",
       "<tr><td>train_rbf_5e30bfdc</td><td>TERMINATED</td><td>192.168.177.120:3483</td><td style=\"text-align: right;\">0.5</td><td style=\"text-align: right;\">0.0154438</td><td style=\"text-align: right;\">     1</td><td style=\"text-align: right;\">       0.0248709</td><td style=\"text-align: right;\">     0.85 </td></tr>\n",
       "<tr><td>train_rbf_5f0209e8</td><td>TERMINATED</td><td>192.168.177.120:3524</td><td style=\"text-align: right;\">1  </td><td style=\"text-align: right;\">0.110568 </td><td style=\"text-align: right;\">     1</td><td style=\"text-align: right;\">       0.0251031</td><td style=\"text-align: right;\">     0.875</td></tr>\n",
       "</tbody>\n",
       "</table><br><br>"
      ],
      "text/plain": [
       "<IPython.core.display.HTML object>"
      ]
     },
     "metadata": {},
     "output_type": "display_data"
    },
    {
     "name": "stderr",
     "output_type": "stream",
     "text": [
      "2022-05-14 13:43:18,145\tINFO tune.py:701 -- Total run time: 2.82 seconds (2.71 seconds for the tuning loop).\n",
      "2022-05-14 13:43:18,291\tINFO trial_runner.py:803 -- starting train_timeseries_net_5fe404ec\n"
     ]
    },
    {
     "data": {
      "text/html": [
       "== Status ==<br>Current time: 2022-05-14 13:43:21 (running for 00:00:03.29)<br>Memory usage on this node: 15.5/31.3 GiB<br>Using FIFO scheduling algorithm.<br>Resources requested: 1.0/12 CPUs, 1.0/1 GPUs, 0.0/11.87 GiB heap, 0.0/5.93 GiB objects (0.0/1.0 accelerator_type:G)<br>Result logdir: /home/higuchi-lab/ray_results/train_timeseries_net_2022-05-14_13-43-18<br>Number of trials: 1/2 (1 RUNNING)<br><table>\n",
       "<thead>\n",
       "<tr><th>Trial name                   </th><th>status  </th><th>loc                 </th><th style=\"text-align: right;\">  eps</th><th style=\"text-align: right;\">  fc_size_0</th><th style=\"text-align: right;\">  fc_size_1</th><th style=\"text-align: right;\">  fc_size_2</th><th style=\"text-align: right;\">  hidden_size</th><th style=\"text-align: right;\">       lr</th><th style=\"text-align: right;\">  weight_decay</th></tr>\n",
       "</thead>\n",
       "<tbody>\n",
       "<tr><td>train_timeseries_net_5fe404ec</td><td>RUNNING </td><td>192.168.177.120:3599</td><td style=\"text-align: right;\">1e-05</td><td style=\"text-align: right;\">         75</td><td style=\"text-align: right;\">         25</td><td style=\"text-align: right;\">          5</td><td style=\"text-align: right;\">          150</td><td style=\"text-align: right;\">0.0613751</td><td style=\"text-align: right;\">         0.001</td></tr>\n",
       "</tbody>\n",
       "</table><br><br>"
      ],
      "text/plain": [
       "<IPython.core.display.HTML object>"
      ]
     },
     "metadata": {},
     "output_type": "display_data"
    },
    {
     "name": "stdout",
     "output_type": "stream",
     "text": [
      "Result for train_timeseries_net_5fe404ec:\n",
      "  date: 2022-05-14_13-43-21\n",
      "  done: false\n",
      "  experiment_id: 05a44599fe0b4ac6ab44cc9624fd7fe1\n",
      "  hostname: higuchilab-P7xxTM1\n",
      "  iterations_since_restore: 1\n",
      "  loss: 0.576515257358551\n",
      "  node_ip: 192.168.177.120\n",
      "  pid: 3599\n",
      "  time_since_restore: 0.3664228916168213\n",
      "  time_this_iter_s: 0.3664228916168213\n",
      "  time_total_s: 0.3664228916168213\n",
      "  timestamp: 1652503401\n",
      "  timesteps_since_restore: 0\n",
      "  training_iteration: 1\n",
      "  trial_id: 5fe404ec\n",
      "  warmup_time: 0.0016510486602783203\n",
      "  \n"
     ]
    },
    {
     "data": {
      "text/html": [
       "== Status ==<br>Current time: 2022-05-14 13:43:23 (running for 00:00:05.47)<br>Memory usage on this node: 15.4/31.3 GiB<br>Using FIFO scheduling algorithm.<br>Resources requested: 1.0/12 CPUs, 1.0/1 GPUs, 0.0/11.87 GiB heap, 0.0/5.93 GiB objects (0.0/1.0 accelerator_type:G)<br>Result logdir: /home/higuchi-lab/ray_results/train_timeseries_net_2022-05-14_13-43-18<br>Number of trials: 2/2 (1 PENDING, 1 RUNNING)<br><table>\n",
       "<thead>\n",
       "<tr><th>Trial name                   </th><th>status  </th><th>loc                 </th><th style=\"text-align: right;\">  eps</th><th style=\"text-align: right;\">  fc_size_0</th><th style=\"text-align: right;\">  fc_size_1</th><th style=\"text-align: right;\">  fc_size_2</th><th style=\"text-align: right;\">  hidden_size</th><th style=\"text-align: right;\">       lr</th><th style=\"text-align: right;\">  weight_decay</th><th style=\"text-align: right;\">  iter</th><th style=\"text-align: right;\">  total time (s)</th><th style=\"text-align: right;\">    loss</th></tr>\n",
       "</thead>\n",
       "<tbody>\n",
       "<tr><td>train_timeseries_net_5fe404ec</td><td>RUNNING </td><td>192.168.177.120:3599</td><td style=\"text-align: right;\">1e-05</td><td style=\"text-align: right;\">         75</td><td style=\"text-align: right;\">         25</td><td style=\"text-align: right;\">          5</td><td style=\"text-align: right;\">          150</td><td style=\"text-align: right;\">0.0613751</td><td style=\"text-align: right;\">         0.001</td><td style=\"text-align: right;\">     6</td><td style=\"text-align: right;\">         2.18052</td><td style=\"text-align: right;\">0.415549</td></tr>\n",
       "<tr><td>train_timeseries_net_61d9aa0e</td><td>PENDING </td><td>                    </td><td style=\"text-align: right;\">1e-11</td><td style=\"text-align: right;\">         75</td><td style=\"text-align: right;\">         35</td><td style=\"text-align: right;\">          5</td><td style=\"text-align: right;\">          150</td><td style=\"text-align: right;\">0.0232101</td><td style=\"text-align: right;\">         0.001</td><td style=\"text-align: right;\">      </td><td style=\"text-align: right;\">                </td><td style=\"text-align: right;\">        </td></tr>\n",
       "</tbody>\n",
       "</table><br><br>"
      ],
      "text/plain": [
       "<IPython.core.display.HTML object>"
      ]
     },
     "metadata": {},
     "output_type": "display_data"
    },
    {
     "name": "stdout",
     "output_type": "stream",
     "text": [
      "Result for train_timeseries_net_5fe404ec:\n",
      "  date: 2022-05-14_13-43-26\n",
      "  done: false\n",
      "  experiment_id: 05a44599fe0b4ac6ab44cc9624fd7fe1\n",
      "  hostname: higuchilab-P7xxTM1\n",
      "  iterations_since_restore: 15\n",
      "  loss: 0.6060636639595032\n",
      "  node_ip: 192.168.177.120\n",
      "  pid: 3599\n",
      "  time_since_restore: 5.4100728034973145\n",
      "  time_this_iter_s: 0.35835862159729004\n",
      "  time_total_s: 5.4100728034973145\n",
      "  timestamp: 1652503406\n",
      "  timesteps_since_restore: 0\n",
      "  training_iteration: 15\n",
      "  trial_id: 5fe404ec\n",
      "  warmup_time: 0.0016510486602783203\n",
      "  \n"
     ]
    },
    {
     "data": {
      "text/html": [
       "== Status ==<br>Current time: 2022-05-14 13:43:28 (running for 00:00:10.51)<br>Memory usage on this node: 15.4/31.3 GiB<br>Using FIFO scheduling algorithm.<br>Resources requested: 1.0/12 CPUs, 1.0/1 GPUs, 0.0/11.87 GiB heap, 0.0/5.93 GiB objects (0.0/1.0 accelerator_type:G)<br>Result logdir: /home/higuchi-lab/ray_results/train_timeseries_net_2022-05-14_13-43-18<br>Number of trials: 2/2 (1 PENDING, 1 RUNNING)<br><table>\n",
       "<thead>\n",
       "<tr><th>Trial name                   </th><th>status  </th><th>loc                 </th><th style=\"text-align: right;\">  eps</th><th style=\"text-align: right;\">  fc_size_0</th><th style=\"text-align: right;\">  fc_size_1</th><th style=\"text-align: right;\">  fc_size_2</th><th style=\"text-align: right;\">  hidden_size</th><th style=\"text-align: right;\">       lr</th><th style=\"text-align: right;\">  weight_decay</th><th style=\"text-align: right;\">  iter</th><th style=\"text-align: right;\">  total time (s)</th><th style=\"text-align: right;\">    loss</th></tr>\n",
       "</thead>\n",
       "<tbody>\n",
       "<tr><td>train_timeseries_net_5fe404ec</td><td>RUNNING </td><td>192.168.177.120:3599</td><td style=\"text-align: right;\">1e-05</td><td style=\"text-align: right;\">         75</td><td style=\"text-align: right;\">         25</td><td style=\"text-align: right;\">          5</td><td style=\"text-align: right;\">          150</td><td style=\"text-align: right;\">0.0613751</td><td style=\"text-align: right;\">         0.001</td><td style=\"text-align: right;\">    20</td><td style=\"text-align: right;\">         7.21323</td><td style=\"text-align: right;\">0.452419</td></tr>\n",
       "<tr><td>train_timeseries_net_61d9aa0e</td><td>PENDING </td><td>                    </td><td style=\"text-align: right;\">1e-11</td><td style=\"text-align: right;\">         75</td><td style=\"text-align: right;\">         35</td><td style=\"text-align: right;\">          5</td><td style=\"text-align: right;\">          150</td><td style=\"text-align: right;\">0.0232101</td><td style=\"text-align: right;\">         0.001</td><td style=\"text-align: right;\">      </td><td style=\"text-align: right;\">                </td><td style=\"text-align: right;\">        </td></tr>\n",
       "</tbody>\n",
       "</table><br><br>"
      ],
      "text/plain": [
       "<IPython.core.display.HTML object>"
      ]
     },
     "metadata": {},
     "output_type": "display_data"
    },
    {
     "name": "stdout",
     "output_type": "stream",
     "text": [
      "Result for train_timeseries_net_5fe404ec:\n",
      "  date: 2022-05-14_13-43-29\n",
      "  done: true\n",
      "  experiment_id: 05a44599fe0b4ac6ab44cc9624fd7fe1\n",
      "  experiment_tag: 1_eps=1e-05,fc_size_0=75,fc_size_1=25,fc_size_2=5,hidden_size=150,lr=0.061375,weight_decay=0.001\n",
      "  hostname: higuchilab-P7xxTM1\n",
      "  iterations_since_restore: 21\n",
      "  loss: 0.39819201827049255\n",
      "  node_ip: 192.168.177.120\n",
      "  pid: 3599\n",
      "  time_since_restore: 7.573519706726074\n",
      "  time_this_iter_s: 0.3602869510650635\n",
      "  time_total_s: 7.573519706726074\n",
      "  timestamp: 1652503409\n",
      "  timesteps_since_restore: 0\n",
      "  training_iteration: 21\n",
      "  trial_id: 5fe404ec\n",
      "  warmup_time: 0.0016510486602783203\n",
      "  \n"
     ]
    },
    {
     "name": "stderr",
     "output_type": "stream",
     "text": [
      "2022-05-14 13:43:29,817\tINFO trial_runner.py:803 -- starting train_timeseries_net_61d9aa0e\n"
     ]
    },
    {
     "name": "stdout",
     "output_type": "stream",
     "text": [
      "Result for train_timeseries_net_61d9aa0e:\n",
      "  date: 2022-05-14_13-43-33\n",
      "  done: false\n",
      "  experiment_id: da377703138d4a2ba55903e027a2a954\n",
      "  hostname: higuchilab-P7xxTM1\n",
      "  iterations_since_restore: 1\n",
      "  loss: 0.7866888046264648\n",
      "  node_ip: 192.168.177.120\n",
      "  pid: 3825\n",
      "  time_since_restore: 0.3641481399536133\n",
      "  time_this_iter_s: 0.3641481399536133\n",
      "  time_total_s: 0.3641481399536133\n",
      "  timestamp: 1652503413\n",
      "  timesteps_since_restore: 0\n",
      "  training_iteration: 1\n",
      "  trial_id: 61d9aa0e\n",
      "  warmup_time: 0.0017764568328857422\n",
      "  \n"
     ]
    },
    {
     "data": {
      "text/html": [
       "== Status ==<br>Current time: 2022-05-14 13:43:33 (running for 00:00:15.55)<br>Memory usage on this node: 15.4/31.3 GiB<br>Using FIFO scheduling algorithm.<br>Resources requested: 1.0/12 CPUs, 1.0/1 GPUs, 0.0/11.87 GiB heap, 0.0/5.93 GiB objects (0.0/1.0 accelerator_type:G)<br>Result logdir: /home/higuchi-lab/ray_results/train_timeseries_net_2022-05-14_13-43-18<br>Number of trials: 2/2 (1 RUNNING, 1 TERMINATED)<br><table>\n",
       "<thead>\n",
       "<tr><th>Trial name                   </th><th>status    </th><th>loc                 </th><th style=\"text-align: right;\">  eps</th><th style=\"text-align: right;\">  fc_size_0</th><th style=\"text-align: right;\">  fc_size_1</th><th style=\"text-align: right;\">  fc_size_2</th><th style=\"text-align: right;\">  hidden_size</th><th style=\"text-align: right;\">       lr</th><th style=\"text-align: right;\">  weight_decay</th><th style=\"text-align: right;\">  iter</th><th style=\"text-align: right;\">  total time (s)</th><th style=\"text-align: right;\">    loss</th></tr>\n",
       "</thead>\n",
       "<tbody>\n",
       "<tr><td>train_timeseries_net_61d9aa0e</td><td>RUNNING   </td><td>192.168.177.120:3825</td><td style=\"text-align: right;\">1e-11</td><td style=\"text-align: right;\">         75</td><td style=\"text-align: right;\">         35</td><td style=\"text-align: right;\">          5</td><td style=\"text-align: right;\">          150</td><td style=\"text-align: right;\">0.0232101</td><td style=\"text-align: right;\">         0.001</td><td style=\"text-align: right;\">     2</td><td style=\"text-align: right;\">        0.740049</td><td style=\"text-align: right;\">0.390577</td></tr>\n",
       "<tr><td>train_timeseries_net_5fe404ec</td><td>TERMINATED</td><td>192.168.177.120:3599</td><td style=\"text-align: right;\">1e-05</td><td style=\"text-align: right;\">         75</td><td style=\"text-align: right;\">         25</td><td style=\"text-align: right;\">          5</td><td style=\"text-align: right;\">          150</td><td style=\"text-align: right;\">0.0613751</td><td style=\"text-align: right;\">         0.001</td><td style=\"text-align: right;\">    21</td><td style=\"text-align: right;\">        7.57352 </td><td style=\"text-align: right;\">0.398192</td></tr>\n",
       "</tbody>\n",
       "</table><br><br>"
      ],
      "text/plain": [
       "<IPython.core.display.HTML object>"
      ]
     },
     "metadata": {},
     "output_type": "display_data"
    },
    {
     "name": "stdout",
     "output_type": "stream",
     "text": [
      "Result for train_timeseries_net_61d9aa0e:\n",
      "  date: 2022-05-14_13-43-38\n",
      "  done: false\n",
      "  experiment_id: da377703138d4a2ba55903e027a2a954\n",
      "  hostname: higuchilab-P7xxTM1\n",
      "  iterations_since_restore: 15\n",
      "  loss: 0.3337697982788086\n",
      "  node_ip: 192.168.177.120\n",
      "  pid: 3825\n",
      "  time_since_restore: 5.428187131881714\n",
      "  time_this_iter_s: 0.3651251792907715\n",
      "  time_total_s: 5.428187131881714\n",
      "  timestamp: 1652503418\n",
      "  timesteps_since_restore: 0\n",
      "  training_iteration: 15\n",
      "  trial_id: 61d9aa0e\n",
      "  warmup_time: 0.0017764568328857422\n",
      "  \n",
      "Result for train_timeseries_net_61d9aa0e:\n",
      "  date: 2022-05-14_13-43-38\n",
      "  done: true\n",
      "  experiment_id: da377703138d4a2ba55903e027a2a954\n",
      "  experiment_tag: 2_eps=1e-11,fc_size_0=75,fc_size_1=35,fc_size_2=5,hidden_size=150,lr=0.02321,weight_decay=0.001\n",
      "  hostname: higuchilab-P7xxTM1\n",
      "  iterations_since_restore: 15\n",
      "  loss: 0.3337697982788086\n",
      "  node_ip: 192.168.177.120\n",
      "  pid: 3825\n",
      "  time_since_restore: 5.428187131881714\n",
      "  time_this_iter_s: 0.3651251792907715\n",
      "  time_total_s: 5.428187131881714\n",
      "  timestamp: 1652503418\n",
      "  timesteps_since_restore: 0\n",
      "  training_iteration: 15\n",
      "  trial_id: 61d9aa0e\n",
      "  warmup_time: 0.0017764568328857422\n",
      "  \n"
     ]
    },
    {
     "data": {
      "text/html": [
       "== Status ==<br>Current time: 2022-05-14 13:43:38 (running for 00:00:20.25)<br>Memory usage on this node: 15.4/31.3 GiB<br>Using FIFO scheduling algorithm.<br>Resources requested: 0/12 CPUs, 0/1 GPUs, 0.0/11.87 GiB heap, 0.0/5.93 GiB objects (0.0/1.0 accelerator_type:G)<br>Result logdir: /home/higuchi-lab/ray_results/train_timeseries_net_2022-05-14_13-43-18<br>Number of trials: 2/2 (2 TERMINATED)<br><table>\n",
       "<thead>\n",
       "<tr><th>Trial name                   </th><th>status    </th><th>loc                 </th><th style=\"text-align: right;\">  eps</th><th style=\"text-align: right;\">  fc_size_0</th><th style=\"text-align: right;\">  fc_size_1</th><th style=\"text-align: right;\">  fc_size_2</th><th style=\"text-align: right;\">  hidden_size</th><th style=\"text-align: right;\">       lr</th><th style=\"text-align: right;\">  weight_decay</th><th style=\"text-align: right;\">  iter</th><th style=\"text-align: right;\">  total time (s)</th><th style=\"text-align: right;\">    loss</th></tr>\n",
       "</thead>\n",
       "<tbody>\n",
       "<tr><td>train_timeseries_net_5fe404ec</td><td>TERMINATED</td><td>192.168.177.120:3599</td><td style=\"text-align: right;\">1e-05</td><td style=\"text-align: right;\">         75</td><td style=\"text-align: right;\">         25</td><td style=\"text-align: right;\">          5</td><td style=\"text-align: right;\">          150</td><td style=\"text-align: right;\">0.0613751</td><td style=\"text-align: right;\">         0.001</td><td style=\"text-align: right;\">    21</td><td style=\"text-align: right;\">         7.57352</td><td style=\"text-align: right;\">0.398192</td></tr>\n",
       "<tr><td>train_timeseries_net_61d9aa0e</td><td>TERMINATED</td><td>192.168.177.120:3825</td><td style=\"text-align: right;\">1e-11</td><td style=\"text-align: right;\">         75</td><td style=\"text-align: right;\">         35</td><td style=\"text-align: right;\">          5</td><td style=\"text-align: right;\">          150</td><td style=\"text-align: right;\">0.0232101</td><td style=\"text-align: right;\">         0.001</td><td style=\"text-align: right;\">    15</td><td style=\"text-align: right;\">         5.42819</td><td style=\"text-align: right;\">0.33377 </td></tr>\n",
       "</tbody>\n",
       "</table><br><br>"
      ],
      "text/plain": [
       "<IPython.core.display.HTML object>"
      ]
     },
     "metadata": {},
     "output_type": "display_data"
    },
    {
     "name": "stderr",
     "output_type": "stream",
     "text": [
      "2022-05-14 13:43:38,536\tINFO tune.py:701 -- Total run time: 20.36 seconds (20.25 seconds for the tuning loop).\n",
      "2022-05-14 13:43:38,667\tINFO trial_runner.py:803 -- starting train_rf_6c0a033e\n"
     ]
    },
    {
     "data": {
      "text/html": [
       "== Status ==<br>Current time: 2022-05-14 13:43:39 (running for 00:00:01.31)<br>Memory usage on this node: 13.3/31.3 GiB<br>Using FIFO scheduling algorithm.<br>Resources requested: 1.0/12 CPUs, 1.0/1 GPUs, 0.0/11.87 GiB heap, 0.0/5.93 GiB objects (0.0/1.0 accelerator_type:G)<br>Result logdir: /home/higuchi-lab/ray_results/train_rf_2022-05-14_13-43-38<br>Number of trials: 1/2 (1 RUNNING)<br><table>\n",
       "<thead>\n",
       "<tr><th>Trial name       </th><th>status  </th><th>loc                 </th><th style=\"text-align: right;\">  max_depth</th><th style=\"text-align: right;\">  min_samples_leaf</th><th style=\"text-align: right;\">  min_samples_split</th><th style=\"text-align: right;\">  n_estimators</th></tr>\n",
       "</thead>\n",
       "<tbody>\n",
       "<tr><td>train_rf_6c0a033e</td><td>RUNNING </td><td>192.168.177.120:4008</td><td style=\"text-align: right;\">         20</td><td style=\"text-align: right;\">                 3</td><td style=\"text-align: right;\">                  2</td><td style=\"text-align: right;\">           200</td></tr>\n",
       "</tbody>\n",
       "</table><br><br>"
      ],
      "text/plain": [
       "<IPython.core.display.HTML object>"
      ]
     },
     "metadata": {},
     "output_type": "display_data"
    },
    {
     "name": "stdout",
     "output_type": "stream",
     "text": [
      "Result for train_rf_6c0a033e:\n",
      "  accuracy: 0.9125\n",
      "  date: 2022-05-14_13-43-40\n",
      "  done: false\n",
      "  experiment_id: 0b1acacf25e8413db6d79e6de21595df\n",
      "  hostname: higuchilab-P7xxTM1\n",
      "  iterations_since_restore: 1\n",
      "  node_ip: 192.168.177.120\n",
      "  pid: 4008\n",
      "  time_since_restore: 0.24737882614135742\n",
      "  time_this_iter_s: 0.24737882614135742\n",
      "  time_total_s: 0.24737882614135742\n",
      "  timestamp: 1652503420\n",
      "  timesteps_since_restore: 0\n",
      "  training_iteration: 1\n",
      "  trial_id: 6c0a033e\n",
      "  warmup_time: 0.0018885135650634766\n",
      "  \n",
      "Result for train_rf_6c0a033e:\n",
      "  accuracy: 0.9125\n",
      "  date: 2022-05-14_13-43-40\n",
      "  done: true\n",
      "  experiment_id: 0b1acacf25e8413db6d79e6de21595df\n",
      "  experiment_tag: 1_max_depth=20,min_samples_leaf=3,min_samples_split=2,n_estimators=200\n",
      "  hostname: higuchilab-P7xxTM1\n",
      "  iterations_since_restore: 1\n",
      "  node_ip: 192.168.177.120\n",
      "  pid: 4008\n",
      "  time_since_restore: 0.24737882614135742\n",
      "  time_this_iter_s: 0.24737882614135742\n",
      "  time_total_s: 0.24737882614135742\n",
      "  timestamp: 1652503420\n",
      "  timesteps_since_restore: 0\n",
      "  training_iteration: 1\n",
      "  trial_id: 6c0a033e\n",
      "  warmup_time: 0.0018885135650634766\n",
      "  \n"
     ]
    },
    {
     "name": "stderr",
     "output_type": "stream",
     "text": [
      "2022-05-14 13:43:40,815\tINFO trial_runner.py:803 -- starting train_rf_6cd19cfa\n"
     ]
    },
    {
     "name": "stdout",
     "output_type": "stream",
     "text": [
      "Result for train_rf_6cd19cfa:\n",
      "  accuracy: 0.9125\n",
      "  date: 2022-05-14_13-43-42\n",
      "  done: false\n",
      "  experiment_id: d4be085c08ab41a582f1461a8c37ecf2\n",
      "  hostname: higuchilab-P7xxTM1\n",
      "  iterations_since_restore: 1\n",
      "  node_ip: 192.168.177.120\n",
      "  pid: 4080\n",
      "  time_since_restore: 0.11791729927062988\n",
      "  time_this_iter_s: 0.11791729927062988\n",
      "  time_total_s: 0.11791729927062988\n",
      "  timestamp: 1652503422\n",
      "  timesteps_since_restore: 0\n",
      "  training_iteration: 1\n",
      "  trial_id: 6cd19cfa\n",
      "  warmup_time: 0.001840829849243164\n",
      "  \n",
      "Result for train_rf_6cd19cfa:\n",
      "  accuracy: 0.9125\n",
      "  date: 2022-05-14_13-43-42\n",
      "  done: true\n",
      "  experiment_id: d4be085c08ab41a582f1461a8c37ecf2\n",
      "  experiment_tag: 2_max_depth=5,min_samples_leaf=4,min_samples_split=8,n_estimators=100\n",
      "  hostname: higuchilab-P7xxTM1\n",
      "  iterations_since_restore: 1\n",
      "  node_ip: 192.168.177.120\n",
      "  pid: 4080\n",
      "  time_since_restore: 0.11791729927062988\n",
      "  time_this_iter_s: 0.11791729927062988\n",
      "  time_total_s: 0.11791729927062988\n",
      "  timestamp: 1652503422\n",
      "  timesteps_since_restore: 0\n",
      "  training_iteration: 1\n",
      "  trial_id: 6cd19cfa\n",
      "  warmup_time: 0.001840829849243164\n",
      "  \n"
     ]
    },
    {
     "data": {
      "text/html": [
       "== Status ==<br>Current time: 2022-05-14 13:43:42 (running for 00:00:03.59)<br>Memory usage on this node: 13.3/31.3 GiB<br>Using FIFO scheduling algorithm.<br>Resources requested: 0/12 CPUs, 0/1 GPUs, 0.0/11.87 GiB heap, 0.0/5.93 GiB objects (0.0/1.0 accelerator_type:G)<br>Result logdir: /home/higuchi-lab/ray_results/train_rf_2022-05-14_13-43-38<br>Number of trials: 2/2 (2 TERMINATED)<br><table>\n",
       "<thead>\n",
       "<tr><th>Trial name       </th><th>status    </th><th>loc                 </th><th style=\"text-align: right;\">  max_depth</th><th style=\"text-align: right;\">  min_samples_leaf</th><th style=\"text-align: right;\">  min_samples_split</th><th style=\"text-align: right;\">  n_estimators</th><th style=\"text-align: right;\">  iter</th><th style=\"text-align: right;\">  total time (s)</th><th style=\"text-align: right;\">  accuracy</th></tr>\n",
       "</thead>\n",
       "<tbody>\n",
       "<tr><td>train_rf_6c0a033e</td><td>TERMINATED</td><td>192.168.177.120:4008</td><td style=\"text-align: right;\">         20</td><td style=\"text-align: right;\">                 3</td><td style=\"text-align: right;\">                  2</td><td style=\"text-align: right;\">           200</td><td style=\"text-align: right;\">     1</td><td style=\"text-align: right;\">        0.247379</td><td style=\"text-align: right;\">    0.9125</td></tr>\n",
       "<tr><td>train_rf_6cd19cfa</td><td>TERMINATED</td><td>192.168.177.120:4080</td><td style=\"text-align: right;\">          5</td><td style=\"text-align: right;\">                 4</td><td style=\"text-align: right;\">                  8</td><td style=\"text-align: right;\">           100</td><td style=\"text-align: right;\">     1</td><td style=\"text-align: right;\">        0.117917</td><td style=\"text-align: right;\">    0.9125</td></tr>\n",
       "</tbody>\n",
       "</table><br><br>"
      ],
      "text/plain": [
       "<IPython.core.display.HTML object>"
      ]
     },
     "metadata": {},
     "output_type": "display_data"
    },
    {
     "name": "stderr",
     "output_type": "stream",
     "text": [
      "2022-05-14 13:43:42,256\tINFO tune.py:701 -- Total run time: 3.70 seconds (3.59 seconds for the tuning loop).\n",
      "2022-05-14 13:43:42,444\tINFO trial_runner.py:803 -- starting train_linear_6e4a0518\n"
     ]
    },
    {
     "data": {
      "text/html": [
       "== Status ==<br>Current time: 2022-05-14 13:43:43 (running for 00:00:01.34)<br>Memory usage on this node: 13.4/31.3 GiB<br>Using FIFO scheduling algorithm.<br>Resources requested: 1.0/12 CPUs, 1.0/1 GPUs, 0.0/11.87 GiB heap, 0.0/5.93 GiB objects (0.0/1.0 accelerator_type:G)<br>Result logdir: /home/higuchi-lab/ray_results/train_linear_2022-05-14_13-43-42<br>Number of trials: 1/2 (1 RUNNING)<br><table>\n",
       "<thead>\n",
       "<tr><th>Trial name           </th><th>status  </th><th>loc                 </th><th style=\"text-align: right;\">  C</th></tr>\n",
       "</thead>\n",
       "<tbody>\n",
       "<tr><td>train_linear_6e4a0518</td><td>RUNNING </td><td>192.168.177.120:4153</td><td style=\"text-align: right;\">  5</td></tr>\n",
       "</tbody>\n",
       "</table><br><br>"
      ],
      "text/plain": [
       "<IPython.core.display.HTML object>"
      ]
     },
     "metadata": {},
     "output_type": "display_data"
    },
    {
     "name": "stderr",
     "output_type": "stream",
     "text": [
      "2022-05-14 13:43:43,818\tINFO trial_runner.py:803 -- starting train_linear_6f16569a\n"
     ]
    },
    {
     "name": "stdout",
     "output_type": "stream",
     "text": [
      "Result for train_linear_6e4a0518:\n",
      "  accuracy: 0.875\n",
      "  date: 2022-05-14_13-43-43\n",
      "  done: false\n",
      "  experiment_id: c2759677cc714806aabda3dd875954b7\n",
      "  hostname: higuchilab-P7xxTM1\n",
      "  iterations_since_restore: 1\n",
      "  node_ip: 192.168.177.120\n",
      "  pid: 4153\n",
      "  time_since_restore: 0.023204326629638672\n",
      "  time_this_iter_s: 0.023204326629638672\n",
      "  time_total_s: 0.023204326629638672\n",
      "  timestamp: 1652503423\n",
      "  timesteps_since_restore: 0\n",
      "  training_iteration: 1\n",
      "  trial_id: 6e4a0518\n",
      "  warmup_time: 0.0017290115356445312\n",
      "  \n",
      "Result for train_linear_6e4a0518:\n",
      "  accuracy: 0.875\n",
      "  date: 2022-05-14_13-43-43\n",
      "  done: true\n",
      "  experiment_id: c2759677cc714806aabda3dd875954b7\n",
      "  experiment_tag: 1_C=5\n",
      "  hostname: higuchilab-P7xxTM1\n",
      "  iterations_since_restore: 1\n",
      "  node_ip: 192.168.177.120\n",
      "  pid: 4153\n",
      "  time_since_restore: 0.023204326629638672\n",
      "  time_this_iter_s: 0.023204326629638672\n",
      "  time_total_s: 0.023204326629638672\n",
      "  timestamp: 1652503423\n",
      "  timesteps_since_restore: 0\n",
      "  training_iteration: 1\n",
      "  trial_id: 6e4a0518\n",
      "  warmup_time: 0.0017290115356445312\n",
      "  \n",
      "Result for train_linear_6f16569a:\n",
      "  accuracy: 0.8625\n",
      "  date: 2022-05-14_13-43-45\n",
      "  done: false\n",
      "  experiment_id: ac17e3778a814113baee822779a12e2e\n",
      "  hostname: higuchilab-P7xxTM1\n",
      "  iterations_since_restore: 1\n",
      "  node_ip: 192.168.177.120\n",
      "  pid: 4224\n",
      "  time_since_restore: 0.01764655113220215\n",
      "  time_this_iter_s: 0.01764655113220215\n",
      "  time_total_s: 0.01764655113220215\n",
      "  timestamp: 1652503425\n",
      "  timesteps_since_restore: 0\n",
      "  training_iteration: 1\n",
      "  trial_id: 6f16569a\n",
      "  warmup_time: 0.0017409324645996094\n",
      "  \n",
      "Result for train_linear_6f16569a:\n",
      "  accuracy: 0.8625\n",
      "  date: 2022-05-14_13-43-45\n",
      "  done: true\n",
      "  experiment_id: ac17e3778a814113baee822779a12e2e\n",
      "  experiment_tag: 2_C=0.1\n",
      "  hostname: higuchilab-P7xxTM1\n",
      "  iterations_since_restore: 1\n",
      "  node_ip: 192.168.177.120\n",
      "  pid: 4224\n",
      "  time_since_restore: 0.01764655113220215\n",
      "  time_this_iter_s: 0.01764655113220215\n",
      "  time_total_s: 0.01764655113220215\n",
      "  timestamp: 1652503425\n",
      "  timesteps_since_restore: 0\n",
      "  training_iteration: 1\n",
      "  trial_id: 6f16569a\n",
      "  warmup_time: 0.0017409324645996094\n",
      "  \n"
     ]
    },
    {
     "data": {
      "text/html": [
       "== Status ==<br>Current time: 2022-05-14 13:43:45 (running for 00:00:02.73)<br>Memory usage on this node: 13.4/31.3 GiB<br>Using FIFO scheduling algorithm.<br>Resources requested: 0/12 CPUs, 0/1 GPUs, 0.0/11.87 GiB heap, 0.0/5.93 GiB objects (0.0/1.0 accelerator_type:G)<br>Result logdir: /home/higuchi-lab/ray_results/train_linear_2022-05-14_13-43-42<br>Number of trials: 2/2 (2 TERMINATED)<br><table>\n",
       "<thead>\n",
       "<tr><th>Trial name           </th><th>status    </th><th>loc                 </th><th style=\"text-align: right;\">  C</th><th style=\"text-align: right;\">  iter</th><th style=\"text-align: right;\">  total time (s)</th><th style=\"text-align: right;\">  accuracy</th></tr>\n",
       "</thead>\n",
       "<tbody>\n",
       "<tr><td>train_linear_6e4a0518</td><td>TERMINATED</td><td>192.168.177.120:4153</td><td style=\"text-align: right;\">5  </td><td style=\"text-align: right;\">     1</td><td style=\"text-align: right;\">       0.0232043</td><td style=\"text-align: right;\">    0.875 </td></tr>\n",
       "<tr><td>train_linear_6f16569a</td><td>TERMINATED</td><td>192.168.177.120:4224</td><td style=\"text-align: right;\">0.1</td><td style=\"text-align: right;\">     1</td><td style=\"text-align: right;\">       0.0176466</td><td style=\"text-align: right;\">    0.8625</td></tr>\n",
       "</tbody>\n",
       "</table><br><br>"
      ],
      "text/plain": [
       "<IPython.core.display.HTML object>"
      ]
     },
     "metadata": {},
     "output_type": "display_data"
    },
    {
     "name": "stderr",
     "output_type": "stream",
     "text": [
      "2022-05-14 13:43:45,166\tINFO tune.py:701 -- Total run time: 2.84 seconds (2.72 seconds for the tuning loop).\n",
      "2022-05-14 13:43:45,290\tINFO trial_runner.py:803 -- starting train_rbf_6ffc8f8e\n"
     ]
    },
    {
     "data": {
      "text/html": [
       "== Status ==<br>Current time: 2022-05-14 13:43:46 (running for 00:00:01.30)<br>Memory usage on this node: 13.4/31.3 GiB<br>Using FIFO scheduling algorithm.<br>Resources requested: 1.0/12 CPUs, 1.0/1 GPUs, 0.0/11.87 GiB heap, 0.0/5.93 GiB objects (0.0/1.0 accelerator_type:G)<br>Result logdir: /home/higuchi-lab/ray_results/train_rbf_2022-05-14_13-43-45<br>Number of trials: 1/2 (1 RUNNING)<br><table>\n",
       "<thead>\n",
       "<tr><th>Trial name        </th><th>status  </th><th>loc                 </th><th style=\"text-align: right;\">  C</th><th style=\"text-align: right;\">    gamma</th></tr>\n",
       "</thead>\n",
       "<tbody>\n",
       "<tr><td>train_rbf_6ffc8f8e</td><td>RUNNING </td><td>192.168.177.120:4296</td><td style=\"text-align: right;\">0.5</td><td style=\"text-align: right;\">0.0581017</td></tr>\n",
       "</tbody>\n",
       "</table><br><br>"
      ],
      "text/plain": [
       "<IPython.core.display.HTML object>"
      ]
     },
     "metadata": {},
     "output_type": "display_data"
    },
    {
     "name": "stdout",
     "output_type": "stream",
     "text": [
      "Result for train_rbf_6ffc8f8e:\n",
      "  accuracy: 0.9\n",
      "  date: 2022-05-14_13-43-46\n",
      "  done: false\n",
      "  experiment_id: e43573a49d71454f9f1af839c132a060\n",
      "  hostname: higuchilab-P7xxTM1\n",
      "  iterations_since_restore: 1\n",
      "  node_ip: 192.168.177.120\n",
      "  pid: 4296\n",
      "  time_since_restore: 0.02266693115234375\n",
      "  time_this_iter_s: 0.02266693115234375\n",
      "  time_total_s: 0.02266693115234375\n",
      "  timestamp: 1652503426\n",
      "  timesteps_since_restore: 0\n",
      "  training_iteration: 1\n",
      "  trial_id: 6ffc8f8e\n",
      "  warmup_time: 0.0018582344055175781\n",
      "  \n",
      "Result for train_rbf_6ffc8f8e:\n",
      "  accuracy: 0.9\n",
      "  date: 2022-05-14_13-43-46\n",
      "  done: true\n",
      "  experiment_id: e43573a49d71454f9f1af839c132a060\n",
      "  experiment_tag: 1_C=0.5,gamma=0.058102\n",
      "  hostname: higuchilab-P7xxTM1\n",
      "  iterations_since_restore: 1\n",
      "  node_ip: 192.168.177.120\n",
      "  pid: 4296\n",
      "  time_since_restore: 0.02266693115234375\n",
      "  time_this_iter_s: 0.02266693115234375\n",
      "  time_total_s: 0.02266693115234375\n",
      "  timestamp: 1652503426\n",
      "  timesteps_since_restore: 0\n",
      "  training_iteration: 1\n",
      "  trial_id: 6ffc8f8e\n",
      "  warmup_time: 0.0018582344055175781\n",
      "  \n"
     ]
    },
    {
     "name": "stderr",
     "output_type": "stream",
     "text": [
      "2022-05-14 13:43:46,815\tINFO trial_runner.py:803 -- starting train_rbf_70c27a46\n"
     ]
    },
    {
     "name": "stdout",
     "output_type": "stream",
     "text": [
      "Result for train_rbf_70c27a46:\n",
      "  accuracy: 0.8875\n",
      "  date: 2022-05-14_13-43-48\n",
      "  done: false\n",
      "  experiment_id: 289deb886df84130a961e1f7cd57104b\n",
      "  hostname: higuchilab-P7xxTM1\n",
      "  iterations_since_restore: 1\n",
      "  node_ip: 192.168.177.120\n",
      "  pid: 4335\n",
      "  time_since_restore: 0.02065420150756836\n",
      "  time_this_iter_s: 0.02065420150756836\n",
      "  time_total_s: 0.02065420150756836\n",
      "  timestamp: 1652503428\n",
      "  timesteps_since_restore: 0\n",
      "  training_iteration: 1\n",
      "  trial_id: 70c27a46\n",
      "  warmup_time: 0.0016965866088867188\n",
      "  \n",
      "Result for train_rbf_70c27a46:\n",
      "  accuracy: 0.8875\n",
      "  date: 2022-05-14_13-43-48\n",
      "  done: true\n",
      "  experiment_id: 289deb886df84130a961e1f7cd57104b\n",
      "  experiment_tag: 2_C=1,gamma=0.016106\n",
      "  hostname: higuchilab-P7xxTM1\n",
      "  iterations_since_restore: 1\n",
      "  node_ip: 192.168.177.120\n",
      "  pid: 4335\n",
      "  time_since_restore: 0.02065420150756836\n",
      "  time_this_iter_s: 0.02065420150756836\n",
      "  time_total_s: 0.02065420150756836\n",
      "  timestamp: 1652503428\n",
      "  timesteps_since_restore: 0\n",
      "  training_iteration: 1\n",
      "  trial_id: 70c27a46\n",
      "  warmup_time: 0.0016965866088867188\n",
      "  \n"
     ]
    },
    {
     "data": {
      "text/html": [
       "== Status ==<br>Current time: 2022-05-14 13:43:48 (running for 00:00:02.84)<br>Memory usage on this node: 13.3/31.3 GiB<br>Using FIFO scheduling algorithm.<br>Resources requested: 0/12 CPUs, 0/1 GPUs, 0.0/11.87 GiB heap, 0.0/5.93 GiB objects (0.0/1.0 accelerator_type:G)<br>Result logdir: /home/higuchi-lab/ray_results/train_rbf_2022-05-14_13-43-45<br>Number of trials: 2/2 (2 TERMINATED)<br><table>\n",
       "<thead>\n",
       "<tr><th>Trial name        </th><th>status    </th><th>loc                 </th><th style=\"text-align: right;\">  C</th><th style=\"text-align: right;\">    gamma</th><th style=\"text-align: right;\">  iter</th><th style=\"text-align: right;\">  total time (s)</th><th style=\"text-align: right;\">  accuracy</th></tr>\n",
       "</thead>\n",
       "<tbody>\n",
       "<tr><td>train_rbf_6ffc8f8e</td><td>TERMINATED</td><td>192.168.177.120:4296</td><td style=\"text-align: right;\">0.5</td><td style=\"text-align: right;\">0.0581017</td><td style=\"text-align: right;\">     1</td><td style=\"text-align: right;\">       0.0226669</td><td style=\"text-align: right;\">    0.9   </td></tr>\n",
       "<tr><td>train_rbf_70c27a46</td><td>TERMINATED</td><td>192.168.177.120:4335</td><td style=\"text-align: right;\">1  </td><td style=\"text-align: right;\">0.0161059</td><td style=\"text-align: right;\">     1</td><td style=\"text-align: right;\">       0.0206542</td><td style=\"text-align: right;\">    0.8875</td></tr>\n",
       "</tbody>\n",
       "</table><br><br>"
      ],
      "text/plain": [
       "<IPython.core.display.HTML object>"
      ]
     },
     "metadata": {},
     "output_type": "display_data"
    },
    {
     "name": "stderr",
     "output_type": "stream",
     "text": [
      "2022-05-14 13:43:48,127\tINFO tune.py:701 -- Total run time: 2.95 seconds (2.84 seconds for the tuning loop).\n"
     ]
    }
   ],
   "source": [
    "n_splits = 2\n",
    "val_size = 0.1\n",
    "num_repeats = 1\n",
    "\n",
    "kf = KFold(n_splits=n_splits, random_state=1, shuffle=True)\n",
    "\n",
    "running_acc = 0\n",
    "rf_running_acc = 0\n",
    "linear_running_acc = 0\n",
    "rbf_running_acc = 0\n",
    "\n",
    "accs = []\n",
    "rf_accs = []\n",
    "linear_accs = []\n",
    "rbf_accs = []\n",
    "\n",
    "for repeat in range(num_repeats):\n",
    "    kf = KFold(n_splits=n_splits, random_state=repeat, shuffle=True)\n",
    "    for train_idx, test_idx in kf.split(x):\n",
    "        # split data into train, test\n",
    "        train_x, test_x = x[train_idx], x[test_idx]\n",
    "        train_y, test_y = y[train_idx], y[test_idx]\n",
    "        train_x, val_x, train_y, val_y = train_test_split(train_x, train_y, test_size=val_size, train_size=(1-val_size))\n",
    "\n",
    "        # BiLSTM-Attention\n",
    "        running_acc += pipeline_rnn(\n",
    "            train_x, train_y, test_x, test_y,\n",
    "            val_x, val_y, options=rnn_options, config=rnn_config,\n",
    "            trainer=train_timeseries_net)\n",
    "\n",
    "        # Benchmarks\n",
    "        rf_running_acc += pipeline_benchmarks(\n",
    "            train_x, train_y, test_x, test_y, \n",
    "            val_x, val_y, config=rf_config,\n",
    "            options=benchmarks_options, trainer=train_rf, name=\"rf.pkl\")\n",
    "\n",
    "        linear_running_acc += pipeline_benchmarks(\n",
    "            train_x, train_y, test_x, test_y,\n",
    "            val_x, val_y, config=linear_config,\n",
    "            options=benchmarks_options, trainer=train_linear, name=\"linear.pkl\")\n",
    "\n",
    "        rbf_running_acc += pipeline_benchmarks(\n",
    "            train_x, train_y, test_x, test_y,\n",
    "            val_x, val_y, config=rbf_config,\n",
    "            options=benchmarks_options, trainer=train_rbf, name=\"rbf.pkl\")\n",
    "        \n",
    "    mean_acc = running_acc/n_splits\n",
    "    rf_mean_acc = rf_running_acc/n_splits\n",
    "    linear_mean_acc = linear_running_acc/n_splits\n",
    "    rbf_mean_acc = rbf_running_acc/n_splits\n",
    "    \n",
    "    \n",
    "    accs.append(mean_acc)\n",
    "    rf_accs.append(rf_mean_acc)\n",
    "    linear_accs.append(linear_mean_acc)\n",
    "    rbf_accs.append(rbf_mean_acc)"
   ]
  },
  {
   "cell_type": "code",
   "execution_count": 52,
   "id": "2137bd03-6f71-4f0a-907e-22f5985539d4",
   "metadata": {},
   "outputs": [
    {
     "name": "stdout",
     "output_type": "stream",
     "text": [
      "BiLSTM-Attention:0.88125(0.0)\n",
      "RF:0.8960459183673469(0.0)\n",
      "Linear-SVM:0.8654336734693877(0.0)\n",
      "Rbf-SVM:0.8724489795918366(0.0)\n"
     ]
    }
   ],
   "source": [
    "print(f\"BiLSTM-Attention:{np.mean(accs)}({np.std(accs)})\")\n",
    "print(f\"RF:{np.mean(rf_accs)}({np.std(accs)})\")\n",
    "print(f\"Linear-SVM:{np.mean(linear_accs)}({np.std(accs)})\")\n",
    "print(f\"Rbf-SVM:{np.mean(rbf_accs)}({np.std(accs)})\")"
   ]
  }
 ],
 "metadata": {
  "kernelspec": {
   "display_name": "Python 3 (ipykernel)",
   "language": "python",
   "name": "python3"
  },
  "language_info": {
   "codemirror_mode": {
    "name": "ipython",
    "version": 3
   },
   "file_extension": ".py",
   "mimetype": "text/x-python",
   "name": "python",
   "nbconvert_exporter": "python",
   "pygments_lexer": "ipython3",
   "version": "3.8.8"
  }
 },
 "nbformat": 4,
 "nbformat_minor": 5
}
