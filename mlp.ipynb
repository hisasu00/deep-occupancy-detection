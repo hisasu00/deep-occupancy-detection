{
 "cells": [
  {
   "cell_type": "markdown",
   "id": "4c86fb3d-9047-47bd-96a7-c9a33671d5fd",
   "metadata": {},
   "source": [
    "# Import Object"
   ]
  },
  {
   "cell_type": "code",
   "execution_count": 1,
   "id": "eb72165e-471e-4db5-9110-e08e16a2768b",
   "metadata": {},
   "outputs": [],
   "source": [
    "import pandas as pd\n",
    "import torch\n",
    "from torch import nn\n",
    "from torch import optim\n",
    "from torch.utils.data import TensorDataset, DataLoader\n",
    "from sklearn.model_selection import train_test_split\n",
    "from sklearn import preprocessing\n",
    "\n",
    "from models import MLP\n",
    "from train_model import train_net"
   ]
  },
  {
   "cell_type": "markdown",
   "id": "93c714b2-e646-48eb-922b-503b0afb5226",
   "metadata": {},
   "source": [
    "# Prepare Data"
   ]
  },
  {
   "cell_type": "code",
   "execution_count": 48,
   "id": "d500a961-f492-4289-99f9-ebaa810b2f26",
   "metadata": {},
   "outputs": [],
   "source": [
    "device = torch.device(\"cuda\" if torch.cuda.is_available() else \"cpu\")"
   ]
  },
  {
   "cell_type": "code",
   "execution_count": 3,
   "id": "6353efab-67c2-4c8d-aa75-6ed18486c1a6",
   "metadata": {},
   "outputs": [],
   "source": [
    "X_train = pd.read_csv(\"X_train.csv\").values\n",
    "Y_train = pd.read_csv(\"Y_train.csv\").values.reshape(-1)\n",
    "X_train, X_test, Y_train, Y_test = train_test_split(X_train,\n",
    "                                                    Y_train,\n",
    "                                                    test_size=0.2)\n",
    "\n",
    "ss = preprocessing.StandardScaler()\n",
    "X_train = ss.fit_transform(X_train)\n",
    "X_test = ss.fit_transform(X_test)\n",
    "\n",
    "X_train = torch.tensor(X_train, dtype=torch.float32)\n",
    "Y_train = torch.tensor(Y_train, dtype=torch.int64)\n",
    "X_test = torch.tensor(X_test, dtype=torch.float32)\n",
    "Y_test = torch.tensor(Y_test, dtype=torch.int64)\n",
    "\n",
    "X_train = X_train.to(device)\n",
    "Y_train = Y_train.to(device)\n",
    "X_test = X_test.to(device)\n",
    "Y_test = Y_test.to(device)\n",
    "\n",
    "train_ds = TensorDataset(X_train, Y_train)\n",
    "train_loader = DataLoader(train_ds, batch_size=24, shuffle=True)\n",
    "test_ds = TensorDataset(X_test, Y_test)\n",
    "test_loader = DataLoader(test_ds, batch_size=24, shuffle=True)"
   ]
  },
  {
   "cell_type": "markdown",
   "id": "ae3585ab-b1f9-42fd-b1c7-a1eec97d92aa",
   "metadata": {},
   "source": [
    "# Set Free Parameters"
   ]
  },
  {
   "cell_type": "code",
   "execution_count": 50,
   "id": "4d9a3059-10ce-44c3-a405-a5bbfac5ca6a",
   "metadata": {},
   "outputs": [],
   "source": [
    "input_size = 8\n",
    "num_classes = 2\n",
    "learning_rate = 0.001\n",
    "batch_size = 24\n",
    "num_epochs = 100\n",
    "dropout_ratio = 0.5"
   ]
  },
  {
   "cell_type": "markdown",
   "id": "37760ecc-a587-4c5c-85f8-f7bec3271c97",
   "metadata": {},
   "source": [
    "# Instantiate Model, Criterion, Optimizer"
   ]
  },
  {
   "cell_type": "code",
   "execution_count": 51,
   "id": "c278addf-8af1-4c74-8fb5-b1b4a05ba7f0",
   "metadata": {},
   "outputs": [],
   "source": [
    "model = MLP(input_size, num_classes, dropout_ratio).to(device)\n",
    "criterion = nn.CrossEntropyLoss()\n",
    "optimizer = optim.Adam(model.parameters(), lr=learning_rate)"
   ]
  },
  {
   "cell_type": "markdown",
   "id": "b3c7dbf0-c20b-48bb-930c-1488667d4247",
   "metadata": {},
   "source": [
    "# Training"
   ]
  },
  {
   "cell_type": "code",
   "execution_count": 52,
   "id": "51f316a8-4b1a-4848-93dd-acf9fc82c50d",
   "metadata": {},
   "outputs": [
    {
     "data": {
      "image/png": "[encoded data removed]",
      "text/plain": [
       "<Figure size 432x288 with 1 Axes>"
      ]
     },
     "metadata": {
      "needs_background": "light"
     },
     "output_type": "display_data"
    }
   ],
   "source": [
    "model = train_net(model, criterion, optimizer,\n",
    "                  num_epochs, train_loader, X_test,\n",
    "                  Y_test, device)"
   ]
  },
  {
   "cell_type": "markdown",
   "id": "41f1fd38-031f-460b-ba61-deb625bd8033",
   "metadata": {},
   "source": [
    "# Accuracy"
   ]
  },
  {
   "cell_type": "code",
   "execution_count": 53,
   "id": "71d0ce58-3be3-4b3a-baad-ea8671c06d4f",
   "metadata": {},
   "outputs": [],
   "source": [
    "Y_pred = model(X_test)"
   ]
  },
  {
   "cell_type": "code",
   "execution_count": 54,
   "id": "b287c07f-3eca-4a3a-8625-9ad0e3ea6203",
   "metadata": {},
   "outputs": [
    {
     "data": {
      "text/plain": [
       "tensor(0.9167, device='cuda:0')"
      ]
     },
     "execution_count": 54,
     "metadata": {},
     "output_type": "execute_result"
    }
   ],
   "source": [
    "sum(Y_pred.argmax(1) == Y_test) / int(Y_test.shape[0])"
   ]
  }
 ],
 "metadata": {
  "kernelspec": {
   "display_name": "Python 3 (ipykernel)",
   "language": "python",
   "name": "python3"
  },
  "language_info": {
   "codemirror_mode": {
    "name": "ipython",
    "version": 3
   },
   "file_extension": ".py",
   "mimetype": "text/x-python",
   "name": "python",
   "nbconvert_exporter": "python",
   "pygments_lexer": "ipython3",
   "version": "3.8.8"
  }
 },
 "nbformat": 4,
 "nbformat_minor": 5
}
