{
 "cells": [
  {
   "cell_type": "markdown",
   "id": "4c86fb3d-9047-47bd-96a7-c9a33671d5fd",
   "metadata": {},
   "source": [
    "# Import Object"
   ]
  },
  {
   "cell_type": "code",
   "execution_count": 9,
   "id": "eb72165e-471e-4db5-9110-e08e16a2768b",
   "metadata": {},
   "outputs": [],
   "source": [
    "import pandas as pd\n",
    "import torch\n",
    "from torch import nn\n",
    "from torch import optim\n",
    "from torch.utils.data import TensorDataset, DataLoader\n",
    "from sklearn.model_selection import train_test_split\n",
    "from sklearn import preprocessing\n",
    "\n",
    "from models import MLP\n",
    "from train_model import train_net"
   ]
  },
  {
   "cell_type": "markdown",
   "id": "93c714b2-e646-48eb-922b-503b0afb5226",
   "metadata": {},
   "source": [
    "# Prepare Data"
   ]
  },
  {
   "cell_type": "code",
   "execution_count": 10,
   "id": "d500a961-f492-4289-99f9-ebaa810b2f26",
   "metadata": {},
   "outputs": [],
   "source": [
    "device = torch.device(\"cuda\" if torch.cuda.is_available() else \"cpu\")"
   ]
  },
  {
   "cell_type": "code",
   "execution_count": 11,
   "id": "6353efab-67c2-4c8d-aa75-6ed18486c1a6",
   "metadata": {},
   "outputs": [],
   "source": [
    "train_x = pd.read_csv(\"X_train.csv\").values\n",
    "train_y = pd.read_csv(\"Y_train.csv\").values.reshape(-1)\n",
    "train_x, test_x, train_y, test_y = train_test_split(train_x,\n",
    "                                                   train_y,\n",
    "                                                   test_size=0.2)\n",
    "\n",
    "ss = preprocessing.StandardScaler()\n",
    "train_x = ss.fit_transform(train_x)\n",
    "test_x = ss.fit_transform(test_x)\n",
    "\n",
    "train_x = torch.tensor(train_x, dtype=torch.float32)\n",
    "train_y = torch.tensor(train_y, dtype=torch.int64)\n",
    "test_x = torch.tensor(test_x, dtype=torch.float32)\n",
    "test_y = torch.tensor(test_y, dtype=torch.int64)\n",
    "\n",
    "train_x = train_x.to(device)\n",
    "train_y = train_y.to(device)\n",
    "test_x = test_x.to(device)\n",
    "test_y = test_y.to(device)\n",
    "\n",
    "train_ds = TensorDataset(train_x, train_y)\n",
    "train_loader = DataLoader(train_ds, batch_size=24, shuffle=True)"
   ]
  },
  {
   "cell_type": "markdown",
   "id": "ae3585ab-b1f9-42fd-b1c7-a1eec97d92aa",
   "metadata": {},
   "source": [
    "# Set Free Parameters"
   ]
  },
  {
   "cell_type": "code",
   "execution_count": 12,
   "id": "4d9a3059-10ce-44c3-a405-a5bbfac5ca6a",
   "metadata": {},
   "outputs": [],
   "source": [
    "input_size = 8\n",
    "num_classes = 2\n",
    "learning_rate = 0.001\n",
    "batch_size = 24\n",
    "num_epochs = 100\n",
    "dropout_ratio = 0.5"
   ]
  },
  {
   "cell_type": "markdown",
   "id": "37760ecc-a587-4c5c-85f8-f7bec3271c97",
   "metadata": {},
   "source": [
    "# Instantiate Model, Criterion, Optimizer"
   ]
  },
  {
   "cell_type": "code",
   "execution_count": 13,
   "id": "c278addf-8af1-4c74-8fb5-b1b4a05ba7f0",
   "metadata": {},
   "outputs": [],
   "source": [
    "model = MLP(input_size, num_classes, dropout_ratio).to(device)\n",
    "criterion = nn.CrossEntropyLoss()\n",
    "optimizer = optim.Adam(model.parameters(), lr=learning_rate)"
   ]
  },
  {
   "cell_type": "markdown",
   "id": "b3c7dbf0-c20b-48bb-930c-1488667d4247",
   "metadata": {},
   "source": [
    "# Training"
   ]
  },
  {
   "cell_type": "code",
   "execution_count": 14,
   "id": "51f316a8-4b1a-4848-93dd-acf9fc82c50d",
   "metadata": {},
   "outputs": [
    {
     "data": {
      "image/png": "[encoded data removed]",
      "text/plain": [
       "<Figure size 432x288 with 1 Axes>"
      ]
     },
     "metadata": {
      "needs_background": "light"
     },
     "output_type": "display_data"
    }
   ],
   "source": [
    "model = train_net(model, criterion, optimizer,\n",
    "                  num_epochs, train_loader, test_x,\n",
    "                  test_y, device)"
   ]
  },
  {
   "cell_type": "markdown",
   "id": "41f1fd38-031f-460b-ba61-deb625bd8033",
   "metadata": {},
   "source": [
    "# Accuracy"
   ]
  },
  {
   "cell_type": "code",
   "execution_count": 15,
   "id": "71d0ce58-3be3-4b3a-baad-ea8671c06d4f",
   "metadata": {},
   "outputs": [],
   "source": [
    "pred_y = model(test_x)"
   ]
  },
  {
   "cell_type": "code",
   "execution_count": 16,
   "id": "b287c07f-3eca-4a3a-8625-9ad0e3ea6203",
   "metadata": {},
   "outputs": [
    {
     "data": {
      "text/plain": [
       "tensor(0.8229, device='cuda:0')"
      ]
     },
     "execution_count": 16,
     "metadata": {},
     "output_type": "execute_result"
    }
   ],
   "source": [
    "sum(pred_y.argmax(1) == test_y) / int(test_y.shape[0])"
   ]
  }
 ],
 "metadata": {
  "kernelspec": {
   "display_name": "Python 3 (ipykernel)",
   "language": "python",
   "name": "python3"
  },
  "language_info": {
   "codemirror_mode": {
    "name": "ipython",
    "version": 3
   },
   "file_extension": ".py",
   "mimetype": "text/x-python",
   "name": "python",
   "nbconvert_exporter": "python",
   "pygments_lexer": "ipython3",
   "version": "3.8.8"
  }
 },
 "nbformat": 4,
 "nbformat_minor": 5
}
