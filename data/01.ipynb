{
 "cells": [
  {
   "cell_type": "markdown",
   "metadata": {},
   "source": [
    "# **Import Object**"
   ]
  },
  {
   "cell_type": "code",
   "execution_count": 1,
   "metadata": {},
   "outputs": [],
   "source": [
    "import matplotlib.pyplot as plt\n",
    "import pandas as pd\n",
    "import numpy as np\n",
    "from datetime import datetime as dt\n",
    "import datetime\n",
    "\n",
    "import get_x_y"
   ]
  },
  {
   "cell_type": "markdown",
   "metadata": {},
   "source": [
    "# **Load Energy**"
   ]
  },
  {
   "cell_type": "code",
   "execution_count": null,
   "metadata": {},
   "outputs": [],
   "source": [
    "energy_6_10_60m = get_x_y.get_targret_energy(1, [6, 7, 8, 9, 10], 3600)\n",
    "energy_11_1_60m  = get_x_y.get_targret_energy(1, [11, 12, 1], 3600)\n",
    "\n",
    "energy_6_10_30m = get_x_y.get_targret_energy(1, [6, 7, 8, 9, 10], 1800)\n",
    "energy_11_1_30m  = get_x_y.get_targret_energy(1, [11, 12, 1], 1800)"
   ]
  },
  {
   "cell_type": "markdown",
   "metadata": {},
   "source": [
    "# **Load Occupancy**"
   ]
  },
  {
   "cell_type": "code",
   "execution_count": null,
   "metadata": {},
   "outputs": [],
   "source": [
    "occupancy_sum=pd.read_csv('./ecodataset/Occupancy/01_summer.csv')\n",
    "occupancy_sum=occupancy_sum.set_index('Unnamed: 0')\n",
    "\n",
    "occupancy_win=pd.read_csv('./ecodataset/Occupancy/01_winter.csv')\n",
    "occupancy_win=occupancy_win.set_index('Unnamed: 0')"
   ]
  },
  {
   "cell_type": "code",
   "execution_count": null,
   "metadata": {},
   "outputs": [],
   "source": [
    "occupancy_sum = get_x_y.to_intervals_occupancy(occupancy_sum, 3600)\n",
    "occupancy_win = get_x_y.to_intervals_occupancy(occupancy_win, 3600)"
   ]
  },
  {
   "cell_type": "markdown",
   "metadata": {},
   "source": [
    "# **Create Ratio**"
   ]
  },
  {
   "cell_type": "code",
   "execution_count": null,
   "metadata": {},
   "outputs": [],
   "source": [
    "ratio_sum = get_x_y.build_ratio(occupancy_sum.columns, energy_6_10_60m , 24)\n",
    "ratio_win = get_x_y.build_ratio(occupancy_win.columns, energy_11_1_60m , 24)"
   ]
  },
  {
   "cell_type": "markdown",
   "metadata": {},
   "source": [
    "# **Create Features**"
   ]
  },
  {
   "cell_type": "code",
   "execution_count": 6,
   "metadata": {},
   "outputs": [],
   "source": [
    "col_sum = pd.DataFrame(ratio_sum.columns.tolist())\n",
    "energy_sum = get_x_y.get_corresponding_energy(occupancy_sum.columns, energy_6_10_30m)\n",
    "\n",
    "ratio_sum = ratio_sum.values.T.reshape(-1)\n",
    "\n",
    "mean_list, max_list, min_list, std_list, range_list = get_x_y.create_features(energy_sum, col_sum)\n",
    "time_list = [t for t in range(0, 24, 1)] * len(col_sum)\n",
    "season_list = [1 for i in range(len(ratio_sum))]\n",
    "weekdays = get_x_y.get_weekdays(occupancy_sum.columns)\n",
    "\n",
    "features_sum  = pd.DataFrame({\n",
    "    \"Ratio\": ratio_sum, \"Mean\": mean_list, \"Max\": max_list,\n",
    "    \"Min\": min_list, \"Std\": std_list, \"Range\": range_list,\n",
    "    \"Time\": time_list, \"Season\": season_list, \"Weekday\": weekdays\n",
    "    })\n",
    "\n",
    "features_sum[\"Lag-1_Ratio\"] = np.concatenate([np.array([0.5]), features_sum[\"Ratio\"].values[:-1]])\n",
    "features_sum[\"Lag+1_Ratio\"] = np.append(features_sum[\"Ratio\"].values[1:], 0.5)\n",
    "features_sum = features_sum[(features_sum.Time > 5) & (features_sum.Time < 22)]\n",
    "features_sum = get_x_y.get_am_pm(features_sum) \n",
    "features_sum =  features_sum.reindex([\n",
    "    'Ratio', 'Mean', 'Max', 'Min',\n",
    "    'Std', 'Range','Lag-1_Ratio', 'Lag+1_Ratio',\n",
    "    'Season', 'Weekday', 'Am', 'Lunch', 'Pm'\n",
    "    ], axis=1)\n",
    "features_sum.to_csv(\"1_Sum_X_train.csv\", index=False)\n",
    "\n",
    "occupancy_sum = occupancy_sum[6:22].values.T.reshape(-1) \n",
    "occupancy_sum = pd.DataFrame(occupancy_sum, columns=[\"Occupancy\"])\n",
    "occupancy_sum.to_csv(\"1_Sum_Y_train.csv\", index=False)"
   ]
  },
  {
   "cell_type": "code",
   "execution_count": 7,
   "metadata": {},
   "outputs": [],
   "source": [
    "col_win = pd.DataFrame(ratio_win.columns.tolist())\n",
    "energy_win = get_x_y.get_corresponding_energy(occupancy_win.columns, energy_11_1_30m)\n",
    "\n",
    "ratio_win = ratio_win.values.T.reshape(-1)\n",
    "\n",
    "mean_list, max_list, min_list, std_list, range_list = get_x_y.create_features(energy_win, col_win)\n",
    "time_list = [t for t in range(0, 24, 1)] * len(col_win)\n",
    "season_list = [0 for i in range(len(ratio_win))]\n",
    "weekdays = get_x_y.get_weekdays(occupancy_win.columns)\n",
    "\n",
    "features_win = pd.DataFrame({\n",
    "    \"Ratio\": ratio_win, \"Mean\": mean_list, \"Max\": max_list,\n",
    "    \"Min\": min_list, \"Std\": std_list, \"Range\": range_list,\n",
    "    \"Time\": time_list, \"Season\": season_list, \"Weekday\": weekdays\n",
    "    })\n",
    "\n",
    "features_win[\"Lag-1_Ratio\"] = np.concatenate([np.array([0.5]), features_win[\"Ratio\"].values[:-1]])\n",
    "features_win[\"Lag+1_Ratio\"] = np.append(features_win[\"Ratio\"].values[1:], 0.5)\n",
    "features_win = features_win[(features_win.Time > 5) & (features_win.Time < 22)]\n",
    "features_win = get_x_y.get_am_pm(features_win)\n",
    "features_win =  features_win.reindex([\n",
    "    'Ratio', 'Mean', 'Max', 'Min',\n",
    "    'Std', 'Range','Lag-1_Ratio', 'Lag+1_Ratio',\n",
    "    'Season', 'Weekday', 'Am', 'Lunch', 'Pm'\n",
    "    ], axis=1)\n",
    "features_win.to_csv(\"1_Win_X_train.csv\", index=False)\n",
    "\n",
    "occupancy_win = occupancy_win[6:22].values.T.reshape(-1)\n",
    "occupancy_win = pd.DataFrame(occupancy_win, columns=[\"Occupancy\"])\n",
    "occupancy_win.to_csv(\"1_Win_Y_train.csv\", index=False)"
   ]
  },
  {
   "cell_type": "code",
   "execution_count": 8,
   "metadata": {},
   "outputs": [],
   "source": [
    "X = pd.concat([features_sum, features_win], axis=0)\n",
    "Y = pd.concat([occupancy_sum, occupancy_win], axis=0)\n",
    "X.to_csv(\"1_X_train.csv\", index=False)\n",
    "Y.to_csv(\"1_Y_train.csv\", index=False)"
   ]
  }
 ],
 "metadata": {
  "kernelspec": {
   "display_name": "Python 3 (ipykernel)",
   "language": "python",
   "name": "python3"
  },
  "language_info": {
   "codemirror_mode": {
    "name": "ipython",
    "version": 3
   },
   "file_extension": ".py",
   "mimetype": "text/x-python",
   "name": "python",
   "nbconvert_exporter": "python",
   "pygments_lexer": "ipython3",
   "version": "3.8.8"
  }
 },
 "nbformat": 4,
 "nbformat_minor": 4
}
