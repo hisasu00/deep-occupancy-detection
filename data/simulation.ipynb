{
 "cells": [
  {
   "cell_type": "markdown",
   "id": "8e0e71aa-6adc-4360-8de0-fcf90e21486e",
   "metadata": {},
   "source": [
    "# Import Module"
   ]
  },
  {
   "cell_type": "code",
   "execution_count": 8,
   "id": "930d73b6-dc62-4e89-a265-fe591221c861",
   "metadata": {},
   "outputs": [],
   "source": [
    "import matplotlib.pyplot as plt\n",
    "import numpy as np\n",
    "import pandas as pd\n",
    "\n",
    "import get_x_y"
   ]
  },
  {
   "cell_type": "markdown",
   "id": "6aa8f192-de43-4ee6-8e2f-99d7438687d9",
   "metadata": {},
   "source": [
    "# Free Params"
   ]
  },
  {
   "cell_type": "code",
   "execution_count": 9,
   "id": "39e6ec6f-6558-49c4-b9ae-82412c49107b",
   "metadata": {},
   "outputs": [],
   "source": [
    "num_obs = 48\n",
    "num_weekdays = 6\n",
    "num_weeks = 3\n",
    "num_samples = num_obs*(num_weekdays+1)*num_weeks\n",
    "\n",
    "energy_1 = 1e6\n",
    "energy_0 = 0.2*1e6\n",
    "\n",
    "getup_t = 12\n",
    "breakfast_t = 18\n",
    "dinner_t = 34\n",
    "sleep_t = 46"
   ]
  },
  {
   "cell_type": "markdown",
   "id": "271d7325-9181-4790-8e02-31b3a09395fe",
   "metadata": {},
   "source": [
    "# Generate Data"
   ]
  },
  {
   "cell_type": "code",
   "execution_count": 10,
   "id": "58ee626d-0db9-4970-9569-7d98cab55fbc",
   "metadata": {},
   "outputs": [],
   "source": [
    "simulate_x = []\n",
    "\n",
    "# Weekday\n",
    "for t in range(0, num_obs, 1):\n",
    "    if getup_t <= t < breakfast_t:\n",
    "        simulate_x.append(energy_1)\n",
    "    elif breakfast_t <= t < dinner_t:\n",
    "        simulate_x.append(energy_0)\n",
    "    elif dinner_t <= t < sleep_t:\n",
    "        simulate_x.append(energy_1)\n",
    "    else:\n",
    "        simulate_x.append(0.2 * energy_1)\n",
    "simulate_x = simulate_x*num_weekdays\n",
    "\n",
    "# Sunday\n",
    "for t in range(0, num_obs, 1):\n",
    "    if getup_t <= t < breakfast_t:\n",
    "        simulate_x.append(energy_1)\n",
    "    elif breakfast_t <= t < dinner_t:\n",
    "        simulate_x.append(0.6 * energy_1)\n",
    "    elif dinner_t <= t < sleep_t:\n",
    "        simulate_x.append(energy_1)\n",
    "    else:\n",
    "        simulate_x.append(0.2 * energy_1)\n",
    "simulate_x = simulate_x*num_weeks\n",
    "\n",
    "noise = np.random.normal(energy_1/25, energy_1/10, (num_samples, ))"
   ]
  },
  {
   "cell_type": "code",
   "execution_count": 11,
   "id": "5c7d4274-53be-4404-81e6-ac976d2e7b46",
   "metadata": {},
   "outputs": [
    {
     "data": {
      "image/png": "[encoded data removed]",
      "text/plain": [
       "<Figure size 432x288 with 1 Axes>"
      ]
     },
     "metadata": {
      "needs_background": "light"
     },
     "output_type": "display_data"
    }
   ],
   "source": [
    "simulate_x = simulate_x + noise\n",
    "simulate_x = [0.1*1e6 if val < 0 else val for val in simulate_x]\n",
    "\n",
    "plt.plot(simulate_x[:48*7])\n",
    "plt.xticks(range(1, 48*7, 47))\n",
    "plt.ylim([0, 2.5e6])\n",
    "plt.show()"
   ]
  },
  {
   "cell_type": "code",
   "execution_count": 12,
   "id": "1bec2771-8887-45ad-9ccf-c46d04744433",
   "metadata": {},
   "outputs": [],
   "source": [
    "simulate_y = [1, 1, 1, 0, 0, 0, 0, 0, 0, 0, 0, 1, 1, 1, 1, 1]*num_weekdays\n",
    "simulate_y.extend([1] * 16)\n",
    "simulate_y = simulate_y * num_weeks\n",
    "\n",
    "simulate_y = pd.DataFrame(simulate_y)"
   ]
  },
  {
   "cell_type": "markdown",
   "id": "389ce120-c391-4c7d-96a5-5229e2e3a42f",
   "metadata": {},
   "source": [
    "# Feature Extraction"
   ]
  },
  {
   "cell_type": "code",
   "execution_count": 14,
   "id": "b7cc7809-45c5-400c-a057-48ff240731b6",
   "metadata": {},
   "outputs": [],
   "source": [
    "means, maxs, mins, stds, ranges = get_x_y.create_features(energy=simulate_x)\n",
    "times = [t for t in range(0, 24, 1)]*(num_weekdays+1)*num_weeks\n",
    "seasons = [1 for i in range(int(num_samples/2))]\n",
    "is_sundays = [0 for i in range(int(num_samples/2))]\n",
    "\n",
    "features_sum = pd.DataFrame({\n",
    "    \"Mean\": means, \"Max\": maxs,\n",
    "    \"Min\": mins, \"Std\": stds, \"Range\": ranges,\n",
    "    \"Time\": times, \"Season\": seasons, \"Sunday\": is_sundays\n",
    "    })"
   ]
  },
  {
   "cell_type": "code",
   "execution_count": 15,
   "id": "5dfdbf85-88a4-47e1-b675-7bba7c2cf5d5",
   "metadata": {},
   "outputs": [],
   "source": [
    "features_sum = features_sum[(features_sum.Time > 5) & (features_sum.Time < 22)]\n",
    "am_pm = get_x_y.get_am_pm(times=features_sum[\"Time\"])\n",
    "features_sum = features_sum.drop(columns=\"Time\")\n",
    "features_sum = features_sum.reset_index(drop=True)\n",
    "features_sum = pd.concat([features_sum, am_pm], axis=1)\n",
    "features_sum = features_sum.rename({0: \"Am\", 1: \"Lunch\", 2: \"Pm\"}, axis=1)\n",
    "\n",
    "features_sum = features_sum.reindex([\n",
    "    'Mean', 'Max', 'Min', 'Std',\n",
    "    'Range', 'Season', 'Sunday',\n",
    "    'Am', 'Lunch', 'Pm'\n",
    "    ], axis=1)"
   ]
  },
  {
   "cell_type": "code",
   "execution_count": 16,
   "id": "e900db43-c8d0-4e60-9bf2-ea629d41a394",
   "metadata": {},
   "outputs": [],
   "source": [
    "features_sum.to_csv(\"X_simulate.csv\", index=False)\n",
    "simulate_y.to_csv(\"Y_simulate.csv\", index=False)"
   ]
  }
 ],
 "metadata": {
  "kernelspec": {
   "display_name": "Python 3 (ipykernel)",
   "language": "python",
   "name": "python3"
  },
  "language_info": {
   "codemirror_mode": {
    "name": "ipython",
    "version": 3
   },
   "file_extension": ".py",
   "mimetype": "text/x-python",
   "name": "python",
   "nbconvert_exporter": "python",
   "pygments_lexer": "ipython3",
   "version": "3.8.8"
  }
 },
 "nbformat": 4,
 "nbformat_minor": 5
}
