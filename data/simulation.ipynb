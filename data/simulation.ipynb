{
 "cells": [
  {
   "cell_type": "markdown",
   "id": "8e0e71aa-6adc-4360-8de0-fcf90e21486e",
   "metadata": {},
   "source": [
    "# Import Module"
   ]
  },
  {
   "cell_type": "code",
   "execution_count": 2,
   "id": "930d73b6-dc62-4e89-a265-fe591221c861",
   "metadata": {},
   "outputs": [],
   "source": [
    "import matplotlib.pyplot as plt\n",
    "import numpy as np\n",
    "import pandas as pd\n",
    "\n",
    "import get_x_y"
   ]
  },
  {
   "cell_type": "markdown",
   "id": "6aa8f192-de43-4ee6-8e2f-99d7438687d9",
   "metadata": {},
   "source": [
    "# Free Params"
   ]
  },
  {
   "cell_type": "code",
   "execution_count": 35,
   "id": "39e6ec6f-6558-49c4-b9ae-82412c49107b",
   "metadata": {},
   "outputs": [],
   "source": [
    "num_obs = 48\n",
    "num_days = 5\n",
    "num_samples = num_obs*num_days\n",
    "\n",
    "energy_1 = 1e6\n",
    "energy_0 = 0.2*1e6\n",
    "\n",
    "breakfast_t = 18\n",
    "dinner_t = 35"
   ]
  },
  {
   "cell_type": "markdown",
   "id": "271d7325-9181-4790-8e02-31b3a09395fe",
   "metadata": {},
   "source": [
    "# Generate Data"
   ]
  },
  {
   "cell_type": "code",
   "execution_count": 36,
   "id": "58ee626d-0db9-4970-9569-7d98cab55fbc",
   "metadata": {},
   "outputs": [],
   "source": [
    "test_x = []\n",
    "\n",
    "for t in range(0, num_obs, 1):\n",
    "    if t < breakfast_t:\n",
    "        test_x.append(energy_1)\n",
    "    elif dinner_t < t:\n",
    "        test_x.append(energy_1)\n",
    "    else:\n",
    "        test_x.append(energy_0)\n",
    "\n",
    "test_x = test_x*num_days\n",
    "noise = np.random.normal(energy_1/25, energy_1/10, (num_samples, ))"
   ]
  },
  {
   "cell_type": "code",
   "execution_count": 37,
   "id": "5c7d4274-53be-4404-81e6-ac976d2e7b46",
   "metadata": {},
   "outputs": [
    {
     "data": {
      "image/png": "[encoded data removed]",
      "text/plain": [
       "<Figure size 432x288 with 1 Axes>"
      ]
     },
     "metadata": {
      "needs_background": "light"
     },
     "output_type": "display_data"
    }
   ],
   "source": [
    "plt.plot(test_x + noise)\n",
    "plt.xticks(range(1, num_samples, 47))\n",
    "plt.ylim([0, 2.5e6])\n",
    "plt.show()"
   ]
  },
  {
   "cell_type": "code",
   "execution_count": 38,
   "id": "1bec2771-8887-45ad-9ccf-c46d04744433",
   "metadata": {},
   "outputs": [],
   "source": [
    "test_y = [1, 1, 1, 0, 0, 0, 0, 0, 0, 0, 0, 0, 1, 1, 1, 1]*num_days\n",
    "test_y = pd.DataFrame(test_y)"
   ]
  },
  {
   "cell_type": "markdown",
   "id": "389ce120-c391-4c7d-96a5-5229e2e3a42f",
   "metadata": {},
   "source": [
    "# Feature Extraction"
   ]
  },
  {
   "cell_type": "code",
   "execution_count": 39,
   "id": "b7cc7809-45c5-400c-a057-48ff240731b6",
   "metadata": {},
   "outputs": [],
   "source": [
    "means, maxs, mins, stds, ranges = get_x_y.create_features(energy=(test_x + noise))\n",
    "times = [t for t in range(0, 24, 1)] * num_days\n",
    "seasons = [1 for i in range(int(num_samples/2))]\n",
    "is_sundays = [0 for i in range(int(num_samples/2))]\n",
    "ratio_sum = means / max(means)\n",
    "\n",
    "features_sum = pd.DataFrame({\n",
    "    \"Ratio\": ratio_sum, \"Mean\": means, \"Max\": maxs,\n",
    "    \"Min\": mins, \"Std\": stds, \"Range\": ranges,\n",
    "    \"Time\": times, \"Season\": seasons, \"Sunday\": is_sundays\n",
    "    })"
   ]
  },
  {
   "cell_type": "code",
   "execution_count": 40,
   "id": "5dfdbf85-88a4-47e1-b675-7bba7c2cf5d5",
   "metadata": {},
   "outputs": [],
   "source": [
    "features_sum[\"Lag-1_Ratio\"] = np.append(0.5, features_sum[\"Ratio\"].values[:-1])\n",
    "features_sum[\"Lag+1_Ratio\"] = np.append(features_sum[\"Ratio\"].values[1:], 0.5)\n",
    "\n",
    "features_sum = features_sum[(features_sum.Time > 5) & (features_sum.Time < 22)]\n",
    "am_pm = get_x_y.get_am_pm(times=features_sum[\"Time\"])\n",
    "features_sum = features_sum.drop(columns=\"Time\")\n",
    "features_sum = features_sum.reset_index(drop=True)\n",
    "features_sum = pd.concat([features_sum, am_pm], axis=1)\n",
    "features_sum = features_sum.rename({0: \"Am\", 1: \"Lunch\", 2: \"Pm\"}, axis=1)\n",
    "\n",
    "features_sum = features_sum.reindex([\n",
    "    'Ratio', 'Mean', 'Max', 'Min',\n",
    "    'Std', 'Range', 'Lag-1_Ratio', 'Lag+1_Ratio',\n",
    "    'Season', 'Sunday', 'Am', 'Lunch', 'Pm'\n",
    "    ], axis=1)"
   ]
  },
  {
   "cell_type": "code",
   "execution_count": 41,
   "id": "e900db43-c8d0-4e60-9bf2-ea629d41a394",
   "metadata": {},
   "outputs": [],
   "source": [
    "features_sum.to_csv(\"attention_X_test.csv\", index=False)\n",
    "test_y.to_csv(\"attention_Y_test.csv\", index=False)"
   ]
  }
 ],
 "metadata": {
  "kernelspec": {
   "display_name": "Python 3 (ipykernel)",
   "language": "python",
   "name": "python3"
  },
  "language_info": {
   "codemirror_mode": {
    "name": "ipython",
    "version": 3
   },
   "file_extension": ".py",
   "mimetype": "text/x-python",
   "name": "python",
   "nbconvert_exporter": "python",
   "pygments_lexer": "ipython3",
   "version": "3.8.8"
  }
 },
 "nbformat": 4,
 "nbformat_minor": 5
}
