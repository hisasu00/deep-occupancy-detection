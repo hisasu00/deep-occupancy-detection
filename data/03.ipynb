{
 "cells": [
  {
   "attachments": {},
   "cell_type": "markdown",
   "metadata": {},
   "source": [
    "# **Import Object**"
   ]
  },
  {
   "cell_type": "code",
   "execution_count": 1,
   "metadata": {},
   "outputs": [],
   "source": [
    "from datetime import datetime as dt\n",
    "import datetime\n",
    "\n",
    "import matplotlib.pyplot as plt\n",
    "import numpy as np\n",
    "import pandas as pd\n",
    "\n",
    "import get_x_y"
   ]
  },
  {
   "attachments": {},
   "cell_type": "markdown",
   "metadata": {},
   "source": [
    "# **Load Energy**"
   ]
  },
  {
   "cell_type": "code",
   "execution_count": 2,
   "metadata": {},
   "outputs": [
    {
     "name": "stdout",
     "output_type": "stream",
     "text": [
      "2012-10-15:FileNotFoundError\n",
      "skip this date\n",
      "2012-10-16:FileNotFoundError\n",
      "skip this date\n",
      "2012-10-17:FileNotFoundError\n",
      "skip this date\n",
      "2012-10-18:FileNotFoundError\n",
      "skip this date\n",
      "2012-10-19:FileNotFoundError\n",
      "skip this date\n",
      "2012-10-20:FileNotFoundError\n",
      "skip this date\n",
      "2012-10-21:FileNotFoundError\n",
      "skip this date\n",
      "2012-10-22:FileNotFoundError\n",
      "skip this date\n",
      "2012-10-23:FileNotFoundError\n",
      "skip this date\n",
      "2012-10-24:FileNotFoundError\n",
      "skip this date\n",
      "2012-10-25:FileNotFoundError\n",
      "skip this date\n",
      "2012-10-26:FileNotFoundError\n",
      "skip this date\n",
      "2012-10-27:FileNotFoundError\n",
      "skip this date\n",
      "2012-10-28:FileNotFoundError\n",
      "skip this date\n",
      "2012-10-29:FileNotFoundError\n",
      "skip this date\n",
      "2012-10-30:FileNotFoundError\n",
      "skip this date\n",
      "2012-10-31:FileNotFoundError\n",
      "skip this date\n",
      "2012-12-01:FileNotFoundError\n",
      "skip this date\n",
      "2012-12-02:FileNotFoundError\n",
      "skip this date\n",
      "2012-12-03:FileNotFoundError\n",
      "skip this date\n",
      "2012-12-04:FileNotFoundError\n",
      "skip this date\n",
      "2012-12-05:FileNotFoundError\n",
      "skip this date\n",
      "2012-10-15:FileNotFoundError\n",
      "skip this date\n",
      "2012-10-16:FileNotFoundError\n",
      "skip this date\n",
      "2012-10-17:FileNotFoundError\n",
      "skip this date\n",
      "2012-10-18:FileNotFoundError\n",
      "skip this date\n",
      "2012-10-19:FileNotFoundError\n",
      "skip this date\n",
      "2012-10-20:FileNotFoundError\n",
      "skip this date\n",
      "2012-10-21:FileNotFoundError\n",
      "skip this date\n",
      "2012-10-22:FileNotFoundError\n",
      "skip this date\n",
      "2012-10-23:FileNotFoundError\n",
      "skip this date\n",
      "2012-10-24:FileNotFoundError\n",
      "skip this date\n",
      "2012-10-25:FileNotFoundError\n",
      "skip this date\n",
      "2012-10-26:FileNotFoundError\n",
      "skip this date\n",
      "2012-10-27:FileNotFoundError\n",
      "skip this date\n",
      "2012-10-28:FileNotFoundError\n",
      "skip this date\n",
      "2012-10-29:FileNotFoundError\n",
      "skip this date\n",
      "2012-10-30:FileNotFoundError\n",
      "skip this date\n",
      "2012-10-31:FileNotFoundError\n",
      "skip this date\n",
      "2012-12-01:FileNotFoundError\n",
      "skip this date\n",
      "2012-12-02:FileNotFoundError\n",
      "skip this date\n",
      "2012-12-03:FileNotFoundError\n",
      "skip this date\n",
      "2012-12-04:FileNotFoundError\n",
      "skip this date\n",
      "2012-12-05:FileNotFoundError\n",
      "skip this date\n"
     ]
    }
   ],
   "source": [
    "energy_8_10_60m = get_x_y.get_target_energy(house_id=3,\n",
    "                                            target_months=[8, 9, 10],\n",
    "                                            intervals=3600)\n",
    "energy_12_1_60m = get_x_y.get_target_energy(3, [12, 1], 3600)\n",
    "\n",
    "energy_8_10_30m = get_x_y.get_target_energy(3, [8, 9, 10], 1800)\n",
    "energy_12_1_30m = get_x_y.get_target_energy(3, [12, 1], 1800)"
   ]
  },
  {
   "attachments": {},
   "cell_type": "markdown",
   "metadata": {},
   "source": [
    "# **Load Occupancy**"
   ]
  },
  {
   "cell_type": "code",
   "execution_count": 3,
   "metadata": {},
   "outputs": [],
   "source": [
    "occupancy_sum = pd.read_csv('./ecodataset/Occupancy/03_summer.csv')\n",
    "occupancy_sum = occupancy_sum.set_index('Unnamed: 0')\n",
    "\n",
    "occupancy_win = pd.read_csv('./ecodataset/Occupancy/03_winter.csv')\n",
    "occupancy_win = occupancy_win.set_index('Unnamed: 0')"
   ]
  },
  {
   "cell_type": "code",
   "execution_count": 4,
   "metadata": {},
   "outputs": [],
   "source": [
    "occupancy_sum = get_x_y.to_intervals_occupancy(occupancies=occupancy_sum,\n",
    "                                               intervals=1800)\n",
    "occupancy_win = get_x_y.to_intervals_occupancy(occupancy_win, 1800)"
   ]
  },
  {
   "cell_type": "code",
   "execution_count": 5,
   "metadata": {},
   "outputs": [],
   "source": [
    "occupancy_sum = occupancy_sum.T[10:].T\n",
    "occupancy_win = occupancy_win.T[3:].T\n",
    "# sliced periods don't have data for 2 weeks before"
   ]
  },
  {
   "attachments": {},
   "cell_type": "markdown",
   "metadata": {},
   "source": [
    "# **Create Ratio**"
   ]
  },
  {
   "cell_type": "code",
   "execution_count": 6,
   "metadata": {},
   "outputs": [],
   "source": [
    "ratio_sum = get_x_y.build_ratio(date_columns=occupancy_sum.columns,\n",
    "                                energies=energy_8_10_60m)\n",
    "ratio_win = get_x_y.build_ratio(occupancy_win.columns, energy_12_1_60m)"
   ]
  },
  {
   "attachments": {},
   "cell_type": "markdown",
   "metadata": {},
   "source": [
    "# **Create Features**"
   ]
  },
  {
   "cell_type": "code",
   "execution_count": 7,
   "metadata": {},
   "outputs": [],
   "source": [
    "energy_sum = get_x_y.get_corresponding_energy(\n",
    "    occupancy_columns=occupancy_sum.columns,\n",
    "    energies=energy_8_10_30m)"
   ]
  },
  {
   "cell_type": "code",
   "execution_count": 8,
   "metadata": {},
   "outputs": [],
   "source": [
    "energy_win = get_x_y.get_corresponding_energy(occupancy_win.columns,\n",
    "                                              energy_12_1_30m)"
   ]
  },
  {
   "cell_type": "code",
   "execution_count": 9,
   "metadata": {},
   "outputs": [],
   "source": [
    "features_sum = pd.DataFrame()\n",
    "features_sum[\"Energy\"] = energy_sum\n",
    "features_sum[\"Season\"] = 1\n",
    "features_sum[\"Time\"] = [t for t in range(0, 48, 1)] * len(occupancy_sum.columns)\n",
    "features_sum = features_sum[(features_sum.Time >= 12) & (features_sum.Time < 44)]\n",
    "\n",
    "features_win = pd.DataFrame()\n",
    "features_win[\"Energy\"] = energy_win\n",
    "features_win[\"Season\"] = 0\n",
    "features_win[\"Time\"] = [t for t in range(0, 48, 1)] * len(occupancy_win.columns)\n",
    "features_win = features_win[(features_win.Time >= 12) & (features_win.Time < 44)]"
   ]
  },
  {
   "cell_type": "code",
   "execution_count": 10,
   "metadata": {},
   "outputs": [],
   "source": [
    "occupancy_sum = occupancy_sum[12:44].values.T.reshape(-1)\n",
    "occupancy_sum = pd.DataFrame(occupancy_sum, columns=[\"Occupancy\"])\n",
    "\n",
    "occupancy_win = occupancy_win[12:44].values.T.reshape(-1)\n",
    "occupancy_win = pd.DataFrame(occupancy_win, columns=[\"Occupancy\"])"
   ]
  },
  {
   "cell_type": "code",
   "execution_count": 11,
   "metadata": {},
   "outputs": [],
   "source": [
    "X = pd.concat([features_sum, features_win], axis=0)\n",
    "Y = pd.concat([occupancy_sum, occupancy_win], axis=0)"
   ]
  },
  {
   "cell_type": "code",
   "execution_count": 12,
   "metadata": {},
   "outputs": [],
   "source": [
    "X.to_csv(\"3_X_train.csv\", index=False)\n",
    "Y.to_csv(\"3_Y_train.csv\", index=False)"
   ]
  }
 ],
 "metadata": {
  "kernelspec": {
   "display_name": "Python 3 (ipykernel)",
   "language": "python",
   "name": "python3"
  },
  "language_info": {
   "codemirror_mode": {
    "name": "ipython",
    "version": 3
   },
   "file_extension": ".py",
   "mimetype": "text/x-python",
   "name": "python",
   "nbconvert_exporter": "python",
   "pygments_lexer": "ipython3",
   "version": "3.8.8"
  }
 },
 "nbformat": 4,
 "nbformat_minor": 4
}
