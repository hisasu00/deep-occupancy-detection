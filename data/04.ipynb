{
 "cells": [
  {
   "attachments": {},
   "cell_type": "markdown",
   "metadata": {},
   "source": [
    "# **Import Object**"
   ]
  },
  {
   "cell_type": "code",
   "execution_count": 1,
   "metadata": {},
   "outputs": [],
   "source": [
    "from datetime import datetime as dt\n",
    "import datetime\n",
    "\n",
    "import matplotlib.pyplot as plt\n",
    "import numpy as np\n",
    "import pandas as pd\n",
    "\n",
    "import get_x_y"
   ]
  },
  {
   "attachments": {},
   "cell_type": "markdown",
   "metadata": {},
   "source": [
    "# **Load Energy**"
   ]
  },
  {
   "cell_type": "code",
   "execution_count": 2,
   "metadata": {},
   "outputs": [],
   "source": [
    "energy_7_9_60m = get_x_y.get_target_energy(house_id=4,\n",
    "                                           target_months=[7, 8, 9],\n",
    "                                           intervals=3600)\n",
    "energy_11_1_60m = get_x_y.get_target_energy(4, [11, 12, 1], 3600)\n",
    "\n",
    "energy_7_9_30m = get_x_y.get_target_energy(4, [7, 8, 9], 1800)\n",
    "energy_11_1_30m = get_x_y.get_target_energy(4, [11, 12, 1], 1800)"
   ]
  },
  {
   "attachments": {},
   "cell_type": "markdown",
   "metadata": {},
   "source": [
    "# **Load Occupancy**"
   ]
  },
  {
   "cell_type": "code",
   "execution_count": 3,
   "metadata": {},
   "outputs": [],
   "source": [
    "occupancy_sum = pd.read_csv('./ecodataset/Occupancy/04_summer.csv')\n",
    "occupancy_sum = occupancy_sum.set_index('Unnamed: 0')\n",
    "\n",
    "occupancy_win = pd.read_csv('./ecodataset/Occupancy/04_winter.csv')\n",
    "occupancy_win = occupancy_win.set_index('Unnamed: 0')"
   ]
  },
  {
   "cell_type": "code",
   "execution_count": 4,
   "metadata": {},
   "outputs": [],
   "source": [
    "occupancy_sum = get_x_y.to_intervals_occupancy(occupancies=occupancy_sum,\n",
    "                                               intervals=1800)\n",
    "occupancy_win = get_x_y.to_intervals_occupancy(occupancy_win, 1800)"
   ]
  },
  {
   "attachments": {},
   "cell_type": "markdown",
   "metadata": {},
   "source": [
    "# **Create Ratio**"
   ]
  },
  {
   "cell_type": "code",
   "execution_count": 5,
   "metadata": {},
   "outputs": [],
   "source": [
    "ratio_sum = get_x_y.build_ratio(date_columns=occupancy_sum.columns,\n",
    "                                energies=energy_7_9_60m)\n",
    "ratio_win = get_x_y.build_ratio(occupancy_win.columns, energy_11_1_60m)"
   ]
  },
  {
   "attachments": {},
   "cell_type": "markdown",
   "metadata": {},
   "source": [
    "# **Create Features**"
   ]
  },
  {
   "cell_type": "code",
   "execution_count": 6,
   "metadata": {},
   "outputs": [],
   "source": [
    "energy_sum = get_x_y.get_corresponding_energy(\n",
    "    occupancy_columns=occupancy_sum.columns,\n",
    "    energies=energy_7_9_30m)"
   ]
  },
  {
   "cell_type": "code",
   "execution_count": 7,
   "metadata": {},
   "outputs": [],
   "source": [
    "energy_win = get_x_y.get_corresponding_energy(occupancy_win.columns,\n",
    "                                              energy_11_1_30m)"
   ]
  },
  {
   "cell_type": "code",
   "execution_count": 8,
   "metadata": {},
   "outputs": [],
   "source": [
    "features_sum = pd.DataFrame()\n",
    "features_sum[\"Energy\"] = energy_sum\n",
    "features_sum[\"Season\"] = 1\n",
    "features_sum[\"Time\"] = [t for t in range(0, 48, 1)] * len(occupancy_sum.columns)\n",
    "features_sum = features_sum[(features_sum.Time >= 12) & (features_sum.Time < 44)]\n",
    "\n",
    "features_win = pd.DataFrame()\n",
    "features_win[\"Energy\"] = energy_win\n",
    "features_win[\"Season\"] = 0\n",
    "features_win[\"Time\"] = [t for t in range(0, 48, 1)] * len(occupancy_win.columns)\n",
    "features_win = features_win[(features_win.Time >= 12) & (features_win.Time < 44)]"
   ]
  },
  {
   "cell_type": "code",
   "execution_count": 9,
   "metadata": {},
   "outputs": [],
   "source": [
    "occupancy_sum = occupancy_sum[12:44].values.T.reshape(-1)\n",
    "occupancy_sum = pd.DataFrame(occupancy_sum, columns=[\"Occupancy\"])\n",
    "\n",
    "occupancy_win = occupancy_win[12:44].values.T.reshape(-1)\n",
    "occupancy_win = pd.DataFrame(occupancy_win, columns=[\"Occupancy\"])"
   ]
  },
  {
   "cell_type": "code",
   "execution_count": 10,
   "metadata": {},
   "outputs": [],
   "source": [
    "X = pd.concat([features_sum, features_win], axis=0)\n",
    "Y = pd.concat([occupancy_sum, occupancy_win], axis=0)"
   ]
  },
  {
   "cell_type": "code",
   "execution_count": 11,
   "metadata": {},
   "outputs": [],
   "source": [
    "X.to_csv(\"4_X_train.csv\", index=False)\n",
    "Y.to_csv(\"4_Y_train.csv\", index=False)"
   ]
  }
 ],
 "metadata": {
  "kernelspec": {
   "display_name": "Python 3 (ipykernel)",
   "language": "python",
   "name": "python3"
  },
  "language_info": {
   "codemirror_mode": {
    "name": "ipython",
    "version": 3
   },
   "file_extension": ".py",
   "mimetype": "text/x-python",
   "name": "python",
   "nbconvert_exporter": "python",
   "pygments_lexer": "ipython3",
   "version": "3.8.8"
  }
 },
 "nbformat": 4,
 "nbformat_minor": 4
}
